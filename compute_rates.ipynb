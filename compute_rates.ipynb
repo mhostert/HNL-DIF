{
 "cells": [
  {
   "cell_type": "markdown",
   "id": "reliable-grounds",
   "metadata": {},
   "source": [
    "# Batch computation\n",
    "\n",
    "This notebook computes event rate at T2K and PS191 throughout the parameter space. Sometimes we compute the lifetime as well."
   ]
  },
  {
   "cell_type": "code",
   "execution_count": 1,
   "id": "statutory-validation",
   "metadata": {},
   "outputs": [],
   "source": [
    "%load_ext autoreload\n",
    "%autoreload 2"
   ]
  },
  {
   "cell_type": "code",
   "execution_count": 2,
   "id": "likely-jefferson",
   "metadata": {},
   "outputs": [],
   "source": [
    "import numpy as np\n",
    "from scipy import interpolate\n",
    "\n",
    "import pathos.multiprocessing as mp\n",
    "from pathos.multiprocessing import ProcessingPool as Pool\n",
    "\n",
    "from functools import partial\n",
    "\n",
    "from particle import *\n",
    "from particle import literals as lp\n",
    "\n",
    "from hnl_apps import *\n",
    "from hnl_apps.plot_tools import *\n",
    "from hnl_apps.const import *\n",
    "\n",
    "from Nlimits import *\n",
    "from Nlimits.constraint_dict import *\n",
    "from Nlimits.plotter import *"
   ]
  },
  {
   "cell_type": "code",
   "execution_count": 3,
   "id": "eastern-depression",
   "metadata": {},
   "outputs": [],
   "source": [
    "# set up grid\n",
    "gridx = 100\n",
    "gridy = 50\n",
    "\n",
    "M4 = np.linspace(0.02,(m_neutral_kaon - m_mu), gridx)\n",
    "USQR = np.logspace(-9,-2, gridy) \n",
    "X,Y = np.meshgrid(M4,USQR)\n",
    "m4_grid, usqr_grid = X.flatten(), Y.flatten()"
   ]
  },
  {
   "cell_type": "markdown",
   "id": "combined-grass",
   "metadata": {},
   "source": [
    "### T2K"
   ]
  },
  {
   "cell_type": "code",
   "execution_count": 21,
   "id": "logical-manor",
   "metadata": {},
   "outputs": [
    {
     "data": {
      "text/plain": [
       "<multiprocess.pool.Pool state=RUN pool_size=8>"
      ]
     },
     "execution_count": 21,
     "metadata": {},
     "output_type": "execute_result"
    }
   ],
   "source": [
    "# compute rate and lifetimes\n",
    "tot_cores = mp.cpu_count()\n",
    "pool = Pool(tot_cores)\n",
    "############\n",
    "\n",
    "get_event_partial = partial(hnl_tools.get_event_rate, flavor_struct=[0.0,1.0,0.0], detector = nd280)\n",
    "event_rate_weak = pool.map(get_event_partial, ((m4, usqr) for m4, usqr in zip(m4_grid, usqr_grid)))\n",
    "\n",
    "get_lifetime_partial = partial(hnl_tools.get_lifetime, flavor_struct=[0.0,1.0,0.0])\n",
    "lifetime_weak = pool.map(get_lifetime_partial, ((m4, usqr) for m4, usqr in zip(m4_grid, usqr_grid)))\n",
    "\n",
    "############\n",
    "pool.terminate()\n",
    "pool.restart()"
   ]
  },
  {
   "cell_type": "code",
   "execution_count": 22,
   "id": "present-cleaners",
   "metadata": {},
   "outputs": [],
   "source": [
    "# Save to file\n",
    "table_T2K_minimal = np.array([m4_grid, usqr_grid, lifetime_weak, event_rate_weak])\n",
    "np.save(\"limits_computed/T2K_minimal_Umu4\",table_T2K_minimal)\n",
    "np.savetxt(\"limits_computed/T2K_minimal_Umu4.dat\",table_T2K_minimal, header=\" m4(GeV) USQR tau0(s) event_rate\")"
   ]
  },
  {
   "cell_type": "markdown",
   "id": "swiss-grammar",
   "metadata": {},
   "source": [
    "### PS191"
   ]
  },
  {
   "cell_type": "code",
   "execution_count": 96,
   "id": "treated-burner",
   "metadata": {},
   "outputs": [
    {
     "data": {
      "text/plain": [
       "<multiprocess.pool.Pool state=RUN pool_size=8>"
      ]
     },
     "execution_count": 96,
     "metadata": {},
     "output_type": "execute_result"
    }
   ],
   "source": [
    "# compute rate and lifetimes\n",
    "tot_cores = mp.cpu_count()\n",
    "pool = Pool(tot_cores)\n",
    "############\n",
    "\n",
    "get_event_partial = partial(hnl_tools.get_event_rate, flavor_struct=[0.0,1.0,0.0], detector = ps191)\n",
    "event_rate_weak_ps191 = pool.map(get_event_partial, ((m4, usqr) for m4, usqr in zip(m4_grid, usqr_grid)))\n",
    "\n",
    "############\n",
    "pool.terminate()\n",
    "pool.restart()\n"
   ]
  },
  {
   "cell_type": "code",
   "execution_count": 97,
   "id": "smooth-applicant",
   "metadata": {},
   "outputs": [],
   "source": [
    "# Save to file\n",
    "table_PS191_minimal = np.array([m4_grid, usqr_grid, lifetime_weak, event_rate_weak_ps191])\n",
    "np.save(\"limits_computed/PS191_minimal_Umu4\",table_PS191_minimal)\n",
    "np.savetxt(\"limits_computed/PS191_minimal_Umu4.dat\",table_PS191_minimal, header=\" m4(GeV) USQR tau0(s) event_rate\")"
   ]
  },
  {
   "cell_type": "markdown",
   "id": "surprised-montgomery",
   "metadata": {},
   "source": [
    "# Magnetic moment transition"
   ]
  },
  {
   "cell_type": "markdown",
   "id": "concerned-convergence",
   "metadata": {},
   "source": [
    "## d = 1 PeV^-1 "
   ]
  },
  {
   "cell_type": "code",
   "execution_count": 98,
   "id": "close-invite",
   "metadata": {},
   "outputs": [],
   "source": [
    "# set up grid\n",
    "gridx = 100\n",
    "gridy = 50\n",
    "\n",
    "M4 = np.linspace(0.02,(m_neutral_kaon - m_mu), gridx)\n",
    "USQR = np.logspace(-14,-4, gridy) \n",
    "X,Y = np.meshgrid(M4,USQR)\n",
    "m4_grid, usqr_grid = X.flatten(), Y.flatten()\n",
    "\n",
    "dipoles = {'dip_mu4': 5e-7}"
   ]
  },
  {
   "cell_type": "markdown",
   "id": "environmental-narrative",
   "metadata": {},
   "source": [
    "### T2K"
   ]
  },
  {
   "cell_type": "code",
   "execution_count": 99,
   "id": "hidden-portuguese",
   "metadata": {
    "scrolled": true
   },
   "outputs": [
    {
     "data": {
      "text/plain": [
       "<multiprocess.pool.Pool state=RUN pool_size=8>"
      ]
     },
     "execution_count": 99,
     "metadata": {},
     "output_type": "execute_result"
    }
   ],
   "source": [
    "# compute rate and lifetimes\n",
    "tot_cores = mp.cpu_count()\n",
    "pool = Pool(tot_cores)\n",
    "############\n",
    "\n",
    "get_event_partial = partial(hnl_tools.get_event_rate, flavor_struct=[0.0,1.0,0.0], dipoles=dipoles, detector = nd280)\n",
    "event_rate_dipole = pool.map(get_event_partial, ((m4, usqr) for m4, usqr in zip(m4_grid, usqr_grid)))\n",
    "get_lifetime_partial = partial(hnl_tools.get_lifetime, flavor_struct=[0.0,1.0,0.0], dipoles=dipoles)\n",
    "lifetime_dipole = pool.map(get_lifetime_partial, ((m4, usqr) for m4, usqr in zip(m4_grid, usqr_grid)))\n",
    "\n",
    "############\n",
    "pool.terminate()\n",
    "pool.restart()"
   ]
  },
  {
   "cell_type": "code",
   "execution_count": 100,
   "id": "reserved-festival",
   "metadata": {},
   "outputs": [],
   "source": [
    "# Save to file\n",
    "table_T2K_magmoment = np.array([m4_grid, usqr_grid, lifetime_dipole, event_rate_dipole])\n",
    "np.save(\"limits_computed/T2K_mag_mom_Umu4\",table_T2K_magmoment)\n",
    "np.savetxt(\"limits_computed/T2K_mag_mom_Umu4.dat\",table_T2K_magmoment, header=\" m4(GeV) USQR tau0(s) event_rate\")"
   ]
  },
  {
   "cell_type": "markdown",
   "id": "informed-domestic",
   "metadata": {},
   "source": [
    "### PS191"
   ]
  },
  {
   "cell_type": "code",
   "execution_count": 101,
   "id": "considerable-parcel",
   "metadata": {},
   "outputs": [
    {
     "data": {
      "text/plain": [
       "<multiprocess.pool.Pool state=RUN pool_size=8>"
      ]
     },
     "execution_count": 101,
     "metadata": {},
     "output_type": "execute_result"
    }
   ],
   "source": [
    "# compute rate and lifetimes\n",
    "tot_cores = mp.cpu_count()\n",
    "pool = Pool(tot_cores)\n",
    "############\n",
    "\n",
    "get_event_partial = partial(hnl_tools.get_event_rate, flavor_struct=[0.0,1.0,0.0], dipoles=dipoles, detector = ps191)\n",
    "event_rate_dipole_PS191 = pool.map(get_event_partial, ((m4, usqr) for m4, usqr in zip(m4_grid, usqr_grid)))\n",
    "get_lifetime_partial = partial(hnl_tools.get_lifetime, flavor_struct=[0.0,1.0,0.0], dipoles=dipoles)\n",
    "lifetime_dipole_PS191 = pool.map(get_lifetime_partial, ((m4, usqr) for m4, usqr in zip(m4_grid, usqr_grid)))\n",
    "\n",
    "############\n",
    "pool.terminate()\n",
    "pool.restart()"
   ]
  },
  {
   "cell_type": "code",
   "execution_count": 102,
   "id": "polished-newark",
   "metadata": {},
   "outputs": [],
   "source": [
    "# Save to file\n",
    "table_PS191_mag_mom = np.array([m4_grid, usqr_grid, lifetime_dipole_PS191, event_rate_dipole_PS191])\n",
    "np.save(\"limits_computed/PS191_mag_mom_Umu4\",table_PS191_mag_mom)\n",
    "np.savetxt(\"limits_computed/PS191_mag_mom_Umu4.dat\",table_PS191_mag_mom, header=\" m4(GeV) USQR tau0(s) event_rate\")"
   ]
  },
  {
   "cell_type": "code",
   "execution_count": 12,
   "id": "sorted-airfare",
   "metadata": {
    "scrolled": true
   },
   "outputs": [
    {
     "name": "stdout",
     "output_type": "stream",
     "text": [
      "0.7075940856030256\n",
      "1.2866704194221013\n"
     ]
    }
   ],
   "source": [
    "print(hnl_tools.get_event_rate((0.05,1e-6), flavor_struct=[0.0,1.0,0.0], dipoles={'dip_mu4': 5e-9}, detector = ps191))\n",
    "print(hnl_tools.get_event_rate((0.05,1e-6), flavor_struct=[0.0,1.0,0.0], dipoles={'dip_mu4': 5e-9}, detector = nd280))\n"
   ]
  },
  {
   "cell_type": "markdown",
   "id": "piano-uruguay",
   "metadata": {},
   "source": [
    "## Schwetz-mania -- mixing and mass\n",
    "\n",
    "d = 5e-9 GeV^-1"
   ]
  },
  {
   "cell_type": "code",
   "execution_count": 105,
   "id": "beautiful-toddler",
   "metadata": {},
   "outputs": [],
   "source": [
    "# set up grid\n",
    "gridx = 100\n",
    "gridy = 50\n",
    "\n",
    "M4 = np.linspace(0.02,(m_neutral_kaon - m_mu), gridx)\n",
    "USQR = np.logspace(-12,-4, gridy) \n",
    "X,Y = np.meshgrid(M4,USQR)\n",
    "m4_grid, usqr_grid = X.flatten(), Y.flatten()\n",
    "\n",
    "dipoles = {'dip_mu4': 5e-9}"
   ]
  },
  {
   "cell_type": "code",
   "execution_count": 106,
   "id": "composed-bikini",
   "metadata": {
    "scrolled": true
   },
   "outputs": [
    {
     "data": {
      "text/plain": [
       "<multiprocess.pool.Pool state=RUN pool_size=8>"
      ]
     },
     "execution_count": 106,
     "metadata": {},
     "output_type": "execute_result"
    }
   ],
   "source": [
    "# compute rate and lifetimes\n",
    "tot_cores = mp.cpu_count()\n",
    "pool = Pool(tot_cores)\n",
    "############\n",
    "\n",
    "get_event_partial = partial(hnl_tools.get_event_rate, flavor_struct=[0.0,1.0,0.0], dipoles=dipoles, detector=nd280)\n",
    "event_rate_dipole = pool.map(get_event_partial, ((m4, usqr) for m4, usqr in zip(m4_grid, usqr_grid)))\n",
    "get_lifetime_partial = partial(hnl_tools.get_lifetime, flavor_struct=[0.0,1.0,0.0], dipoles=dipoles)\n",
    "lifetime_dipole = pool.map(get_lifetime_partial, ((m4, usqr) for m4, usqr in zip(m4_grid, usqr_grid)))\n",
    "\n",
    "############\n",
    "pool.terminate()\n",
    "pool.restart()"
   ]
  },
  {
   "cell_type": "code",
   "execution_count": 107,
   "id": "infectious-reservoir",
   "metadata": {},
   "outputs": [],
   "source": [
    "# Save to file\n",
    "table_T2K_magmoment = np.array([m4_grid, usqr_grid, lifetime_dipole, event_rate_dipole])\n",
    "np.save(\"limits_computed/T2K_mag_mom_schwetz_Umu4\",table_T2K_magmoment)\n",
    "np.savetxt(\"limits_computed/T2K_mag_mom_schwetz_Umu4.dat\",table_T2K_magmoment, header=\" m4(GeV) USQR tau0(s) event_rate\")"
   ]
  },
  {
   "cell_type": "markdown",
   "id": "promotional-answer",
   "metadata": {},
   "source": [
    "### PS191"
   ]
  },
  {
   "cell_type": "code",
   "execution_count": 108,
   "id": "amateur-federal",
   "metadata": {},
   "outputs": [
    {
     "data": {
      "text/plain": [
       "<multiprocess.pool.Pool state=RUN pool_size=8>"
      ]
     },
     "execution_count": 108,
     "metadata": {},
     "output_type": "execute_result"
    }
   ],
   "source": [
    "# compute rate and lifetimes\n",
    "tot_cores = mp.cpu_count()\n",
    "pool = Pool(tot_cores)\n",
    "############\n",
    "\n",
    "get_event_partial = partial(hnl_tools.get_event_rate, flavor_struct=[0.0,1.0,0.0], dipoles=dipoles, detector = ps191)\n",
    "event_rate_dipole_PS191 = pool.map(get_event_partial, ((m4, usqr) for m4, usqr in zip(m4_grid, usqr_grid)))\n",
    "get_lifetime_partial = partial(hnl_tools.get_lifetime, flavor_struct=[0.0,1.0,0.0], dipoles=dipoles)\n",
    "lifetime_dipole_PS191 = pool.map(get_lifetime_partial, ((m4, usqr) for m4, usqr in zip(m4_grid, usqr_grid)))\n",
    "\n",
    "############\n",
    "pool.terminate()\n",
    "pool.restart()"
   ]
  },
  {
   "cell_type": "code",
   "execution_count": 109,
   "id": "manual-cover",
   "metadata": {},
   "outputs": [],
   "source": [
    "# Save to file\n",
    "table_PS191_mag_mom = np.array([m4_grid, usqr_grid, lifetime_dipole_PS191, event_rate_dipole_PS191])\n",
    "np.save(\"limits_computed/PS191_mag_mom_schwetz_Umu4\",table_PS191_mag_mom)\n",
    "np.savetxt(\"limits_computed/PS191_mag_mom_schwetz_Umu4.dat\",table_PS191_mag_mom, header=\" m4(GeV) USQR tau0(s) event_rate\")"
   ]
  },
  {
   "cell_type": "markdown",
   "id": "likely-society",
   "metadata": {},
   "source": [
    "# Schwetz -- dipole  vs  mixing"
   ]
  },
  {
   "cell_type": "code",
   "execution_count": 110,
   "id": "usual-disney",
   "metadata": {},
   "outputs": [],
   "source": [
    "# set up grid\n",
    "gridx = 100\n",
    "gridy = 50\n",
    "\n",
    "M4 = 0.250\n",
    "\n",
    "dmu = np.logspace(-10,-6, gridx)\n",
    "USQR = np.logspace(-14,-7, gridy) \n",
    "X,Y = np.meshgrid(dmu,USQR)\n",
    "dmu_grid, usqr_grid = X.flatten(), Y.flatten()"
   ]
  },
  {
   "cell_type": "code",
   "execution_count": 111,
   "id": "round-desert",
   "metadata": {},
   "outputs": [
    {
     "data": {
      "text/plain": [
       "<multiprocess.pool.Pool state=RUN pool_size=8>"
      ]
     },
     "execution_count": 111,
     "metadata": {},
     "output_type": "execute_result"
    }
   ],
   "source": [
    "# compute rate and lifetimes\n",
    "tot_cores = mp.cpu_count()\n",
    "pool = Pool(tot_cores)\n",
    "############\n",
    "\n",
    "get_event_partial = partial(hnl_tools.get_event_rate_w_mixing_and_dipole, m4 = M4, flavor_struct=[0.0,1.0,0.0],  detector = nd280)\n",
    "event_rate_dipole = pool.map(get_event_partial, ((dmu, usqr) for dmu, usqr in zip(dmu_grid, usqr_grid)))\n",
    "\n",
    "############\n",
    "pool.terminate()\n",
    "pool.restart()"
   ]
  },
  {
   "cell_type": "code",
   "execution_count": 112,
   "id": "exact-heading",
   "metadata": {},
   "outputs": [],
   "source": [
    "# Save to file\n",
    "table_T2K_mag_mom = np.array([dmu_grid, usqr_grid,  event_rate_dipole])\n",
    "np.save(\"limits_computed/T2K_schwetz_mag_mom_usqr\",table_T2K_mag_mom)\n",
    "np.savetxt(\"limits_computed/T2K_schwetz_mag_mom_usqr.dat\",table_T2K_mag_mom, header=\" dmu(GeV^-1) USQR event_rate\")\n"
   ]
  },
  {
   "cell_type": "markdown",
   "id": "accomplished-richmond",
   "metadata": {},
   "source": [
    "# PS191"
   ]
  },
  {
   "cell_type": "code",
   "execution_count": 113,
   "id": "periodic-ivory",
   "metadata": {},
   "outputs": [
    {
     "data": {
      "text/plain": [
       "<multiprocess.pool.Pool state=RUN pool_size=8>"
      ]
     },
     "execution_count": 113,
     "metadata": {},
     "output_type": "execute_result"
    }
   ],
   "source": [
    "# compute rate and lifetimes\n",
    "tot_cores = mp.cpu_count()\n",
    "pool = Pool(tot_cores)\n",
    "############\n",
    "\n",
    "get_event_partial = partial(hnl_tools.get_event_rate_w_mixing_and_dipole, m4 = M4, flavor_struct=[0.0,1.0,0.0], detector = ps191)\n",
    "event_rate_dipole = pool.map(get_event_partial, ((dmu, usqr) for dmu, usqr in zip(dmu_grid, usqr_grid)))\n",
    "\n",
    "############\n",
    "pool.terminate()\n",
    "pool.restart()"
   ]
  },
  {
   "cell_type": "code",
   "execution_count": 114,
   "id": "drawn-anthony",
   "metadata": {},
   "outputs": [],
   "source": [
    "# Save to file\n",
    "table_PS191_mag_mom = np.array([dmu_grid, usqr_grid,  event_rate_dipole])\n",
    "np.save(\"limits_computed/PS191_schwetz_mag_mom_usqr\",table_PS191_mag_mom)\n",
    "np.savetxt(\"limits_computed/PS191_schwetz_mag_mom_usqr.dat\",table_PS191_mag_mom, header=\" dmu(GeV^-1) USQR event_rate\")"
   ]
  },
  {
   "cell_type": "markdown",
   "id": "moral-workplace",
   "metadata": {},
   "source": [
    "# Dark Z' case"
   ]
  },
  {
   "cell_type": "code",
   "execution_count": 14,
   "id": "closing-wholesale",
   "metadata": {},
   "outputs": [],
   "source": [
    "# set up grid\n",
    "gridx = 100\n",
    "gridy = 50\n",
    "\n",
    "M4 = np.linspace(0.02,(m_neutral_kaon - m_mu), gridx)\n",
    "USQR = np.logspace(-11,-0.5, gridy) \n",
    "X,Y = np.meshgrid(M4,USQR)\n",
    "m4_grid, usqr_grid = X.flatten(), Y.flatten()\n",
    "\n",
    "dark_coupl = {'GX': Gf*1000}"
   ]
  },
  {
   "cell_type": "code",
   "execution_count": 15,
   "id": "painted-experience",
   "metadata": {
    "scrolled": true
   },
   "outputs": [
    {
     "data": {
      "text/plain": [
       "<multiprocess.pool.Pool state=RUN pool_size=8>"
      ]
     },
     "execution_count": 15,
     "metadata": {},
     "output_type": "execute_result"
    }
   ],
   "source": [
    "# compute rate and lifetime\n",
    "tot_cores = mp.cpu_count()\n",
    "pool = Pool(tot_cores)\n",
    "############\n",
    "\n",
    "get_event_partial = partial(hnl_tools.get_event_rate, flavor_struct=[0.0,1.0,0.0], dark_coupl=dark_coupl, detector = nd280)\n",
    "event_rate_darknus = pool.map(get_event_partial, ((m4, usqr) for m4, usqr in zip(m4_grid, usqr_grid)))\n",
    "get_lifetime_partial = partial(hnl_tools.get_lifetime, flavor_struct=[0.0,1.0,0.0], dark_coupl=dark_coupl)\n",
    "lifetime_darknus = pool.map(get_lifetime_partial, ((m4, usqr) for m4, usqr in zip(m4_grid, usqr_grid)))\n",
    "\n",
    "############\n",
    "pool.terminate()\n",
    "pool.restart()"
   ]
  },
  {
   "cell_type": "code",
   "execution_count": 16,
   "id": "numerous-stewart",
   "metadata": {},
   "outputs": [],
   "source": [
    "# Save to file\n",
    "table_T2K_zprime = np.array([m4_grid, usqr_grid, lifetime_darknus, event_rate_darknus])\n",
    "np.save(\"limits_computed/T2K_zprime_Umu4\",table_T2K_zprime)\n",
    "np.savetxt(\"limits_computed/T2K_zprime_Umu4.dat\",table_T2K_zprime, header=\" m4(GeV) USQR tau0(s) event_rate\")"
   ]
  },
  {
   "cell_type": "code",
   "execution_count": 17,
   "id": "constitutional-preview",
   "metadata": {},
   "outputs": [
    {
     "name": "stderr",
     "output_type": "stream",
     "text": [
      "/Users/matheushostert/Repos/stdHNL/hnl_apps/const.py:142: RuntimeWarning: divide by zero encountered in double_scalars\n",
      "  return 1.0/G*invGeV_to_s\n",
      "/Users/matheushostert/Repos/stdHNL/hnl_apps/const.py:144: RuntimeWarning: divide by zero encountered in double_scalars\n",
      "  return 1.0/G*invGeV_to_cm\n",
      "/Users/matheushostert/Repos/stdHNL/hnl_apps/const.py:144: RuntimeWarning: divide by zero encountered in double_scalars\n",
      "  return 1.0/G*invGeV_to_cm\n",
      "/Users/matheushostert/Repos/stdHNL/hnl_apps/const.py:142: RuntimeWarning: divide by zero encountered in double_scalars\n",
      "  return 1.0/G*invGeV_to_s\n",
      "/Users/matheushostert/Repos/stdHNL/hnl_apps/const.py:144: RuntimeWarning: divide by zero encountered in double_scalars\n",
      "  return 1.0/G*invGeV_to_cm\n",
      "/Users/matheushostert/Repos/stdHNL/hnl_apps/const.py:142: RuntimeWarning: divide by zero encountered in double_scalars\n",
      "  return 1.0/G*invGeV_to_s\n",
      "/Users/matheushostert/Repos/stdHNL/hnl_apps/const.py:144: RuntimeWarning: divide by zero encountered in double_scalars\n",
      "  return 1.0/G*invGeV_to_cm\n",
      "/Users/matheushostert/Repos/stdHNL/hnl_apps/const.py:142: RuntimeWarning: divide by zero encountered in double_scalars\n",
      "  return 1.0/G*invGeV_to_s\n",
      "/Users/matheushostert/Repos/stdHNL/hnl_apps/const.py:144: RuntimeWarning: divide by zero encountered in double_scalars\n",
      "  return 1.0/G*invGeV_to_cm\n",
      "/Users/matheushostert/Repos/stdHNL/hnl_apps/const.py:142: RuntimeWarning: divide by zero encountered in double_scalars\n",
      "  return 1.0/G*invGeV_to_s\n",
      "/Users/matheushostert/Repos/stdHNL/hnl_apps/const.py:144: RuntimeWarning: divide by zero encountered in double_scalars\n",
      "  return 1.0/G*invGeV_to_cm\n",
      "/Users/matheushostert/Repos/stdHNL/hnl_apps/const.py:142: RuntimeWarning: divide by zero encountered in double_scalars\n",
      "  return 1.0/G*invGeV_to_s\n",
      "/Users/matheushostert/Repos/stdHNL/hnl_apps/const.py:142: RuntimeWarning: divide by zero encountered in double_scalars\n",
      "  return 1.0/G*invGeV_to_s\n",
      "/Users/matheushostert/Repos/stdHNL/hnl_apps/const.py:144: RuntimeWarning: divide by zero encountered in double_scalars\n",
      "  return 1.0/G*invGeV_to_cm\n",
      "/Users/matheushostert/Repos/stdHNL/hnl_apps/const.py:142: RuntimeWarning: divide by zero encountered in double_scalars\n",
      "  return 1.0/G*invGeV_to_s\n",
      "/Users/matheushostert/Repos/stdHNL/hnl_apps/const.py:144: RuntimeWarning: divide by zero encountered in double_scalars\n",
      "  return 1.0/G*invGeV_to_cm\n"
     ]
    },
    {
     "data": {
      "text/plain": [
       "<multiprocess.pool.Pool state=RUN pool_size=8>"
      ]
     },
     "execution_count": 17,
     "metadata": {},
     "output_type": "execute_result"
    }
   ],
   "source": [
    "# compute rate and lifetime\n",
    "tot_cores = mp.cpu_count()\n",
    "pool = Pool(tot_cores)\n",
    "############\n",
    "\n",
    "get_event_partial = partial(hnl_tools.get_event_rate, flavor_struct=[0.0,1.0,0.0], dark_coupl=dark_coupl, detector = ps191)\n",
    "event_rate_darknus_ps191 = pool.map(get_event_partial, ((m4, usqr) for m4, usqr in zip(m4_grid, usqr_grid)))\n",
    "get_lifetime_partial = partial(hnl_tools.get_lifetime, flavor_struct=[0.0,1.0,0.0], dark_coupl=dark_coupl)\n",
    "lifetime_darknus_ps191 = pool.map(get_lifetime_partial, ((m4, usqr) for m4, usqr in zip(m4_grid, usqr_grid)))\n",
    "\n",
    "############\n",
    "pool.terminate()\n",
    "pool.restart()"
   ]
  },
  {
   "cell_type": "code",
   "execution_count": 18,
   "id": "designing-mixture",
   "metadata": {},
   "outputs": [],
   "source": [
    "# Save to file\n",
    "table_PS191_zprime = np.array([m4_grid, usqr_grid, lifetime_darknus_ps191, event_rate_darknus_ps191])\n",
    "np.save(\"limits_computed/PS191_zprime_Umu4\",table_PS191_zprime)\n",
    "np.savetxt(\"limits_computed/PS191_zprime_Umu4.dat\",table_PS191_zprime, header=\" m4(GeV) USQR tau0(s) event_rate\")"
   ]
  },
  {
   "cell_type": "markdown",
   "id": "66c17375",
   "metadata": {},
   "source": [
    "# Axion-like-particle"
   ]
  },
  {
   "cell_type": "code",
   "execution_count": 37,
   "id": "e1cbe26f",
   "metadata": {},
   "outputs": [],
   "source": [
    "# set up grid\n",
    "gridx = 100\n",
    "gridy = 100\n",
    "\n",
    "M4 = np.linspace(0.02,(m_neutral_kaon - m_mu), gridx)\n",
    "USQR = np.logspace(-14,-4, gridy) \n",
    "X,Y = np.meshgrid(M4,USQR)\n",
    "m4_grid, usqr_grid = X.flatten(), Y.flatten()\n",
    "\n",
    "dark_coupls = {'inv_f_alp': 1e-2, 'c_e': 1, 'c_N': 0.4, 'm_alp': 0.02}"
   ]
  },
  {
   "cell_type": "code",
   "execution_count": 38,
   "id": "c5f2e36b",
   "metadata": {},
   "outputs": [
    {
     "data": {
      "text/plain": [
       "<multiprocess.pool.Pool state=RUN pool_size=8>"
      ]
     },
     "execution_count": 38,
     "metadata": {},
     "output_type": "execute_result"
    }
   ],
   "source": [
    "# compute rate and lifetimes\n",
    "tot_cores = mp.cpu_count()\n",
    "pool = Pool(tot_cores)\n",
    "############\n",
    "\n",
    "get_event_partial = partial(hnl_tools.get_event_rate, flavor_struct=[0.0,1.0,0.0], dark_coupl=dark_coupls, detector = nd280)\n",
    "event_rate_ALP = pool.map(get_event_partial, ((m4, usqr) for m4, usqr in zip(m4_grid, usqr_grid)))\n",
    "\n",
    "get_lifetime_partial = partial(hnl_tools.get_lifetime, flavor_struct=[0.0,1.0,0.0], dark_coupl=dark_coupls)\n",
    "lifetime_ALP = pool.map(get_lifetime_partial, ((m4, usqr) for m4, usqr in zip(m4_grid, usqr_grid)))\n",
    "\n",
    "############\n",
    "pool.terminate()\n",
    "pool.restart()"
   ]
  },
  {
   "cell_type": "code",
   "execution_count": 39,
   "id": "d6306ecb",
   "metadata": {},
   "outputs": [],
   "source": [
    "# Save to file\n",
    "table_T2K_alp = np.array([m4_grid, usqr_grid, lifetime_ALP, event_rate_ALP])\n",
    "np.save(\"limits_computed/T2K_alp_Umu4\", table_T2K_alp)\n",
    "np.savetxt(\"limits_computed/T2K_alp_Umu4.dat\",table_T2K_alp, header=\" m4(GeV) USQR tau0(s) event_rate\")"
   ]
  },
  {
   "cell_type": "code",
   "execution_count": 40,
   "id": "fce5374a",
   "metadata": {},
   "outputs": [
    {
     "data": {
      "text/plain": [
       "2.6633160629301595e-12"
      ]
     },
     "execution_count": 40,
     "metadata": {},
     "output_type": "execute_result"
    }
   ],
   "source": [
    "hnl_tools.get_event_rate([1e-2,1e-8], flavor_struct=[0.0,1.0,0.0], dark_coupl=dark_coupls, detector = ps191)"
   ]
  },
  {
   "cell_type": "code",
   "execution_count": 41,
   "id": "e475857e",
   "metadata": {},
   "outputs": [
    {
     "data": {
      "text/plain": [
       "<multiprocess.pool.Pool state=RUN pool_size=8>"
      ]
     },
     "execution_count": 41,
     "metadata": {},
     "output_type": "execute_result"
    }
   ],
   "source": [
    "# compute rate and lifetime\n",
    "tot_cores = mp.cpu_count()\n",
    "pool = Pool(tot_cores)\n",
    "############\n",
    "\n",
    "get_event_partial = partial(hnl_tools.get_event_rate, flavor_struct=[0.0,1.0,0.0], dark_coupl=dark_coupls, detector = ps191)\n",
    "event_rate_ALP_ps191 = pool.map(get_event_partial, ((m4, usqr) for m4, usqr in zip(m4_grid, usqr_grid)))\n",
    "\n",
    "get_lifetime_partial = partial(hnl_tools.get_lifetime, flavor_struct=[0.0,1.0,0.0], dark_coupl=dark_coupls)\n",
    "lifetime_ALP_ps191 = pool.map(get_lifetime_partial, ((m4, usqr) for m4, usqr in zip(m4_grid, usqr_grid)))\n",
    "\n",
    "############\n",
    "pool.terminate()\n",
    "pool.restart()"
   ]
  },
  {
   "cell_type": "code",
   "execution_count": 42,
   "id": "2b82e1cd",
   "metadata": {},
   "outputs": [],
   "source": [
    "# Save to file\n",
    "table_PS191_ALP = np.array([m4_grid, usqr_grid, lifetime_ALP_ps191, event_rate_ALP_ps191])\n",
    "np.save(\"limits_computed/PS191_ALP_Umu4\",table_PS191_ALP)\n",
    "np.savetxt(\"limits_computed/PS191_ALP_Umu4.dat\",table_PS191_ALP, header=\" m4(GeV) USQR tau0(s) event_rate\")"
   ]
  },
  {
   "cell_type": "markdown",
   "id": "6ccae1ca",
   "metadata": {},
   "source": [
    "## ALP -- mix versus 1/fa"
   ]
  },
  {
   "cell_type": "code",
   "execution_count": 43,
   "id": "9b0b447d",
   "metadata": {},
   "outputs": [],
   "source": [
    "# set up grid\n",
    "gridx = int(100)\n",
    "gridy = int(100)\n",
    "M4 = 0.380\n",
    "dark_coupls = {'inv_f_alp': 1e-2, 'c_e': 1, 'c_N': 0.4, 'm_alp': 0.02}\n",
    "\n",
    "inv_fa = np.logspace(-3,-0.5, gridx)\n",
    "USQR = np.logspace(-13,-5, gridy) \n",
    "X,Y = np.meshgrid(inv_fa,USQR)\n",
    "inv_fa_grid, usqr_grid = X.flatten(), Y.flatten()\n"
   ]
  },
  {
   "cell_type": "code",
   "execution_count": 44,
   "id": "e1700274",
   "metadata": {},
   "outputs": [
    {
     "data": {
      "text/plain": [
       "<multiprocess.pool.Pool state=RUN pool_size=8>"
      ]
     },
     "execution_count": 44,
     "metadata": {},
     "output_type": "execute_result"
    }
   ],
   "source": [
    "# compute rate and lifetimes\n",
    "tot_cores = mp.cpu_count()\n",
    "pool = Pool(tot_cores)\n",
    "############\n",
    "\n",
    "get_event_partial = partial(hnl_tools.get_event_rate_w_mixing_and_inv_fa, m4 = M4, flavor_struct=[0.0,1.0,0.0], dark_coupl=dark_coupls, detector=nd280)\n",
    "event_rate_alp = pool.map(get_event_partial, ((inv_fa, usqr) for inv_fa, usqr in zip(inv_fa_grid, usqr_grid)))\n",
    "\n",
    "############\n",
    "pool.terminate()\n",
    "pool.restart()"
   ]
  },
  {
   "cell_type": "code",
   "execution_count": 45,
   "id": "caeffeae",
   "metadata": {},
   "outputs": [
    {
     "data": {
      "text/plain": [
       "<multiprocess.pool.Pool state=RUN pool_size=8>"
      ]
     },
     "execution_count": 45,
     "metadata": {},
     "output_type": "execute_result"
    }
   ],
   "source": [
    "# compute rate and lifetimes\n",
    "tot_cores = mp.cpu_count()\n",
    "pool = Pool(tot_cores)\n",
    "############\n",
    "\n",
    "get_event_partial = partial(hnl_tools.get_event_rate_w_mixing_and_inv_fa, m4 = M4, flavor_struct=[0.0,1.0,0.0], dark_coupl=dark_coupls, detector=ps191)\n",
    "event_rate_alp_ps191 = pool.map(get_event_partial, ((inv_fa, usqr) for inv_fa, usqr in zip(inv_fa_grid, usqr_grid)))\n",
    "\n",
    "############\n",
    "pool.terminate()\n",
    "pool.restart()"
   ]
  },
  {
   "cell_type": "code",
   "execution_count": 46,
   "id": "73b5d4e3",
   "metadata": {},
   "outputs": [],
   "source": [
    "# Save to file\n",
    "table_ALP = np.array([inv_fa_grid, usqr_grid,  event_rate_alp])\n",
    "np.save(\"limits_computed/T2K_alp_fa_usqr\",table_ALP)\n",
    "np.savetxt(\"limits_computed/T2K_alp_fa_usqr.dat\",table_ALP, header=\" 1/fa(GeV^-1) USQR event_rate\")"
   ]
  },
  {
   "cell_type": "code",
   "execution_count": 47,
   "id": "72fc13e9",
   "metadata": {},
   "outputs": [],
   "source": [
    "# Save to file\n",
    "table_PS191_ALP = np.array([inv_fa_grid, usqr_grid,  event_rate_alp_ps191])\n",
    "np.save(\"limits_computed/PS191_alp_fa_usqr\",table_PS191_ALP)\n",
    "np.savetxt(\"limits_computed/PS191_alp_fa_usqr.dat\",table_PS191_ALP, header=\" 1/fa(GeV^-1) USQR event_rate\")"
   ]
  },
  {
   "cell_type": "code",
   "execution_count": null,
   "id": "1f6b6329",
   "metadata": {},
   "outputs": [],
   "source": []
  }
 ],
 "metadata": {
  "kernelspec": {
   "display_name": "Python 3",
   "language": "python",
   "name": "python3"
  },
  "language_info": {
   "codemirror_mode": {
    "name": "ipython",
    "version": 3
   },
   "file_extension": ".py",
   "mimetype": "text/x-python",
   "name": "python",
   "nbconvert_exporter": "python",
   "pygments_lexer": "ipython3",
   "version": "3.9.10"
  }
 },
 "nbformat": 4,
 "nbformat_minor": 5
}
