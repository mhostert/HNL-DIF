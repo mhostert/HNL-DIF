{
 "cells": [
  {
   "cell_type": "markdown",
   "id": "reliable-grounds",
   "metadata": {},
   "source": [
    "# Batch computation\n",
    "\n",
    "This notebook computes event rate at T2K and PS191 throughout the parameter space. Sometimes we compute the lifetime as well."
   ]
  },
  {
   "cell_type": "code",
   "execution_count": 1,
   "id": "statutory-validation",
   "metadata": {},
   "outputs": [],
   "source": []
  },
  {
   "cell_type": "code",
   "execution_count": 2,
   "id": "likely-jefferson",
   "metadata": {},
   "outputs": [],
   "source": [
    "import numpy as np\n",
    "from scipy import interpolate\n",
    "\n",
    "import pathos.multiprocessing as mp\n",
    "from pathos.multiprocessing import ProcessingPool as Pool\n",
    "\n",
    "from functools import partial\n",
    "\n",
    "from particle import *\n",
    "from particle import literals as lp\n",
    "\n",
    "from hnl_apps import *\n",
    "from hnl_apps.plot_tools import *\n",
    "from hnl_apps.const import *\n",
    "\n",
    "from Nlimits import *\n",
    "from Nlimits.constraint_dict import *\n",
    "from Nlimits.plotter import *"
   ]
  },
  {
   "cell_type": "markdown",
   "id": "medical-piano",
   "metadata": {},
   "source": [
    "# Minimal version"
   ]
  },
  {
   "cell_type": "code",
   "execution_count": 3,
   "id": "eastern-depression",
   "metadata": {},
   "outputs": [],
   "source": [
    "# set up grid\n",
    "gridx = 100\n",
    "gridy = 50\n",
    "\n",
    "M4 = np.linspace(0.02,(m_neutral_kaon - m_mu), gridx)\n",
    "USQR = np.logspace(-9,-2, gridy) \n",
    "X,Y = np.meshgrid(M4,USQR)\n",
    "m4_grid, usqr_grid = X.flatten(), Y.flatten()"
   ]
  },
  {
   "cell_type": "markdown",
   "id": "combined-grass",
   "metadata": {},
   "source": [
    "### T2K"
   ]
  },
  {
   "cell_type": "code",
   "execution_count": 21,
   "id": "logical-manor",
   "metadata": {},
   "outputs": [
    {
     "data": {
      "text/plain": [
       "<multiprocess.pool.Pool state=RUN pool_size=8>"
      ]
     },
     "execution_count": 21,
     "metadata": {},
     "output_type": "execute_result"
    }
   ],
   "source": [
    "# compute rate and lifetimes\n",
    "tot_cores = mp.cpu_count()\n",
    "pool = Pool(tot_cores)\n",
    "############\n",
    "\n",
    "get_event_partial = partial(hnl_tools.get_event_rate, flavor_struct=[0.0,1.0,0.0], detector = nd280)\n",
    "event_rate_weak = pool.map(get_event_partial, ((m4, usqr) for m4, usqr in zip(m4_grid, usqr_grid)))\n",
    "\n",
    "get_lifetime_partial = partial(hnl_tools.get_lifetime, flavor_struct=[0.0,1.0,0.0])\n",
    "lifetime_weak = pool.map(get_lifetime_partial, ((m4, usqr) for m4, usqr in zip(m4_grid, usqr_grid)))\n",
    "\n",
    "############\n",
    "pool.terminate()\n",
    "pool.restart()"
   ]
  },
  {
   "cell_type": "code",
   "execution_count": 22,
   "id": "present-cleaners",
   "metadata": {},
   "outputs": [],
   "source": [
    "# Save to file\n",
    "table_T2K_minimal = np.array([m4_grid, usqr_grid, lifetime_weak, event_rate_weak])\n",
    "np.save(\"limits_computed/T2K_minimal_Umu4\",table_T2K_minimal)\n",
    "np.savetxt(\"limits_computed/T2K_minimal_Umu4.dat\",table_T2K_minimal, header=\" m4(GeV) USQR tau0(s) event_rate\")"
   ]
  },
  {
   "cell_type": "markdown",
   "id": "swiss-grammar",
   "metadata": {},
   "source": [
    "### PS191"
   ]
  },
  {
   "cell_type": "code",
   "execution_count": 96,
   "id": "treated-burner",
   "metadata": {},
   "outputs": [
    {
     "data": {
      "text/plain": [
       "<multiprocess.pool.Pool state=RUN pool_size=8>"
      ]
     },
     "execution_count": 96,
     "metadata": {},
     "output_type": "execute_result"
    }
   ],
   "source": [
    "# compute rate and lifetimes\n",
    "tot_cores = mp.cpu_count()\n",
    "pool = Pool(tot_cores)\n",
    "############\n",
    "\n",
    "get_event_partial = partial(hnl_tools.get_event_rate, flavor_struct=[0.0,1.0,0.0], detector = ps191)\n",
    "event_rate_weak_ps191 = pool.map(get_event_partial, ((m4, usqr) for m4, usqr in zip(m4_grid, usqr_grid)))\n",
    "\n",
    "############\n",
    "pool.terminate()\n",
    "pool.restart()\n"
   ]
  },
  {
   "cell_type": "code",
   "execution_count": 97,
   "id": "smooth-applicant",
   "metadata": {},
   "outputs": [],
   "source": [
    "# Save to file\n",
    "table_PS191_minimal = np.array([m4_grid, usqr_grid, lifetime_weak, event_rate_weak_ps191])\n",
    "np.save(\"limits_computed/PS191_minimal_Umu4\",table_PS191_minimal)\n",
    "np.savetxt(\"limits_computed/PS191_minimal_Umu4.dat\",table_PS191_minimal, header=\" m4(GeV) USQR tau0(s) event_rate\")"
   ]
  },
  {
   "cell_type": "markdown",
   "id": "surprised-montgomery",
   "metadata": {},
   "source": [
    "# Magnetic moment transition"
   ]
  },
  {
   "cell_type": "markdown",
   "id": "concerned-convergence",
   "metadata": {},
   "source": [
    "## d = 1 PeV^-1 "
   ]
  },
  {
   "cell_type": "code",
   "execution_count": 98,
   "id": "close-invite",
   "metadata": {},
   "outputs": [],
   "source": [
    "# set up grid\n",
    "gridx = 100\n",
    "gridy = 50\n",
    "\n",
    "M4 = np.linspace(0.02,(m_neutral_kaon - m_mu), gridx)\n",
    "USQR = np.logspace(-14,-4, gridy) \n",
    "X,Y = np.meshgrid(M4,USQR)\n",
    "m4_grid, usqr_grid = X.flatten(), Y.flatten()\n",
    "\n",
    "dipoles = {'dip_mu4': 5e-7}"
   ]
  },
  {
   "cell_type": "markdown",
   "id": "environmental-narrative",
   "metadata": {},
   "source": [
    "### T2K"
   ]
  },
  {
   "cell_type": "code",
   "execution_count": 99,
   "id": "hidden-portuguese",
   "metadata": {
    "scrolled": true
   },
   "outputs": [
    {
     "data": {
      "text/plain": [
       "<multiprocess.pool.Pool state=RUN pool_size=8>"
      ]
     },
     "execution_count": 99,
     "metadata": {},
     "output_type": "execute_result"
    }
   ],
   "source": [
    "# compute rate and lifetimes\n",
    "tot_cores = mp.cpu_count()\n",
    "pool = Pool(tot_cores)\n",
    "############\n",
    "\n",
    "get_event_partial = partial(hnl_tools.get_event_rate, flavor_struct=[0.0,1.0,0.0], dipoles=dipoles, detector = nd280)\n",
    "event_rate_dipole = pool.map(get_event_partial, ((m4, usqr) for m4, usqr in zip(m4_grid, usqr_grid)))\n",
    "get_lifetime_partial = partial(hnl_tools.get_lifetime, flavor_struct=[0.0,1.0,0.0], dipoles=dipoles)\n",
    "lifetime_dipole = pool.map(get_lifetime_partial, ((m4, usqr) for m4, usqr in zip(m4_grid, usqr_grid)))\n",
    "\n",
    "############\n",
    "pool.terminate()\n",
    "pool.restart()"
   ]
  },
  {
   "cell_type": "code",
   "execution_count": 100,
   "id": "reserved-festival",
   "metadata": {},
   "outputs": [],
   "source": [
    "# Save to file\n",
    "table_T2K_magmoment = np.array([m4_grid, usqr_grid, lifetime_dipole, event_rate_dipole])\n",
    "np.save(\"limits_computed/T2K_mag_mom_Umu4\",table_T2K_magmoment)\n",
    "np.savetxt(\"limits_computed/T2K_mag_mom_Umu4.dat\",table_T2K_magmoment, header=\" m4(GeV) USQR tau0(s) event_rate\")"
   ]
  },
  {
   "cell_type": "markdown",
   "id": "informed-domestic",
   "metadata": {},
   "source": [
    "### PS191"
   ]
  },
  {
   "cell_type": "code",
   "execution_count": 101,
   "id": "considerable-parcel",
   "metadata": {},
   "outputs": [
    {
     "data": {
      "text/plain": [
       "<multiprocess.pool.Pool state=RUN pool_size=8>"
      ]
     },
     "execution_count": 101,
     "metadata": {},
     "output_type": "execute_result"
    }
   ],
   "source": [
    "# compute rate and lifetimes\n",
    "tot_cores = mp.cpu_count()\n",
    "pool = Pool(tot_cores)\n",
    "############\n",
    "\n",
    "get_event_partial = partial(hnl_tools.get_event_rate, flavor_struct=[0.0,1.0,0.0], dipoles=dipoles, detector = ps191)\n",
    "event_rate_dipole_PS191 = pool.map(get_event_partial, ((m4, usqr) for m4, usqr in zip(m4_grid, usqr_grid)))\n",
    "get_lifetime_partial = partial(hnl_tools.get_lifetime, flavor_struct=[0.0,1.0,0.0], dipoles=dipoles)\n",
    "lifetime_dipole_PS191 = pool.map(get_lifetime_partial, ((m4, usqr) for m4, usqr in zip(m4_grid, usqr_grid)))\n",
    "\n",
    "############\n",
    "pool.terminate()\n",
    "pool.restart()"
   ]
  },
  {
   "cell_type": "code",
   "execution_count": 102,
   "id": "polished-newark",
   "metadata": {},
   "outputs": [],
   "source": [
    "# Save to file\n",
    "table_PS191_mag_mom = np.array([m4_grid, usqr_grid, lifetime_dipole_PS191, event_rate_dipole_PS191])\n",
    "np.save(\"limits_computed/PS191_mag_mom_Umu4\",table_PS191_mag_mom)\n",
    "np.savetxt(\"limits_computed/PS191_mag_mom_Umu4.dat\",table_PS191_mag_mom, header=\" m4(GeV) USQR tau0(s) event_rate\")"
   ]
  },
  {
   "cell_type": "code",
   "execution_count": 12,
   "id": "sorted-airfare",
   "metadata": {
    "scrolled": true
   },
   "outputs": [
    {
     "name": "stdout",
     "output_type": "stream",
     "text": [
      "0.7075940856030256\n",
      "1.2866704194221013\n"
     ]
    }
   ],
   "source": [
    "print(hnl_tools.get_event_rate((0.05,1e-6), flavor_struct=[0.0,1.0,0.0], dipoles={'dip_mu4': 5e-9}, detector = ps191))\n",
    "print(hnl_tools.get_event_rate((0.05,1e-6), flavor_struct=[0.0,1.0,0.0], dipoles={'dip_mu4': 5e-9}, detector = nd280))\n"
   ]
  },
  {
   "cell_type": "markdown",
   "id": "piano-uruguay",
   "metadata": {},
   "source": [
    "## Schwetz-mania -- mixing and mass\n",
    "\n",
    "d = 5e-9 GeV^-1"
   ]
  },
  {
   "cell_type": "code",
   "execution_count": 105,
   "id": "beautiful-toddler",
   "metadata": {},
   "outputs": [],
   "source": [
    "# set up grid\n",
    "gridx = 100\n",
    "gridy = 50\n",
    "\n",
    "M4 = np.linspace(0.02,(m_neutral_kaon - m_mu), gridx)\n",
    "USQR = np.logspace(-12,-4, gridy) \n",
    "X,Y = np.meshgrid(M4,USQR)\n",
    "m4_grid, usqr_grid = X.flatten(), Y.flatten()\n",
    "\n",
    "dipoles = {'dip_mu4': 5e-9}"
   ]
  },
  {
   "cell_type": "code",
   "execution_count": 106,
   "id": "composed-bikini",
   "metadata": {
    "scrolled": true
   },
   "outputs": [
    {
     "data": {
      "text/plain": [
       "<multiprocess.pool.Pool state=RUN pool_size=8>"
      ]
     },
     "execution_count": 106,
     "metadata": {},
     "output_type": "execute_result"
    }
   ],
   "source": [
    "# compute rate and lifetimes\n",
    "tot_cores = mp.cpu_count()\n",
    "pool = Pool(tot_cores)\n",
    "############\n",
    "\n",
    "get_event_partial = partial(hnl_tools.get_event_rate, flavor_struct=[0.0,1.0,0.0], dipoles=dipoles, detector=nd280)\n",
    "event_rate_dipole = pool.map(get_event_partial, ((m4, usqr) for m4, usqr in zip(m4_grid, usqr_grid)))\n",
    "get_lifetime_partial = partial(hnl_tools.get_lifetime, flavor_struct=[0.0,1.0,0.0], dipoles=dipoles)\n",
    "lifetime_dipole = pool.map(get_lifetime_partial, ((m4, usqr) for m4, usqr in zip(m4_grid, usqr_grid)))\n",
    "\n",
    "############\n",
    "pool.terminate()\n",
    "pool.restart()"
   ]
  },
  {
   "cell_type": "code",
   "execution_count": 107,
   "id": "infectious-reservoir",
   "metadata": {},
   "outputs": [],
   "source": [
    "# Save to file\n",
    "table_T2K_magmoment = np.array([m4_grid, usqr_grid, lifetime_dipole, event_rate_dipole])\n",
    "np.save(\"limits_computed/T2K_mag_mom_schwetz_Umu4\",table_T2K_magmoment)\n",
    "np.savetxt(\"limits_computed/T2K_mag_mom_schwetz_Umu4.dat\",table_T2K_magmoment, header=\" m4(GeV) USQR tau0(s) event_rate\")"
   ]
  },
  {
   "cell_type": "markdown",
   "id": "promotional-answer",
   "metadata": {},
   "source": [
    "### PS191"
   ]
  },
  {
   "cell_type": "code",
   "execution_count": 108,
   "id": "amateur-federal",
   "metadata": {},
   "outputs": [
    {
     "data": {
      "text/plain": [
       "<multiprocess.pool.Pool state=RUN pool_size=8>"
      ]
     },
     "execution_count": 108,
     "metadata": {},
     "output_type": "execute_result"
    }
   ],
   "source": [
    "# compute rate and lifetimes\n",
    "tot_cores = mp.cpu_count()\n",
    "pool = Pool(tot_cores)\n",
    "############\n",
    "\n",
    "get_event_partial = partial(hnl_tools.get_event_rate, flavor_struct=[0.0,1.0,0.0], dipoles=dipoles, detector = ps191)\n",
    "event_rate_dipole_PS191 = pool.map(get_event_partial, ((m4, usqr) for m4, usqr in zip(m4_grid, usqr_grid)))\n",
    "get_lifetime_partial = partial(hnl_tools.get_lifetime, flavor_struct=[0.0,1.0,0.0], dipoles=dipoles)\n",
    "lifetime_dipole_PS191 = pool.map(get_lifetime_partial, ((m4, usqr) for m4, usqr in zip(m4_grid, usqr_grid)))\n",
    "\n",
    "############\n",
    "pool.terminate()\n",
    "pool.restart()"
   ]
  },
  {
   "cell_type": "code",
   "execution_count": 109,
   "id": "manual-cover",
   "metadata": {},
   "outputs": [],
   "source": [
    "# Save to file\n",
    "table_PS191_mag_mom = np.array([m4_grid, usqr_grid, lifetime_dipole_PS191, event_rate_dipole_PS191])\n",
    "np.save(\"limits_computed/PS191_mag_mom_schwetz_Umu4\",table_PS191_mag_mom)\n",
    "np.savetxt(\"limits_computed/PS191_mag_mom_schwetz_Umu4.dat\",table_PS191_mag_mom, header=\" m4(GeV) USQR tau0(s) event_rate\")"
   ]
  },
  {
   "cell_type": "markdown",
   "id": "likely-society",
   "metadata": {},
   "source": [
    "# Schwetz -- dipole  vs  mixing"
   ]
  },
  {
   "cell_type": "code",
   "execution_count": 110,
   "id": "usual-disney",
   "metadata": {},
   "outputs": [],
   "source": [
    "# set up grid\n",
    "gridx = 100\n",
    "gridy = 50\n",
    "\n",
    "M4 = 0.250\n",
    "\n",
    "dmu = np.logspace(-10,-6, gridx)\n",
    "USQR = np.logspace(-14,-7, gridy) \n",
    "X,Y = np.meshgrid(dmu,USQR)\n",
    "dmu_grid, usqr_grid = X.flatten(), Y.flatten()"
   ]
  },
  {
   "cell_type": "code",
   "execution_count": 111,
   "id": "round-desert",
   "metadata": {},
   "outputs": [
    {
     "data": {
      "text/plain": [
       "<multiprocess.pool.Pool state=RUN pool_size=8>"
      ]
     },
     "execution_count": 111,
     "metadata": {},
     "output_type": "execute_result"
    }
   ],
   "source": [
    "# compute rate and lifetimes\n",
    "tot_cores = mp.cpu_count()\n",
    "pool = Pool(tot_cores)\n",
    "############\n",
    "\n",
    "get_event_partial = partial(hnl_tools.get_event_rate_w_mixing_and_dipole, m4 = M4, flavor_struct=[0.0,1.0,0.0],  detector = nd280)\n",
    "event_rate_dipole = pool.map(get_event_partial, ((dmu, usqr) for dmu, usqr in zip(dmu_grid, usqr_grid)))\n",
    "\n",
    "############\n",
    "pool.terminate()\n",
    "pool.restart()"
   ]
  },
  {
   "cell_type": "code",
   "execution_count": 112,
   "id": "exact-heading",
   "metadata": {},
   "outputs": [],
   "source": [
    "# Save to file\n",
    "table_T2K_mag_mom = np.array([dmu_grid, usqr_grid,  event_rate_dipole])\n",
    "np.save(\"limits_computed/T2K_schwetz_mag_mom_usqr\",table_T2K_mag_mom)\n",
    "np.savetxt(\"limits_computed/T2K_schwetz_mag_mom_usqr.dat\",table_T2K_mag_mom, header=\" dmu(GeV^-1) USQR event_rate\")\n"
   ]
  },
  {
   "cell_type": "markdown",
   "id": "accomplished-richmond",
   "metadata": {},
   "source": [
    "# PS191"
   ]
  },
  {
   "cell_type": "code",
   "execution_count": 113,
   "id": "periodic-ivory",
   "metadata": {},
   "outputs": [
    {
     "data": {
      "text/plain": [
       "<multiprocess.pool.Pool state=RUN pool_size=8>"
      ]
     },
     "execution_count": 113,
     "metadata": {},
     "output_type": "execute_result"
    }
   ],
   "source": [
    "# compute rate and lifetimes\n",
    "tot_cores = mp.cpu_count()\n",
    "pool = Pool(tot_cores)\n",
    "############\n",
    "\n",
    "get_event_partial = partial(hnl_tools.get_event_rate_w_mixing_and_dipole, m4 = M4, flavor_struct=[0.0,1.0,0.0], detector = ps191)\n",
    "event_rate_dipole = pool.map(get_event_partial, ((dmu, usqr) for dmu, usqr in zip(dmu_grid, usqr_grid)))\n",
    "\n",
    "############\n",
    "pool.terminate()\n",
    "pool.restart()"
   ]
  },
  {
   "cell_type": "code",
   "execution_count": 114,
   "id": "drawn-anthony",
   "metadata": {},
   "outputs": [],
   "source": [
    "# Save to file\n",
    "table_PS191_mag_mom = np.array([dmu_grid, usqr_grid,  event_rate_dipole])\n",
    "np.save(\"limits_computed/PS191_schwetz_mag_mom_usqr\",table_PS191_mag_mom)\n",
    "np.savetxt(\"limits_computed/PS191_schwetz_mag_mom_usqr.dat\",table_PS191_mag_mom, header=\" dmu(GeV^-1) USQR event_rate\")"
   ]
  },
  {
   "cell_type": "markdown",
   "id": "moral-workplace",
   "metadata": {},
   "source": [
    "# Dark Z' case"
   ]
  },
  {
   "cell_type": "code",
   "execution_count": 115,
   "id": "closing-wholesale",
   "metadata": {},
   "outputs": [],
   "source": [
    "# set up grid\n",
    "gridx = 100\n",
    "gridy = 50\n",
    "\n",
    "M4 = np.linspace(0.02,(m_neutral_kaon - m_mu), gridx)\n",
    "USQR = np.logspace(-11,-0.5, gridy) \n",
    "X,Y = np.meshgrid(M4,USQR)\n",
    "m4_grid, usqr_grid = X.flatten(), Y.flatten()\n",
    "\n",
    "dark_coupl = {'GX': Gf*1000}"
   ]
  },
  {
   "cell_type": "code",
   "execution_count": 116,
   "id": "painted-experience",
   "metadata": {
    "scrolled": true
   },
   "outputs": [
    {
     "data": {
      "text/plain": [
       "<multiprocess.pool.Pool state=RUN pool_size=8>"
      ]
     },
     "execution_count": 116,
     "metadata": {},
     "output_type": "execute_result"
    }
   ],
   "source": [
    "# compute rate and lifetime\n",
    "tot_cores = mp.cpu_count()\n",
    "pool = Pool(tot_cores)\n",
    "############\n",
    "\n",
    "get_event_partial = partial(hnl_tools.get_event_rate, flavor_struct=[0.0,1.0,0.0], GX=GX, exp_setup = nd280)\n",
    "event_rate_darknus = pool.map(get_event_partial, ((m4, usqr) for m4, usqr in zip(m4_grid, usqr_grid)))\n",
    "get_lifetime_partial = partial(hnl_tools.get_lifetime, flavor_struct=[0.0,1.0,0.0], GX=GX)\n",
    "lifetime_darknus = pool.map(get_lifetime_partial, ((m4, usqr) for m4, usqr in zip(m4_grid, usqr_grid)))\n",
    "\n",
    "############\n",
    "pool.terminate()\n",
    "pool.restart()"
   ]
  },
  {
   "cell_type": "code",
   "execution_count": 117,
   "id": "numerous-stewart",
   "metadata": {},
   "outputs": [],
   "source": [
    "# Save to file\n",
    "table_T2K_zprime = np.array([m4_grid, usqr_grid, lifetime_darknus, event_rate_darknus])\n",
    "np.save(\"limits_computed/T2K_zprime_Umu4\",table_T2K_zprime)\n",
    "np.savetxt(\"limits_computed/T2K_zprime_Umu4.dat\",table_T2K_zprime, header=\" m4(GeV) USQR tau0(s) event_rate\")"
   ]
  },
  {
   "cell_type": "code",
   "execution_count": 119,
   "id": "constitutional-preview",
   "metadata": {},
   "outputs": [
    {
     "data": {
      "text/plain": [
       "<multiprocess.pool.Pool state=RUN pool_size=8>"
      ]
     },
     "execution_count": 119,
     "metadata": {},
     "output_type": "execute_result"
    }
   ],
   "source": [
    "# compute rate and lifetime\n",
    "tot_cores = mp.cpu_count()\n",
    "pool = Pool(tot_cores)\n",
    "############\n",
    "\n",
    "get_event_partial = partial(hnl_tools.get_event_rate, flavor_struct=[0.0,1.0,0.0], dark_coupl=dark, exp_setup = ps191)\n",
    "event_rate_darknus_ps191 = pool.map(get_event_partial, ((m4, usqr) for m4, usqr in zip(m4_grid, usqr_grid)))\n",
    "get_lifetime_partial = partial(hnl_tools.get_lifetime, flavor_struct=[0.0,1.0,0.0], dark_coupl=dark)\n",
    "lifetime_darknus_ps191 = pool.map(get_lifetime_partial, ((m4, usqr) for m4, usqr in zip(m4_grid, usqr_grid)))\n",
    "\n",
    "############\n",
    "pool.terminate()\n",
    "pool.restart()"
   ]
  },
  {
   "cell_type": "code",
   "execution_count": 120,
   "id": "designing-mixture",
   "metadata": {},
   "outputs": [],
   "source": [
    "# Save to file\n",
    "table_PS191_zprime = np.array([m4_grid, usqr_grid, lifetime_darknus_ps191, event_rate_darknus_ps191])\n",
    "np.save(\"limits_computed/PS191_zprime_Umu4\",table_PS191_zprime)\n",
    "np.savetxt(\"limits_computed/PS191_zprime_Umu4.dat\",table_PS191_zprime, header=\" m4(GeV) USQR tau0(s) event_rate\")"
   ]
  }
 ],
 "metadata": {
  "kernelspec": {
   "display_name": "Python 3",
   "language": "python",
   "name": "python3"
  },
  "language_info": {
   "codemirror_mode": {
    "name": "ipython",
    "version": 3
   },
   "file_extension": ".py",
   "mimetype": "text/x-python",
   "name": "python",
   "nbconvert_exporter": "python",
   "pygments_lexer": "ipython3",
   "version": "3.9.5"
  }
 },
 "nbformat": 4,
 "nbformat_minor": 5
}
