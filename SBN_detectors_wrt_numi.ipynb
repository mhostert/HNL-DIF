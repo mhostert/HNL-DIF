{
 "cells": [
  {
   "cell_type": "code",
   "execution_count": 1,
   "id": "c0d6dff8-8d3f-46ab-829f-04657a0f7bee",
   "metadata": {},
   "outputs": [],
   "source": [
    "import numpy as np"
   ]
  },
  {
   "cell_type": "code",
   "execution_count": 2,
   "id": "545de929-54fc-45e1-849b-8af5c5af7ee4",
   "metadata": {},
   "outputs": [],
   "source": [
    "numi2bnb_rot_matrix = np.array([[0.9210385, 0.0227135, 0.3888086],\n",
    "                              [4.6254001e-5, 0.9982916, -0.0584280],\n",
    "                              [-0.3894714, 0.0538324, 0.9194640]])"
   ]
  },
  {
   "cell_type": "code",
   "execution_count": 3,
   "id": "c92dc4f1-f51d-420c-8793-c97c4fe6947d",
   "metadata": {},
   "outputs": [],
   "source": [
    "uboone_location = 470\n",
    "sbn_bnb_locations = np.array([110, 470, 541, 600])\n",
    "sbn_uboone_locations = sbn_bnb_locations - uboone_location\n",
    "offset = np.array([55.02, 72.59, 672.70])\n",
    "beam_dump = np.array([0, 0, 675 + 42.5])"
   ]
  },
  {
   "cell_type": "code",
   "execution_count": 4,
   "id": "3e27ea2f-4111-4af7-8c92-a6875b40a900",
   "metadata": {},
   "outputs": [],
   "source": [
    "detectors = ['SBND', r'$\\mu$BooNE', 'MiniBooNE', 'ICARUS']"
   ]
  },
  {
   "cell_type": "code",
   "execution_count": 5,
   "id": "41cf2aa6-9580-4147-b822-5c51c1e1a67d",
   "metadata": {},
   "outputs": [],
   "source": [
    "def numi2bnb(position):\n",
    "    position = np.asarray(position)\n",
    "    return numi2bnb_rot_matrix @ (position - offset)\n",
    "\n",
    "def bnb2numi(position):\n",
    "    position = np.asarray(position)\n",
    "    return numi2bnb_rot_matrix.T @ position + offset\n",
    "\n",
    "def angle_between_vectors(a, b):\n",
    "    a = np.asarray(a)\n",
    "    b = np.asarray(b)\n",
    "    return 180/np.pi*np.arccos(np.dot(a, b)/np.linalg.norm(a)/np.linalg.norm(b))"
   ]
  },
  {
   "cell_type": "code",
   "execution_count": 6,
   "id": "10860671-10ff-4a94-bab2-1bcfd8c59478",
   "metadata": {},
   "outputs": [],
   "source": [
    "distances_dump_detector = [np.linalg.norm(np.array([0, 0, loc]) - numi2bnb(beam_dump)) for loc in sbn_uboone_locations]"
   ]
  },
  {
   "cell_type": "code",
   "execution_count": 7,
   "id": "2f728639-e16b-4dcf-a107-14f10e2c799b",
   "metadata": {},
   "outputs": [],
   "source": [
    "angles_dump_detector_bnb = [angle_between_vectors(np.array([0, 0, loc]) - numi2bnb(beam_dump), np.array([0, 0, 1])) for loc in sbn_uboone_locations]"
   ]
  },
  {
   "cell_type": "code",
   "execution_count": 8,
   "id": "b12cf5ac-6617-4346-bf3d-f1de3c8dbd5b",
   "metadata": {},
   "outputs": [
    {
     "name": "stdout",
     "output_type": "stream",
     "text": [
      "SBND, 168.81 degrees of inclination wrt BNB, 426.82 m of distance from the NuMI beam dump\n",
      "$\\mu$BooNE, 125.34 degrees of inclination wrt BNB, 101.51 m of distance from the NuMI beam dump\n",
      "MiniBooNE, 81.56 degrees of inclination wrt BNB, 83.71 m of distance from the NuMI beam dump\n",
      "ICARUS, 49.27 degrees of inclination wrt BNB, 109.26 m of distance from the NuMI beam dump\n"
     ]
    }
   ],
   "source": [
    "for det, angle, dist in zip(detectors, angles_dump_detector_bnb, distances_dump_detector):\n",
    "    print(f'{det}, {angle:.2f} degrees of inclination wrt BNB, {dist:.2f} m of distance from the NuMI beam dump')"
   ]
  },
  {
   "cell_type": "code",
   "execution_count": null,
   "id": "4091175f-e046-4873-9d5a-de65f64c9779",
   "metadata": {},
   "outputs": [],
   "source": []
  },
  {
   "cell_type": "code",
   "execution_count": null,
   "id": "b4a9ad0e-e742-4385-b861-54a821a8a948",
   "metadata": {},
   "outputs": [],
   "source": []
  }
 ],
 "metadata": {
  "kernelspec": {
   "display_name": "Python 3",
   "language": "python",
   "name": "python3"
  },
  "language_info": {
   "codemirror_mode": {
    "name": "ipython",
    "version": 3
   },
   "file_extension": ".py",
   "mimetype": "text/x-python",
   "name": "python",
   "nbconvert_exporter": "python",
   "pygments_lexer": "ipython3",
   "version": "3.9.5"
  }
 },
 "nbformat": 4,
 "nbformat_minor": 5
}
