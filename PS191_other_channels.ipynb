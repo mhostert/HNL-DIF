{
 "cells": [
  {
   "cell_type": "markdown",
   "id": "reliable-grounds",
   "metadata": {},
   "source": [
    "# Batch computation\n",
    "\n",
    "This notebook computes event rate at T2K and PS191 throughout the parameter space. Sometimes we compute the lifetime as well."
   ]
  },
  {
   "cell_type": "code",
   "execution_count": 1,
   "id": "likely-jefferson",
   "metadata": {},
   "outputs": [],
   "source": [
    "import numpy as np\n",
    "from scipy import interpolate\n",
    "\n",
    "import pathos.multiprocessing as mp\n",
    "from pathos.multiprocessing import ProcessingPool as Pool\n",
    "\n",
    "from functools import partial\n",
    "\n",
    "from particle import *\n",
    "from particle import literals as lp\n",
    "\n",
    "from hnl_apps import *\n",
    "from hnl_apps.plot_tools import *\n",
    "from hnl_apps.const import *\n",
    "\n",
    "from Nlimits import *\n",
    "from Nlimits.constraint_dict import *\n",
    "from Nlimits.plotter import *"
   ]
  },
  {
   "cell_type": "markdown",
   "id": "medical-piano",
   "metadata": {},
   "source": [
    "# Minimal version"
   ]
  },
  {
   "cell_type": "code",
   "execution_count": 2,
   "id": "eastern-depression",
   "metadata": {},
   "outputs": [],
   "source": [
    "# set up grid\n",
    "gridx = 100\n",
    "gridy = 50\n",
    "\n",
    "M4 = np.linspace(0.02,(m_neutral_kaon - m_mu), gridx)\n",
    "USQR = np.logspace(-9,-2, gridy) \n",
    "X,Y = np.meshgrid(M4,USQR)\n",
    "m4_grid, usqr_grid = X.flatten(), Y.flatten()"
   ]
  },
  {
   "cell_type": "markdown",
   "id": "combined-grass",
   "metadata": {},
   "source": [
    "### mu-pi"
   ]
  },
  {
   "cell_type": "code",
   "execution_count": 37,
   "id": "compound-orlando",
   "metadata": {},
   "outputs": [
    {
     "data": {
      "text/plain": [
       "<multiprocess.pool.Pool state=RUN pool_size=8>"
      ]
     },
     "execution_count": 37,
     "metadata": {},
     "output_type": "execute_result"
    }
   ],
   "source": [
    "# compute rate and lifetimes\n",
    "tot_cores = mp.cpu_count()\n",
    "pool = Pool(tot_cores)\n",
    "############\n",
    "\n",
    "get_event_partial = partial(hnl_tools.get_event_rate_mode, modes=['nu_e_mu', 'mu_pi'], flavor_struct=[0.0,1.0,0.0], detector = ps191)\n",
    "event_rate_weak_ps191 = pool.map(get_event_partial, ((m4, usqr) for m4, usqr in zip(m4_grid, usqr_grid)))\n",
    "\n",
    "############\n",
    "pool.terminate()\n",
    "pool.restart()"
   ]
  },
  {
   "cell_type": "code",
   "execution_count": 38,
   "id": "honest-module",
   "metadata": {},
   "outputs": [],
   "source": [
    "event_rate_weak_ps191_e_mu = np.array(event_rate_weak_ps191)[:,0]\n",
    "event_rate_weak_ps191_mu_pi = np.array(event_rate_weak_ps191)[:,1]"
   ]
  },
  {
   "cell_type": "code",
   "execution_count": 39,
   "id": "planned-google",
   "metadata": {},
   "outputs": [],
   "source": [
    "# Save to file\n",
    "table_PS191_minimal = np.array([m4_grid, usqr_grid, event_rate_weak_ps191_e_mu, event_rate_weak_ps191_mu_pi])\n",
    "np.save(\"limits_computed/PS191_minimal_Umu4__mode__others\",table_PS191_minimal)\n",
    "np.savetxt(\"limits_computed/PS191_minimal_Umu4__mode__others.dat\",table_PS191_minimal, header=\" m4(GeV) USQR event_rate\")"
   ]
  },
  {
   "cell_type": "markdown",
   "id": "funny-tennis",
   "metadata": {},
   "source": [
    "### load it"
   ]
  },
  {
   "cell_type": "code",
   "execution_count": 41,
   "id": "defined-continent",
   "metadata": {},
   "outputs": [],
   "source": [
    "table_ps191 = np.load(\"limits_computed/PS191_minimal_Umu4__mode__others.npy\", allow_pickle=True)\n",
    "m4_grid_ps191, usqr_grid_ps191, event_rate_weak_ps191_e_mu, event_rate_weak_ps191_mu_pi = table_ps191"
   ]
  },
  {
   "cell_type": "code",
   "execution_count": 69,
   "id": "quantitative-diversity",
   "metadata": {},
   "outputs": [
    {
     "name": "stderr",
     "output_type": "stream",
     "text": [
      "<ipython-input-69-2f0333389b14>:42: UserWarning: FixedFormatter should only be used together with FixedLocator\n",
      "  ax.set_xticklabels(np.array([20,40,60,80,100,150, 200,400]))\n"
     ]
    },
    {
     "data": {
      "image/png": "[encoded data removed]",
      "text/plain": [
       "<Figure size 319.68x221.055 with 1 Axes>"
      ]
     },
     "metadata": {
      "needs_background": "light"
     },
     "output_type": "display_data"
    }
   ],
   "source": [
    "######\n",
    "fig, ax = std_fig(ax_form= [0.15,0.16,0.82,0.76])\n",
    "\n",
    "# HNL mass span\n",
    "x = np.logspace(np.log10(20),np.log10((m_neutral_kaon - m_mu)*1e3), 1000, endpoint=True)\n",
    "\n",
    "############################################\n",
    "# our PS191 bound (our own calculation)\n",
    "Xi,Yi,Zi=interp_grid(x=m4_grid_ps191*1e3, y=usqr_grid_ps191 , z=event_rate_weak_ps191_e_mu, logx=False, logy=True)\n",
    "level_0 = contour(Xi, Yi, Zi, levels = [2.3], colors=['royalblue'], linewidths=[0], zorder=10) #NEW CONSTRAINT\n",
    "bound_e_mu = level_0.collections[0].get_paths()[0].vertices  #grab the coords of the bound\n",
    "ax.plot(bound_e_mu[:,0],bound_e_mu[:,1], c='royalblue',  lw=1.5, zorder=10, rasterized=True, label='our mu e')\n",
    "\n",
    "############################################\n",
    "# our PS191 bound (our own calculation)\n",
    "Xi,Yi,Zi=interp_grid(x=m4_grid_ps191*1e3, y=usqr_grid_ps191 , z=event_rate_weak_ps191_mu_pi, logx=False, logy=True)\n",
    "level_0 = contour(Xi, Yi, Zi, levels = [2.3], colors=['royalblue'], linewidths=[0], zorder=10) #NEW CONSTRAINT\n",
    "bound_mu_pi = level_0.collections[0].get_paths()[0].vertices  #grab the coords of the bound\n",
    "ax.plot(bound_mu_pi[:,0],bound_mu_pi[:,1], c='royalblue',  lw=1.5, zorder=10, ls='--', rasterized=True, label='our mu pi')\n",
    "\n",
    "\n",
    "mn_mu_e, umu42_mu_e = np.genfromtxt(\"digitized/PS_191/umu4SQR_nu_mu_e.dat\", unpack=True)\n",
    "ax.plot(mn_mu_e, umu42_mu_e, lw=2, c='orange', label = r'Their mu e')\n",
    "\n",
    "mn_mu_pi, umu42_mu_pi = np.genfromtxt(\"digitized/PS_191/umu4SQR_mu_pi.dat\", unpack=True)\n",
    "ax.plot(mn_mu_pi, umu42_mu_pi, lw=2, c='orange', label = r'Their mu pi',ls='--')\n",
    "\n",
    "####\n",
    "# labels\n",
    "ax.set_title(r\"$|U_{e N}| = |U_{\\tau N}| = 0$\",fontsize=9)\n",
    "ax.legend(loc='upper center', markerfirst=False, frameon=False, handlelength=1.6,\n",
    "          framealpha=0.9, borderpad=0.2, edgecolor='None', facecolor='white', ncol=1, fontsize=8)\n",
    "\n",
    "ax.set_xlim(100,np.max(x))\n",
    "ax.set_ylim(1e-9,1e-2)\n",
    "ax.set_xscale(\"log\")\n",
    "ax.set_yscale(\"log\")\n",
    "ax.set_ylabel(r\"$|U_{\\mu N}|^2$\")\n",
    "ax.set_xlabel(r\"$m_{N}$/MeV\")\n",
    "\n",
    "# ax.set_xticks(np.array([20, 40, 60, 80, 100, 150, 200, 400]))\n",
    "ax.set_xticklabels(np.array([20,40,60,80,100,150, 200,400]))\n",
    "ax.grid(axis='y', which='both',dashes=(6,1),alpha=0.5,c='black',lw=0.1)\n",
    "ax.grid(axis='x', which='both',dashes=(6,1),alpha=0.5,c='black',lw=0.1)\n",
    "fig.savefig('plots/weak_decays_other_channels.pdf', dpi=300)\n",
    "fig.savefig('plots/weak_decays_other_channels.png', dpi=300)\n",
    "\n"
   ]
  },
  {
   "cell_type": "code",
   "execution_count": 60,
   "id": "important-identification",
   "metadata": {},
   "outputs": [
    {
     "name": "stderr",
     "output_type": "stream",
     "text": [
      "<ipython-input-60-d2e750ed4181>:4: RuntimeWarning: invalid value encountered in true_divide\n",
      "  mine(x)/theirs(x)\n"
     ]
    },
    {
     "data": {
      "text/plain": [
       "array([       nan,        nan,        nan,        nan,        nan,\n",
       "              nan,        nan,        nan, 0.        , 1.64621533,\n",
       "       2.53138869, 3.8231285 , 4.56395446, 5.46785053, 5.66819018,\n",
       "       5.54826838, 5.90767926, 6.13144258, 6.4013163 , 6.649935  ,\n",
       "       6.70816448, 6.61379745, 6.64945735, 6.78346581, 6.72325039,\n",
       "       6.83419812, 6.74360731, 6.76414981, 6.70054417, 6.60023642,\n",
       "       6.50813433, 6.41843674, 6.26492069, 6.05241853, 5.80088093,\n",
       "       0.        , 0.        , 0.        ,        nan,        nan])"
      ]
     },
     "execution_count": 60,
     "metadata": {},
     "output_type": "execute_result"
    }
   ],
   "source": [
    "mine = interpolate.interp1d(bound_e_mu[:,0], bound_e_mu[:,1], bounds_error= False, fill_value=np.inf)\n",
    "theirs=interpolate.interp1d(mn_mu_e, umu42_mu_e, bounds_error= False, fill_value=np.inf)\n",
    "x = np.linspace(40,400,40 )\n",
    "mine(x)/theirs(x)"
   ]
  },
  {
   "cell_type": "code",
   "execution_count": 61,
   "id": "behind-sherman",
   "metadata": {},
   "outputs": [
    {
     "name": "stderr",
     "output_type": "stream",
     "text": [
      "<ipython-input-61-0336af014098>:4: RuntimeWarning: invalid value encountered in true_divide\n",
      "  mine(x)/theirs(x)\n"
     ]
    },
    {
     "data": {
      "text/plain": [
       "array([       nan,        nan,        nan,        nan,        nan,\n",
       "              nan,        nan,        nan,        nan,        nan,\n",
       "              nan,        nan,        nan,        nan,        nan,\n",
       "              nan,        nan,        nan,        nan,        nan,\n",
       "              nan,        nan,        nan, 0.        , 0.        ,\n",
       "       7.5818476 , 7.60518136, 7.58605793, 7.55368233, 7.53876833,\n",
       "       7.59437052, 7.61599989, 7.37800347, 6.97712841, 6.44558865,\n",
       "       0.        , 0.        , 0.        ,        nan,        nan])"
      ]
     },
     "execution_count": 61,
     "metadata": {},
     "output_type": "execute_result"
    }
   ],
   "source": [
    "mine = interpolate.interp1d(bound_mu_pi[:,0], bound_mu_pi[:,1], bounds_error= False, fill_value=np.inf)\n",
    "theirs=interpolate.interp1d(mn_mu_pi, umu42_mu_pi, bounds_error= False, fill_value=np.inf)\n",
    "x = np.linspace(40, 400, 40)\n",
    "mine(x)/theirs(x)"
   ]
  }
 ],
 "metadata": {
  "kernelspec": {
   "display_name": "Python 3",
   "language": "python",
   "name": "python3"
  },
  "language_info": {
   "codemirror_mode": {
    "name": "ipython",
    "version": 3
   },
   "file_extension": ".py",
   "mimetype": "text/x-python",
   "name": "python",
   "nbconvert_exporter": "python",
   "pygments_lexer": "ipython3",
   "version": "3.9.5"
  }
 },
 "nbformat": 4,
 "nbformat_minor": 5
}
