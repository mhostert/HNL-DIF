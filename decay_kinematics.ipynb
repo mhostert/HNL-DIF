{
 "cells": [
  {
   "cell_type": "markdown",
   "id": "tutorial-carroll",
   "metadata": {},
   "source": [
    "# This notebook simulates the di-lepton decays of HNLs\n"
   ]
  },
  {
   "cell_type": "code",
   "execution_count": 1,
   "id": "unauthorized-attack",
   "metadata": {},
   "outputs": [],
   "source": [
    "%load_ext autoreload\n",
    "%autoreload 2"
   ]
  },
  {
   "cell_type": "code",
   "execution_count": 2,
   "id": "thousand-fireplace",
   "metadata": {},
   "outputs": [],
   "source": [
    "import matplotlib.pyplot as plt\n",
    "import numpy as np\n",
    "import pandas as pd\n",
    "\n",
    "import matplotlib.pyplot as plt\n",
    "from matplotlib import rc, rcParams\n",
    "from matplotlib.pyplot import *\n",
    "from matplotlib.legend_handler import HandlerLine2D\n",
    "\n",
    "from hnl_apps import *\n",
    "from hnl_apps import hnl_tools\n",
    "from hnl_apps.const import *\n",
    "from hnl_apps import decay_generator as gen\n",
    "from hnl_apps.plot_tools import *"
   ]
  },
  {
   "cell_type": "markdown",
   "id": "exceptional-activation",
   "metadata": {},
   "source": [
    "### Generate and load events"
   ]
  },
  {
   "cell_type": "code",
   "execution_count": 3,
   "id": "complex-relay",
   "metadata": {},
   "outputs": [],
   "source": [
    "my_model = model.hnl_model(m4=0.150, mixings = [0.0,1e-6,0.0], \n",
    "                           dipoles = [0.0,0.0,0.0], \n",
    "                           dark_coupl=[1.0,1e-2,1.0,1.25],\n",
    "                           GX = 0.0, minimal=True, HNLtype=\"dirac\")\n",
    "my_model.set_high_level_variables()\n",
    "# my_model.dmu4"
   ]
  },
  {
   "cell_type": "code",
   "execution_count": 4,
   "id": "large-correlation",
   "metadata": {},
   "outputs": [
    {
     "name": "stdout",
     "output_type": "stream",
     "text": [
      "data/mc_samples/MC_m4_0.15_mlepton_0.00051099895_hel_LH_dirac_NConly_zpr.pckl\n",
      "data/mc_samples/MC_m4_0.15_mlepton_0.00051099895_hel_LH_dirac_NConly_dip.pckl\n",
      "data/mc_samples/MC_m4_0.15_mlepton_0.00051099895_hel_LH_dirac_CConly.pckl\n"
     ]
    },
    {
     "name": "stderr",
     "output_type": "stream",
     "text": [
      "/usr/local/lib/python3.9/site-packages/pandas/core/arraylike.py:358: RuntimeWarning: invalid value encountered in sqrt\n",
      "  result = getattr(ufunc, method)(*inputs, **kwargs)\n",
      "/usr/local/lib/python3.9/site-packages/pandas/core/arraylike.py:358: RuntimeWarning: invalid value encountered in sqrt\n",
      "  result = getattr(ufunc, method)(*inputs, **kwargs)\n",
      "/usr/local/lib/python3.9/site-packages/pandas/core/arraylike.py:358: RuntimeWarning: invalid value encountered in sqrt\n",
      "  result = getattr(ufunc, method)(*inputs, **kwargs)\n",
      "/usr/local/lib/python3.9/site-packages/pandas/core/arraylike.py:358: RuntimeWarning: invalid value encountered in sqrt\n",
      "  result = getattr(ufunc, method)(*inputs, **kwargs)\n",
      "/usr/local/lib/python3.9/site-packages/pandas/core/arraylike.py:358: RuntimeWarning: invalid value encountered in sqrt\n",
      "  result = getattr(ufunc, method)(*inputs, **kwargs)\n",
      "/usr/local/lib/python3.9/site-packages/pandas/core/arraylike.py:358: RuntimeWarning: invalid value encountered in sqrt\n",
      "  result = getattr(ufunc, method)(*inputs, **kwargs)\n",
      "/usr/local/lib/python3.9/site-packages/pandas/core/arraylike.py:358: RuntimeWarning: invalid value encountered in sqrt\n",
      "  result = getattr(ufunc, method)(*inputs, **kwargs)\n",
      "/usr/local/lib/python3.9/site-packages/pandas/core/arraylike.py:358: RuntimeWarning: invalid value encountered in sqrt\n",
      "  result = getattr(ufunc, method)(*inputs, **kwargs)\n",
      "/usr/local/lib/python3.9/site-packages/pandas/core/arraylike.py:358: RuntimeWarning: invalid value encountered in sqrt\n",
      "  result = getattr(ufunc, method)(*inputs, **kwargs)\n"
     ]
    }
   ],
   "source": [
    "PATH = 'data/MC_samples'\n",
    "vertex='NConly'\n",
    "vertex1='CConly'\n",
    "h='LH'\n",
    "hnltype='dirac'\n",
    "hnlmass=0.150\n",
    "my_mixing=[0,1,0]\n",
    "gen.generate_events(hnlmass, mixings=my_mixing, lepton_mass=m_e,\n",
    "                           dark_coupl=[1.0,1,1.0,1.25],                            \n",
    "                                    HNLtype=hnltype, HEL=h,\n",
    "                                    modify_vertex=vertex)\n",
    "\n",
    "gen.generate_events(hnlmass, mixings=my_mixing, lepton_mass=m_e,\n",
    "                           dipoles = [0.0,1e-6,0.0], \n",
    "                                    HNLtype=hnltype, HEL=h,\n",
    "                                    modify_vertex=vertex)\n",
    "\n",
    "gen.generate_events(hnlmass, mixings=my_mixing, lepton_mass=m_e,\n",
    "                                    HNLtype=hnltype, HEL=h,\n",
    "                                    modify_vertex=vertex1)\n",
    "\n",
    "dfs={}\n",
    "dfs[f'{hnlmass}_ee_{h}_{hnltype}_{vertex}'] = pd.read_pickle(f'{PATH}/MC_m4_{hnlmass:.8g}_mlepton_{m_e:.8g}_hel_{h}_{hnltype}_{vertex1}.pckl')\n",
    "dfs[f'{hnlmass}_ee_{h}_{hnltype}_{vertex}_zpr'] = pd.read_pickle(f'{PATH}/MC_m4_{hnlmass:.8g}_mlepton_{m_e:.8g}_hel_{h}_{hnltype}_{vertex}_zpr.pckl')\n",
    "dfs[f'{hnlmass}_ee_{h}_{hnltype}_{vertex}_dip'] = pd.read_pickle(f'{PATH}/MC_m4_{hnlmass:.8g}_mlepton_{m_e:.8g}_hel_{h}_{hnltype}_{vertex}_dip.pckl')\n",
    "# compute useful variables\n",
    "for key in dfs.keys():\n",
    "    gen.compute_kin_vars(dfs[key])"
   ]
  },
  {
   "cell_type": "code",
   "execution_count": null,
   "id": "presidential-oasis",
   "metadata": {},
   "outputs": [],
   "source": []
  },
  {
   "cell_type": "code",
   "execution_count": 8,
   "id": "whole-plenty",
   "metadata": {},
   "outputs": [],
   "source": [
    "from hnl_apps import *\n",
    "\n",
    "my_list_of_colors = ['royalblue','deeppink','black','lime']\n",
    "my_list_of_dashes = ['-','-','-','-']\n",
    "my_hatches = ['/////////////////////////////',\n",
    "              '/////////////////////////////',\n",
    "              '/////////////////////////////',\n",
    "              '/////////////////////////////']\n",
    "def plot_new_physics(var, MIN,MAX, hnltype='dirac', hel='LH', xlabel='x', colors=my_list_of_colors, units = 1, cum=''):\n",
    "\n",
    "    fig,ax = std_fig()\n",
    "#     gca().set_rasterization_zorder(0)\n",
    "\n",
    "    error_histogram(ax, dfs[f'{hnlmass}_ee_{h}_{hnltype}_{vertex}_zpr'], var, var_range=(MIN,MAX), units = units,\n",
    "                     color=my_list_of_colors[0],label=fr'vector four-fermion', \n",
    "                        density=True, ls=my_list_of_dashes[0], hatch=my_hatches[0],\n",
    "                       cumulative=cum)\n",
    "\n",
    "    error_histogram(ax, dfs[f'{hnlmass}_ee_{h}_{hnltype}_{vertex}_dip'], var, var_range=(MIN,MAX), units = units,\n",
    "                     color=my_list_of_colors[1],label=fr'magnetic moment', \n",
    "                        density=True, ls=my_list_of_dashes[1], hatch=my_hatches[1],\n",
    "                       cumulative=cum)\n",
    "\n",
    "    error_histogram(ax, dfs[f'{hnlmass}_ee_{h}_{hnltype}_{vertex}'], var, var_range=(MIN,MAX), units = units,\n",
    "                     color=my_list_of_colors[2],label=fr'NC only', \n",
    "                        density=True, ls=my_list_of_dashes[2], hatch=my_hatches[2],\n",
    "                       cumulative=cum)\n",
    "\n",
    "    \n",
    "    \n",
    "    ax.patch.set_alpha(0.0)\n",
    "    ax.legend(loc='best',frameon=False,ncol=1)\n",
    "    ax.set_xlabel(xlabel)\n",
    "    ax.set_ylabel(r\"a.u.\")\n",
    "    ax.set_xlim(MIN,MAX)\n",
    "    ax.set_ylim(0.,ax.get_ylim()[1]*1.1)\n",
    "    ax.set_title(fr\"$N \\to \\nu e^+e^-$ $-$ {hel} {hnltype} \\,\\, $m_N = {hnlmass*1e3:.0f}$ MeV\",fontsize=fsize)\n",
    "\n",
    "    my_path=f'plots/kinematics/{hnltype}/newphysics/{cum}/'\n",
    "    filename=f'{hnlmass*1e3:.0f}_{hnltype}_{hel}_newphysics_{var}'\n",
    "    Path(my_path).mkdir(parents=True, exist_ok=True)\n",
    "    print(filename)\n",
    "\n",
    "    #     plt.savefig(f\"{my_path}{filename}.png\", dpi=400)\n",
    "    fig.savefig(f\"{my_path}{filename}.pdf\", dpi=100)\n",
    "    plt.close()\n",
    "    \n",
    "    \n",
    "def all_vars_new_physics(cum='', hnltype='dirac', hel='LH'):\n",
    "    plot_new_physics('easy',-1,1, xlabel=r'$(E_{e^+} - E_{e^-})/(E_{e^+} + E_{e^-})$GeV', \n",
    "                    cum=cum, hnltype=hnltype, hel=hel)\n",
    "    plot_new_physics('ee_momentum',0,7, xlabel=r'$E_{ee}/$GeV', \n",
    "                    cum=cum, hnltype=hnltype, hel=hel)\n",
    "    plot_new_physics('eplus',0,7, xlabel=r'$E_{e^+}/$GeV', \n",
    "                    cum=cum, hnltype=hnltype, hel=hel)\n",
    "    plot_new_physics('eminus',0,7, xlabel=r'$E_{e^-}/$GeV', \n",
    "                    cum=cum, hnltype=hnltype, hel=hel)\n",
    "    plot_new_physics('e_smallest',0,7, xlabel=r'$E_{e}^{\\rm min}/$GeV', \n",
    "                    cum=cum, hnltype=hnltype, hel=hel)\n",
    "    plot_new_physics('e_largest',0,7, xlabel=r'$E_{e}^{\\rm max}/$GeV', \n",
    "                    cum=cum, hnltype=hnltype, hel=hel)\n",
    "    plot_new_physics('ee_theta',0,90, units = 180/np.pi, xlabel=r'$\\Delta \\theta_{ee}\\,(^\\circ)$', \n",
    "                    cum=cum, hnltype=hnltype, hel=hel)\n",
    "    plot_new_physics('ee_beam_theta',0,90, units = 180/np.pi, xlabel=r'$\\theta_{ee}^{\\rm beam} \\, (^\\circ)$', \n",
    "                    cum=cum, hnltype=hnltype, hel=hel)\n",
    "    plot_new_physics('ee_beam_costheta',0.98,1, units = 1, xlabel=r'$\\cos(\\theta_{ee}^{\\rm beam})$', \n",
    "                    cum=cum, hnltype=hnltype, hel=hel)\n",
    "    plot_new_physics('radius_plus',0,100, units = 1e-2, xlabel=r'$e^+$ curvature radius (m)', \n",
    "                    cum=cum, hnltype=hnltype, hel=hel)\n",
    "    plot_new_physics('distance_between_circles_at_10cm',0,10, units = 1, xlabel=r'distance between bent trajectories at 10 cm', \n",
    "                    cum=cum, hnltype=hnltype, hel=hel)\n",
    "    plot_new_physics('distance_between_circles_at_20cm',0,20, units = 1, xlabel=r'distance between bent trajectories at 20 cm', \n",
    "                    cum=cum, hnltype=hnltype, hel=hel)\n",
    "    plot_new_physics('distance_between_circles_at_50cm',0,50, units = 1, xlabel=r'distance between bent trajectories at 50 cm', \n",
    "                    cum=cum, hnltype=hnltype, hel=hel)\n",
    "    plot_new_physics('race_to_b=1cm',0,10, units = 1e-2, xlabel=r'travel distance to b=1 (cm)', \n",
    "                    cum=cum, hnltype=hnltype, hel=hel)\n",
    "    plot_new_physics('ee_mass',0,hnlmass*1e3, units = 1e3, xlabel=r'$e^+e^-$ invariant mass (MeV)', \n",
    "                    cum=cum, hnltype=hnltype, hel=hel)    "
   ]
  },
  {
   "cell_type": "code",
   "execution_count": 9,
   "id": "placed-thesis",
   "metadata": {},
   "outputs": [
    {
     "name": "stderr",
     "output_type": "stream",
     "text": [
      "/usr/local/lib/python3.9/site-packages/IPython/core/interactiveshell.py:3165: PerformanceWarning: indexing past lexsort depth may impact performance.\n",
      "  has_raised = await self.run_ast_nodes(code_ast.body, cell_name,\n",
      "/usr/local/lib/python3.9/site-packages/IPython/core/interactiveshell.py:3165: PerformanceWarning: indexing past lexsort depth may impact performance.\n",
      "  has_raised = await self.run_ast_nodes(code_ast.body, cell_name,\n",
      "/usr/local/lib/python3.9/site-packages/IPython/core/interactiveshell.py:3165: PerformanceWarning: indexing past lexsort depth may impact performance.\n",
      "  has_raised = await self.run_ast_nodes(code_ast.body, cell_name,\n"
     ]
    },
    {
     "name": "stdout",
     "output_type": "stream",
     "text": [
      "150_dirac_LH_newphysics_easy\n"
     ]
    },
    {
     "name": "stderr",
     "output_type": "stream",
     "text": [
      "/usr/local/lib/python3.9/site-packages/IPython/core/interactiveshell.py:3165: PerformanceWarning: indexing past lexsort depth may impact performance.\n",
      "  has_raised = await self.run_ast_nodes(code_ast.body, cell_name,\n",
      "/usr/local/lib/python3.9/site-packages/IPython/core/interactiveshell.py:3165: PerformanceWarning: indexing past lexsort depth may impact performance.\n",
      "  has_raised = await self.run_ast_nodes(code_ast.body, cell_name,\n",
      "/usr/local/lib/python3.9/site-packages/IPython/core/interactiveshell.py:3165: PerformanceWarning: indexing past lexsort depth may impact performance.\n",
      "  has_raised = await self.run_ast_nodes(code_ast.body, cell_name,\n"
     ]
    },
    {
     "name": "stdout",
     "output_type": "stream",
     "text": [
      "150_dirac_LH_newphysics_ee_momentum\n"
     ]
    },
    {
     "name": "stderr",
     "output_type": "stream",
     "text": [
      "/usr/local/lib/python3.9/site-packages/IPython/core/interactiveshell.py:3165: PerformanceWarning: indexing past lexsort depth may impact performance.\n",
      "  has_raised = await self.run_ast_nodes(code_ast.body, cell_name,\n",
      "/usr/local/lib/python3.9/site-packages/IPython/core/interactiveshell.py:3165: PerformanceWarning: indexing past lexsort depth may impact performance.\n",
      "  has_raised = await self.run_ast_nodes(code_ast.body, cell_name,\n",
      "/usr/local/lib/python3.9/site-packages/IPython/core/interactiveshell.py:3165: PerformanceWarning: indexing past lexsort depth may impact performance.\n",
      "  has_raised = await self.run_ast_nodes(code_ast.body, cell_name,\n"
     ]
    },
    {
     "name": "stdout",
     "output_type": "stream",
     "text": [
      "150_dirac_LH_newphysics_eplus\n"
     ]
    },
    {
     "name": "stderr",
     "output_type": "stream",
     "text": [
      "/usr/local/lib/python3.9/site-packages/IPython/core/interactiveshell.py:3165: PerformanceWarning: indexing past lexsort depth may impact performance.\n",
      "  has_raised = await self.run_ast_nodes(code_ast.body, cell_name,\n",
      "/usr/local/lib/python3.9/site-packages/IPython/core/interactiveshell.py:3165: PerformanceWarning: indexing past lexsort depth may impact performance.\n",
      "  has_raised = await self.run_ast_nodes(code_ast.body, cell_name,\n",
      "/usr/local/lib/python3.9/site-packages/IPython/core/interactiveshell.py:3165: PerformanceWarning: indexing past lexsort depth may impact performance.\n",
      "  has_raised = await self.run_ast_nodes(code_ast.body, cell_name,\n"
     ]
    },
    {
     "name": "stdout",
     "output_type": "stream",
     "text": [
      "150_dirac_LH_newphysics_eminus\n"
     ]
    },
    {
     "name": "stderr",
     "output_type": "stream",
     "text": [
      "/usr/local/lib/python3.9/site-packages/IPython/core/interactiveshell.py:3165: PerformanceWarning: indexing past lexsort depth may impact performance.\n",
      "  has_raised = await self.run_ast_nodes(code_ast.body, cell_name,\n",
      "/usr/local/lib/python3.9/site-packages/IPython/core/interactiveshell.py:3165: PerformanceWarning: indexing past lexsort depth may impact performance.\n",
      "  has_raised = await self.run_ast_nodes(code_ast.body, cell_name,\n",
      "/usr/local/lib/python3.9/site-packages/IPython/core/interactiveshell.py:3165: PerformanceWarning: indexing past lexsort depth may impact performance.\n",
      "  has_raised = await self.run_ast_nodes(code_ast.body, cell_name,\n"
     ]
    },
    {
     "name": "stdout",
     "output_type": "stream",
     "text": [
      "150_dirac_LH_newphysics_e_smallest\n"
     ]
    },
    {
     "name": "stderr",
     "output_type": "stream",
     "text": [
      "/usr/local/lib/python3.9/site-packages/IPython/core/interactiveshell.py:3165: PerformanceWarning: indexing past lexsort depth may impact performance.\n",
      "  has_raised = await self.run_ast_nodes(code_ast.body, cell_name,\n",
      "/usr/local/lib/python3.9/site-packages/IPython/core/interactiveshell.py:3165: PerformanceWarning: indexing past lexsort depth may impact performance.\n",
      "  has_raised = await self.run_ast_nodes(code_ast.body, cell_name,\n",
      "/usr/local/lib/python3.9/site-packages/IPython/core/interactiveshell.py:3165: PerformanceWarning: indexing past lexsort depth may impact performance.\n",
      "  has_raised = await self.run_ast_nodes(code_ast.body, cell_name,\n"
     ]
    },
    {
     "name": "stdout",
     "output_type": "stream",
     "text": [
      "150_dirac_LH_newphysics_e_largest\n"
     ]
    },
    {
     "name": "stderr",
     "output_type": "stream",
     "text": [
      "/usr/local/lib/python3.9/site-packages/IPython/core/interactiveshell.py:3165: PerformanceWarning: indexing past lexsort depth may impact performance.\n",
      "  has_raised = await self.run_ast_nodes(code_ast.body, cell_name,\n",
      "/usr/local/lib/python3.9/site-packages/IPython/core/interactiveshell.py:3165: PerformanceWarning: indexing past lexsort depth may impact performance.\n",
      "  has_raised = await self.run_ast_nodes(code_ast.body, cell_name,\n",
      "/usr/local/lib/python3.9/site-packages/IPython/core/interactiveshell.py:3165: PerformanceWarning: indexing past lexsort depth may impact performance.\n",
      "  has_raised = await self.run_ast_nodes(code_ast.body, cell_name,\n"
     ]
    },
    {
     "name": "stdout",
     "output_type": "stream",
     "text": [
      "150_dirac_LH_newphysics_ee_theta\n"
     ]
    },
    {
     "name": "stderr",
     "output_type": "stream",
     "text": [
      "/usr/local/lib/python3.9/site-packages/IPython/core/interactiveshell.py:3165: PerformanceWarning: indexing past lexsort depth may impact performance.\n",
      "  has_raised = await self.run_ast_nodes(code_ast.body, cell_name,\n",
      "/usr/local/lib/python3.9/site-packages/IPython/core/interactiveshell.py:3165: PerformanceWarning: indexing past lexsort depth may impact performance.\n",
      "  has_raised = await self.run_ast_nodes(code_ast.body, cell_name,\n",
      "/usr/local/lib/python3.9/site-packages/IPython/core/interactiveshell.py:3165: PerformanceWarning: indexing past lexsort depth may impact performance.\n",
      "  has_raised = await self.run_ast_nodes(code_ast.body, cell_name,\n"
     ]
    },
    {
     "name": "stdout",
     "output_type": "stream",
     "text": [
      "150_dirac_LH_newphysics_ee_beam_theta\n"
     ]
    },
    {
     "name": "stderr",
     "output_type": "stream",
     "text": [
      "/usr/local/lib/python3.9/site-packages/IPython/core/interactiveshell.py:3165: PerformanceWarning: indexing past lexsort depth may impact performance.\n",
      "  has_raised = await self.run_ast_nodes(code_ast.body, cell_name,\n",
      "/usr/local/lib/python3.9/site-packages/IPython/core/interactiveshell.py:3165: PerformanceWarning: indexing past lexsort depth may impact performance.\n",
      "  has_raised = await self.run_ast_nodes(code_ast.body, cell_name,\n",
      "/usr/local/lib/python3.9/site-packages/IPython/core/interactiveshell.py:3165: PerformanceWarning: indexing past lexsort depth may impact performance.\n",
      "  has_raised = await self.run_ast_nodes(code_ast.body, cell_name,\n"
     ]
    },
    {
     "name": "stdout",
     "output_type": "stream",
     "text": [
      "150_dirac_LH_newphysics_ee_beam_costheta\n"
     ]
    },
    {
     "name": "stderr",
     "output_type": "stream",
     "text": [
      "/usr/local/lib/python3.9/site-packages/IPython/core/interactiveshell.py:3165: PerformanceWarning: indexing past lexsort depth may impact performance.\n",
      "  has_raised = await self.run_ast_nodes(code_ast.body, cell_name,\n",
      "/usr/local/lib/python3.9/site-packages/IPython/core/interactiveshell.py:3165: PerformanceWarning: indexing past lexsort depth may impact performance.\n",
      "  has_raised = await self.run_ast_nodes(code_ast.body, cell_name,\n",
      "/usr/local/lib/python3.9/site-packages/IPython/core/interactiveshell.py:3165: PerformanceWarning: indexing past lexsort depth may impact performance.\n",
      "  has_raised = await self.run_ast_nodes(code_ast.body, cell_name,\n"
     ]
    },
    {
     "name": "stdout",
     "output_type": "stream",
     "text": [
      "150_dirac_LH_newphysics_radius_plus\n"
     ]
    },
    {
     "name": "stderr",
     "output_type": "stream",
     "text": [
      "/usr/local/lib/python3.9/site-packages/IPython/core/interactiveshell.py:3165: PerformanceWarning: indexing past lexsort depth may impact performance.\n",
      "  has_raised = await self.run_ast_nodes(code_ast.body, cell_name,\n",
      "/usr/local/lib/python3.9/site-packages/IPython/core/interactiveshell.py:3165: PerformanceWarning: indexing past lexsort depth may impact performance.\n",
      "  has_raised = await self.run_ast_nodes(code_ast.body, cell_name,\n",
      "/usr/local/lib/python3.9/site-packages/IPython/core/interactiveshell.py:3165: PerformanceWarning: indexing past lexsort depth may impact performance.\n",
      "  has_raised = await self.run_ast_nodes(code_ast.body, cell_name,\n"
     ]
    },
    {
     "name": "stdout",
     "output_type": "stream",
     "text": [
      "150_dirac_LH_newphysics_distance_between_circles_at_10cm\n"
     ]
    },
    {
     "name": "stderr",
     "output_type": "stream",
     "text": [
      "/usr/local/lib/python3.9/site-packages/IPython/core/interactiveshell.py:3165: PerformanceWarning: indexing past lexsort depth may impact performance.\n",
      "  has_raised = await self.run_ast_nodes(code_ast.body, cell_name,\n",
      "/usr/local/lib/python3.9/site-packages/IPython/core/interactiveshell.py:3165: PerformanceWarning: indexing past lexsort depth may impact performance.\n",
      "  has_raised = await self.run_ast_nodes(code_ast.body, cell_name,\n",
      "/usr/local/lib/python3.9/site-packages/IPython/core/interactiveshell.py:3165: PerformanceWarning: indexing past lexsort depth may impact performance.\n",
      "  has_raised = await self.run_ast_nodes(code_ast.body, cell_name,\n"
     ]
    },
    {
     "name": "stdout",
     "output_type": "stream",
     "text": [
      "150_dirac_LH_newphysics_distance_between_circles_at_20cm\n"
     ]
    },
    {
     "name": "stderr",
     "output_type": "stream",
     "text": [
      "/usr/local/lib/python3.9/site-packages/IPython/core/interactiveshell.py:3165: PerformanceWarning: indexing past lexsort depth may impact performance.\n",
      "  has_raised = await self.run_ast_nodes(code_ast.body, cell_name,\n",
      "/usr/local/lib/python3.9/site-packages/IPython/core/interactiveshell.py:3165: PerformanceWarning: indexing past lexsort depth may impact performance.\n",
      "  has_raised = await self.run_ast_nodes(code_ast.body, cell_name,\n",
      "/usr/local/lib/python3.9/site-packages/IPython/core/interactiveshell.py:3165: PerformanceWarning: indexing past lexsort depth may impact performance.\n",
      "  has_raised = await self.run_ast_nodes(code_ast.body, cell_name,\n"
     ]
    },
    {
     "name": "stdout",
     "output_type": "stream",
     "text": [
      "150_dirac_LH_newphysics_distance_between_circles_at_50cm\n"
     ]
    },
    {
     "name": "stderr",
     "output_type": "stream",
     "text": [
      "/usr/local/lib/python3.9/site-packages/IPython/core/interactiveshell.py:3165: PerformanceWarning: indexing past lexsort depth may impact performance.\n",
      "  has_raised = await self.run_ast_nodes(code_ast.body, cell_name,\n",
      "/usr/local/lib/python3.9/site-packages/IPython/core/interactiveshell.py:3165: PerformanceWarning: indexing past lexsort depth may impact performance.\n",
      "  has_raised = await self.run_ast_nodes(code_ast.body, cell_name,\n",
      "/usr/local/lib/python3.9/site-packages/IPython/core/interactiveshell.py:3165: PerformanceWarning: indexing past lexsort depth may impact performance.\n",
      "  has_raised = await self.run_ast_nodes(code_ast.body, cell_name,\n"
     ]
    },
    {
     "name": "stdout",
     "output_type": "stream",
     "text": [
      "150_dirac_LH_newphysics_race_to_b=1cm\n"
     ]
    },
    {
     "name": "stderr",
     "output_type": "stream",
     "text": [
      "/usr/local/lib/python3.9/site-packages/IPython/core/interactiveshell.py:3165: PerformanceWarning: indexing past lexsort depth may impact performance.\n",
      "  has_raised = await self.run_ast_nodes(code_ast.body, cell_name,\n",
      "/usr/local/lib/python3.9/site-packages/IPython/core/interactiveshell.py:3165: PerformanceWarning: indexing past lexsort depth may impact performance.\n",
      "  has_raised = await self.run_ast_nodes(code_ast.body, cell_name,\n",
      "/usr/local/lib/python3.9/site-packages/IPython/core/interactiveshell.py:3165: PerformanceWarning: indexing past lexsort depth may impact performance.\n",
      "  has_raised = await self.run_ast_nodes(code_ast.body, cell_name,\n"
     ]
    },
    {
     "name": "stdout",
     "output_type": "stream",
     "text": [
      "150_dirac_LH_newphysics_ee_mass\n"
     ]
    }
   ],
   "source": [
    "all_vars_new_physics()\n",
    "# all_vars_new_physics(cum='cum_sum')\n",
    "# all_vars_new_physics(cum='cum_sum_prior_to')"
   ]
  },
  {
   "cell_type": "code",
   "execution_count": 111,
   "id": "numerous-ministry",
   "metadata": {},
   "outputs": [
    {
     "name": "stdout",
     "output_type": "stream",
     "text": [
      "data/mc_samples/MC_m4_0.15_mlepton_0.00051099895_hel_LH_dirac_NConly.pckl\n",
      "data/mc_samples/MC_m4_0.15_mlepton_0.00051099895_hel_LH_majorana_NConly.pckl\n",
      "data/mc_samples/MC_m4_0.15_mlepton_0.00051099895_hel_LH_dirac_CConly.pckl\n",
      "data/mc_samples/MC_m4_0.15_mlepton_0.00051099895_hel_LH_majorana_CConly.pckl\n",
      "data/mc_samples/MC_m4_0.15_mlepton_0.00051099895_hel_LH_dirac_CCandNC.pckl\n",
      "data/mc_samples/MC_m4_0.15_mlepton_0.00051099895_hel_LH_majorana_CCandNC.pckl\n"
     ]
    }
   ],
   "source": [
    "# PATH = 'data/MC_samples'\n",
    "# hels = ['LH','RH', 'both']\n",
    "# vertices = ['CConly', 'NConly', 'CCandNC']\n",
    "# hnltypes = ['majorana','dirac']\n",
    "# hnlmasses = [0.02,0.05,0.1,0.150]\n",
    "# my_mixing = [0.0,1.0,0.0]\n",
    "\n",
    "PATH = 'data/MC_samples'\n",
    "hels = ['LH']\n",
    "vertices = ['NConly','CConly','CCandNC']\n",
    "# vertices = ['CConly','CCandNC']\n",
    "hnltypes = ['dirac','majorana']\n",
    "# hnlmasses = [0.02,0.05,0.1,0.250]\n",
    "hnlmasses = [0.150]\n",
    "my_mixing = [0.0,1.0,0.0]\n",
    "\n",
    "dfs = {}\n",
    "for h in hels:\n",
    "    for vertex in vertices:\n",
    "        for hnltype in hnltypes:\n",
    "            for hnlmass in hnlmasses:\n",
    "                gen.generate_events(hnlmass, mixings=my_mixing, lepton_mass=m_e, \n",
    "                                    HNLtype=hnltype, HEL=h, \n",
    "                                    modify_vertex=vertex)\n",
    "                dfs[f'{hnlmass}_ee_{h}_{hnltype}_{vertex}'] = pd.read_pickle(f'{PATH}/MC_m4_{hnlmass:.8g}_mlepton_{m_e:.8g}_hel_{h}_{hnltype}_{vertex}.pckl')\n",
    "# compute useful variables\n",
    "for key in dfs.keys():\n",
    "    gen.compute_kin_vars(dfs[key])"
   ]
  },
  {
   "cell_type": "markdown",
   "id": "congressional-cosmetic",
   "metadata": {},
   "source": [
    "### Plotting all variables for varying m4 values"
   ]
  },
  {
   "cell_type": "code",
   "execution_count": 99,
   "id": "official-convenience",
   "metadata": {},
   "outputs": [],
   "source": [
    "from pathlib import Path\n"
   ]
  },
  {
   "cell_type": "code",
   "execution_count": 100,
   "id": "english-comparison",
   "metadata": {},
   "outputs": [],
   "source": [
    "my_list_of_colors = ['black','deeppink','royalblue','orange']*5\n",
    "# colors = cm.get_cmap('brg')\n",
    "# my_list_of_colors=colors(np.linspace(0,1,7))\n",
    "my_list_of_dashes = ['-','-','-','-']*5\n",
    "my_hatches = ['/////////////////////////////',\n",
    "              '/////////////////////////////',\n",
    "              '/////////////////////////////',\n",
    "              '/////////////////////////////']*5\n",
    "\n",
    "def plot_varying_m4(var, MIN,MAX, hnltype='majorana', hel='LH', vertex='NConly', xlabel='x', colors=my_list_of_colors, units = 1, cum=''):\n",
    "\n",
    "    fig,ax = std_fig()\n",
    "    \n",
    "    for i in range(len(hnlmasses)):\n",
    "        mN = hnlmasses[i]\n",
    "#         my_histogram(ax, dfs[f'{mN}_ee_{hel}_{hnltype}_{vertex}'], var, var_range=(MIN, MAX), units = units,\n",
    "#                      color=colors[i],label=fr'$m_N = {mN*1e3}$ MeV', density=True, ls=my_list_of_dashes[i], hatch=my_hatches[i])\n",
    "        error_histogram(ax, dfs[f'{mN}_ee_{hel}_{hnltype}_{vertex}'], var, var_range=(MIN, MAX), units = units,\n",
    "                         color=colors[i],label=fr'$m_N = {mN*1e3}$ MeV', \n",
    "                            density=True, ls=my_list_of_dashes[i], hatch=my_hatches[i],\n",
    "                           cumulative=cum)\n",
    "        \n",
    "\n",
    "    ax.patch.set_alpha(0.0)\n",
    "\n",
    "    \n",
    "    ax.legend(loc='best',frameon=False,ncol=1)\n",
    "    ax.set_xlabel(xlabel)\n",
    "    ax.set_ylabel(r\"a.u.\")\n",
    "    ax.set_xlim(MIN,MAX)\n",
    "    ax.set_ylim(0.,ax.get_ylim()[1]*1.1)\n",
    "    # ax.set_yscale('log')\n",
    "    ax.set_title(fr\"$N \\to \\nu e^+e^-$ $-$ {hnltype} {hel} {vertex}\",fontsize=fsize)\n",
    "    my_path=f'plots/kinematics/{hnltype}/{vertex}/{cum}/'\n",
    "    filename=f'{hnltype}_{hel}_{vertex}_{var}'\n",
    "    Path(my_path).mkdir(parents=True, exist_ok=True)\n",
    "    print(filename)\n",
    "#     plt.savefig(f\"plots/kinematics/{filename}.png\", dpi=400)\n",
    "    plt.savefig(f\"{my_path}{filename}.pdf\")\n",
    "    plt.close()\n",
    "\n",
    "def all_vars(cum='', hnltype='majorana', hel='LH', vertex='NConly'):\n",
    "    plot_varying_m4('easy',-1,1, xlabel=r'$(E_{e^+} - E_{e^-})/(E_{e^+} + E_{e^-})$GeV', \n",
    "                    cum=cum, hnltype=hnltype, hel=hel, vertex=vertex)\n",
    "    plot_varying_m4('ee_momentum',0,7, xlabel=r'$E_{ee}/$GeV', \n",
    "                    cum=cum, hnltype=hnltype, hel=hel, vertex=vertex)\n",
    "    plot_varying_m4('e_smallest',0,7, xlabel=r'$E_{e}^{\\rm min}/$GeV', \n",
    "                    cum=cum, hnltype=hnltype, hel=hel, vertex=vertex)\n",
    "    plot_varying_m4('e_largest',0,7, xlabel=r'$E_{e}^{\\rm max}/$GeV', \n",
    "                    cum=cum, hnltype=hnltype, hel=hel, vertex=vertex)\n",
    "    plot_varying_m4('ee_theta',0,30, units = 180/np.pi, xlabel=r'$\\Delta \\theta_{ee}\\,(^\\circ)$', \n",
    "                    cum=cum, hnltype=hnltype, hel=hel, vertex=vertex)\n",
    "    plot_varying_m4('ee_beam_theta',0,20, units = 180/np.pi, xlabel=r'$\\theta_{ee}^{\\rm beam} \\, (^\\circ)$', \n",
    "                    cum=cum, hnltype=hnltype, hel=hel, vertex=vertex)\n",
    "    plot_varying_m4('ee_beam_costheta',0.998,1, units = 1, xlabel=r'$\\cos(\\theta_{ee}^{\\rm beam})$', \n",
    "                    cum=cum, hnltype=hnltype, hel=hel, vertex=vertex)\n",
    "    plot_varying_m4('radius_plus',0,100, units = 1e-2, xlabel=r'curvature radius (m)', \n",
    "                    cum=cum, hnltype=hnltype, hel=hel, vertex=vertex)\n",
    "    plot_varying_m4('distance_between_circles_at_10cm',0,10, units = 1, xlabel=r'distance between bent trajectories at 10 cm', \n",
    "                    cum=cum, hnltype=hnltype, hel=hel, vertex=vertex)\n",
    "    plot_varying_m4('distance_between_circles_at_20cm',0,20, units = 1, xlabel=r'distance between bent trajectories at 20 cm', \n",
    "                    cum=cum, hnltype=hnltype, hel=hel, vertex=vertex)\n",
    "    plot_varying_m4('distance_between_circles_at_50cm',0,50, units = 1, xlabel=r'distance between bent trajectories at 50 cm', \n",
    "                    cum=cum, hnltype=hnltype, hel=hel, vertex=vertex)\n",
    "    plot_varying_m4('race_to_b=1cm',0,10, units = 1e-2, xlabel=r'travel distance to b=1 (cm)', \n",
    "                    cum=cum, hnltype=hnltype, hel=hel, vertex=vertex)\n",
    "    plot_varying_m4('ee_mass',0,250, units = 1e3, xlabel=r'$e^+e^-$ invariant mass (MeV)', \n",
    "                    cum=cum, hnltype=hnltype, hel=hel, vertex=vertex)\n",
    "\n",
    "cum_types = ['', 'cum_sum', 'cum_sum_prior_to']\n",
    "def batch_plot_kinematics():\n",
    "    for cum in cum_types:\n",
    "        for hnltype in hnltypes:\n",
    "            for hel in ['LH']:\n",
    "                for vertex in vertices:\n",
    "                    all_vars(cum=cum, hnltype=hnltype, hel=hel, vertex=vertex)\n",
    "\n",
    "                    "
   ]
  },
  {
   "cell_type": "code",
   "execution_count": 101,
   "id": "associate-selection",
   "metadata": {},
   "outputs": [],
   "source": [
    "import warnings\n",
    "warnings.filterwarnings('ignore')"
   ]
  },
  {
   "cell_type": "code",
   "execution_count": 102,
   "id": "dried-cookbook",
   "metadata": {},
   "outputs": [
    {
     "name": "stdout",
     "output_type": "stream",
     "text": [
      "dirac_LH_CConly_easy\n",
      "dirac_LH_CConly_ee_momentum\n",
      "dirac_LH_CConly_e_smallest\n",
      "dirac_LH_CConly_e_largest\n",
      "dirac_LH_CConly_ee_theta\n",
      "dirac_LH_CConly_ee_beam_theta\n",
      "dirac_LH_CConly_ee_beam_costheta\n",
      "dirac_LH_CConly_radius_plus\n",
      "dirac_LH_CConly_distance_between_circles_at_10cm\n",
      "dirac_LH_CConly_distance_between_circles_at_20cm\n",
      "dirac_LH_CConly_distance_between_circles_at_50cm\n",
      "dirac_LH_CConly_race_to_b=1cm\n",
      "dirac_LH_CConly_ee_mass\n",
      "dirac_LH_CCandNC_easy\n",
      "dirac_LH_CCandNC_ee_momentum\n",
      "dirac_LH_CCandNC_e_smallest\n",
      "dirac_LH_CCandNC_e_largest\n",
      "dirac_LH_CCandNC_ee_theta\n",
      "dirac_LH_CCandNC_ee_beam_theta\n",
      "dirac_LH_CCandNC_ee_beam_costheta\n",
      "dirac_LH_CCandNC_radius_plus\n",
      "dirac_LH_CCandNC_distance_between_circles_at_10cm\n",
      "dirac_LH_CCandNC_distance_between_circles_at_20cm\n",
      "dirac_LH_CCandNC_distance_between_circles_at_50cm\n",
      "dirac_LH_CCandNC_race_to_b=1cm\n",
      "dirac_LH_CCandNC_ee_mass\n",
      "majorana_LH_CConly_easy\n",
      "majorana_LH_CConly_ee_momentum\n",
      "majorana_LH_CConly_e_smallest\n",
      "majorana_LH_CConly_e_largest\n",
      "majorana_LH_CConly_ee_theta\n",
      "majorana_LH_CConly_ee_beam_theta\n",
      "majorana_LH_CConly_ee_beam_costheta\n",
      "majorana_LH_CConly_radius_plus\n",
      "majorana_LH_CConly_distance_between_circles_at_10cm\n",
      "majorana_LH_CConly_distance_between_circles_at_20cm\n",
      "majorana_LH_CConly_distance_between_circles_at_50cm\n",
      "majorana_LH_CConly_race_to_b=1cm\n",
      "majorana_LH_CConly_ee_mass\n",
      "majorana_LH_CCandNC_easy\n",
      "majorana_LH_CCandNC_ee_momentum\n",
      "majorana_LH_CCandNC_e_smallest\n",
      "majorana_LH_CCandNC_e_largest\n",
      "majorana_LH_CCandNC_ee_theta\n",
      "majorana_LH_CCandNC_ee_beam_theta\n",
      "majorana_LH_CCandNC_ee_beam_costheta\n",
      "majorana_LH_CCandNC_radius_plus\n",
      "majorana_LH_CCandNC_distance_between_circles_at_10cm\n",
      "majorana_LH_CCandNC_distance_between_circles_at_20cm\n",
      "majorana_LH_CCandNC_distance_between_circles_at_50cm\n",
      "majorana_LH_CCandNC_race_to_b=1cm\n",
      "majorana_LH_CCandNC_ee_mass\n",
      "dirac_LH_CConly_easy\n",
      "dirac_LH_CConly_ee_momentum\n",
      "dirac_LH_CConly_e_smallest\n",
      "dirac_LH_CConly_e_largest\n",
      "dirac_LH_CConly_ee_theta\n",
      "dirac_LH_CConly_ee_beam_theta\n",
      "dirac_LH_CConly_ee_beam_costheta\n",
      "dirac_LH_CConly_radius_plus\n",
      "dirac_LH_CConly_distance_between_circles_at_10cm\n",
      "dirac_LH_CConly_distance_between_circles_at_20cm\n",
      "dirac_LH_CConly_distance_between_circles_at_50cm\n",
      "dirac_LH_CConly_race_to_b=1cm\n",
      "dirac_LH_CConly_ee_mass\n",
      "dirac_LH_CCandNC_easy\n",
      "dirac_LH_CCandNC_ee_momentum\n",
      "dirac_LH_CCandNC_e_smallest\n",
      "dirac_LH_CCandNC_e_largest\n",
      "dirac_LH_CCandNC_ee_theta\n",
      "dirac_LH_CCandNC_ee_beam_theta\n",
      "dirac_LH_CCandNC_ee_beam_costheta\n",
      "dirac_LH_CCandNC_radius_plus\n",
      "dirac_LH_CCandNC_distance_between_circles_at_10cm\n",
      "dirac_LH_CCandNC_distance_between_circles_at_20cm\n",
      "dirac_LH_CCandNC_distance_between_circles_at_50cm\n",
      "dirac_LH_CCandNC_race_to_b=1cm\n",
      "dirac_LH_CCandNC_ee_mass\n",
      "majorana_LH_CConly_easy\n",
      "majorana_LH_CConly_ee_momentum\n",
      "majorana_LH_CConly_e_smallest\n",
      "majorana_LH_CConly_e_largest\n",
      "majorana_LH_CConly_ee_theta\n",
      "majorana_LH_CConly_ee_beam_theta\n",
      "majorana_LH_CConly_ee_beam_costheta\n",
      "majorana_LH_CConly_radius_plus\n",
      "majorana_LH_CConly_distance_between_circles_at_10cm\n",
      "majorana_LH_CConly_distance_between_circles_at_20cm\n",
      "majorana_LH_CConly_distance_between_circles_at_50cm\n",
      "majorana_LH_CConly_race_to_b=1cm\n",
      "majorana_LH_CConly_ee_mass\n",
      "majorana_LH_CCandNC_easy\n",
      "majorana_LH_CCandNC_ee_momentum\n",
      "majorana_LH_CCandNC_e_smallest\n",
      "majorana_LH_CCandNC_e_largest\n",
      "majorana_LH_CCandNC_ee_theta\n",
      "majorana_LH_CCandNC_ee_beam_theta\n",
      "majorana_LH_CCandNC_ee_beam_costheta\n",
      "majorana_LH_CCandNC_radius_plus\n",
      "majorana_LH_CCandNC_distance_between_circles_at_10cm\n",
      "majorana_LH_CCandNC_distance_between_circles_at_20cm\n",
      "majorana_LH_CCandNC_distance_between_circles_at_50cm\n",
      "majorana_LH_CCandNC_race_to_b=1cm\n",
      "majorana_LH_CCandNC_ee_mass\n",
      "dirac_LH_CConly_easy\n",
      "dirac_LH_CConly_ee_momentum\n",
      "dirac_LH_CConly_e_smallest\n",
      "dirac_LH_CConly_e_largest\n",
      "dirac_LH_CConly_ee_theta\n",
      "dirac_LH_CConly_ee_beam_theta\n",
      "dirac_LH_CConly_ee_beam_costheta\n",
      "dirac_LH_CConly_radius_plus\n",
      "dirac_LH_CConly_distance_between_circles_at_10cm\n",
      "dirac_LH_CConly_distance_between_circles_at_20cm\n",
      "dirac_LH_CConly_distance_between_circles_at_50cm\n",
      "dirac_LH_CConly_race_to_b=1cm\n",
      "dirac_LH_CConly_ee_mass\n",
      "dirac_LH_CCandNC_easy\n",
      "dirac_LH_CCandNC_ee_momentum\n",
      "dirac_LH_CCandNC_e_smallest\n",
      "dirac_LH_CCandNC_e_largest\n",
      "dirac_LH_CCandNC_ee_theta\n",
      "dirac_LH_CCandNC_ee_beam_theta\n",
      "dirac_LH_CCandNC_ee_beam_costheta\n",
      "dirac_LH_CCandNC_radius_plus\n",
      "dirac_LH_CCandNC_distance_between_circles_at_10cm\n",
      "dirac_LH_CCandNC_distance_between_circles_at_20cm\n",
      "dirac_LH_CCandNC_distance_between_circles_at_50cm\n",
      "dirac_LH_CCandNC_race_to_b=1cm\n",
      "dirac_LH_CCandNC_ee_mass\n",
      "majorana_LH_CConly_easy\n",
      "majorana_LH_CConly_ee_momentum\n",
      "majorana_LH_CConly_e_smallest\n",
      "majorana_LH_CConly_e_largest\n",
      "majorana_LH_CConly_ee_theta\n",
      "majorana_LH_CConly_ee_beam_theta\n",
      "majorana_LH_CConly_ee_beam_costheta\n",
      "majorana_LH_CConly_radius_plus\n",
      "majorana_LH_CConly_distance_between_circles_at_10cm\n",
      "majorana_LH_CConly_distance_between_circles_at_20cm\n",
      "majorana_LH_CConly_distance_between_circles_at_50cm\n",
      "majorana_LH_CConly_race_to_b=1cm\n",
      "majorana_LH_CConly_ee_mass\n",
      "majorana_LH_CCandNC_easy\n",
      "majorana_LH_CCandNC_ee_momentum\n",
      "majorana_LH_CCandNC_e_smallest\n",
      "majorana_LH_CCandNC_e_largest\n",
      "majorana_LH_CCandNC_ee_theta\n",
      "majorana_LH_CCandNC_ee_beam_theta\n",
      "majorana_LH_CCandNC_ee_beam_costheta\n",
      "majorana_LH_CCandNC_radius_plus\n",
      "majorana_LH_CCandNC_distance_between_circles_at_10cm\n",
      "majorana_LH_CCandNC_distance_between_circles_at_20cm\n",
      "majorana_LH_CCandNC_distance_between_circles_at_50cm\n",
      "majorana_LH_CCandNC_race_to_b=1cm\n",
      "majorana_LH_CCandNC_ee_mass\n"
     ]
    }
   ],
   "source": [
    "batch_plot_kinematics()"
   ]
  },
  {
   "cell_type": "code",
   "execution_count": 118,
   "id": "recreational-weather",
   "metadata": {},
   "outputs": [],
   "source": [
    "my_list_of_colors = ['black','deeppink','royalblue','orange']*5\n",
    "# colors = cm.get_cmap('brg')\n",
    "# my_list_of_colors=colors(np.linspace(0,1,7))\n",
    "my_list_of_dashes = ['-','-','-','-']*5\n",
    "my_hatches = ['/////////////////////////////',\n",
    "              '/////////////////////////////',\n",
    "              '/////////////////////////////',\n",
    "              '/////////////////////////////']*5\n",
    "vertices = ['NConly','CConly','CCandNC']\n",
    "hnlmasses = [0.150]\n",
    "def plot_varying_vertex(var, MIN, MAX, hnltype='majorana', hel='LH', mN=0.150, xlabel='x', colors=my_list_of_colors, units = 1, cum=''):\n",
    "\n",
    "    fig,ax = std_fig()\n",
    "    \n",
    "    for i in range(len(vertices)):\n",
    "        vertex = vertices[i]\n",
    "        \n",
    "        error_histogram(ax, dfs[f'{mN}_ee_{hel}_{hnltype}_{vertex}'], var, var_range=(MIN, MAX), units = units,\n",
    "                         color=colors[i],label=fr'{vertex}', \n",
    "                            density=True, ls=my_list_of_dashes[i], hatch=my_hatches[i],\n",
    "                           cumulative=cum)\n",
    "\n",
    "    ax.patch.set_alpha(0.0)\n",
    "    ax.legend(loc='upper right',frameon=False,ncol=1)\n",
    "    ax.set_xlabel(xlabel)\n",
    "    ax.set_ylabel(r\"a.u.\")\n",
    "    ax.set_xlim(MIN,MAX)\n",
    "    ax.set_ylim(0.,ax.get_ylim()[1]*1.1)\n",
    "    # ax.set_yscale('log')\n",
    "    ax.set_title(fr\"$N \\to \\nu e^+e^-$ $-$ {hnltype} {hel} $m_N = ${mN*1e3} MeV\",fontsize=fsize)\n",
    "    filename=f'{hnltype}_{hel}_{mN:.3g}_{var}'\n",
    "    print(filename)\n",
    "    path=f\"plots/kinematics/{hnltype}/{mN:.3g}/{cum}/\"\n",
    "    Path(path).mkdir(parents=True, exist_ok=True)\n",
    "    plt.savefig(f'{path}/{filename}.pdf')\n",
    "#     plt.savefig(f'{path}/{filename}.png', dpi=400)\n",
    "    plt.close()\n",
    "\n",
    "def all_vars_vertices(cum='', hnltype='majorana', hel='LH', mN=0.150):\n",
    "    plot_varying_vertex('easy',-1,1, xlabel=r'$(E_{e^+} - E_{e^-})/(E_{e^+} + E_{e^-})$GeV', \n",
    "                    cum=cum, hnltype=hnltype, hel=hel, mN=mN)\n",
    "    plot_varying_vertex('ee_momentum',0,7, xlabel=r'$E_{ee}/$GeV', \n",
    "                    cum=cum, hnltype=hnltype, hel=hel, mN=mN)\n",
    "    plot_varying_vertex('e_smallest',0,7, xlabel=r'$E_{e}^{\\rm min}/$GeV', \n",
    "                    cum=cum, hnltype=hnltype, hel=hel, mN=mN)\n",
    "    plot_varying_vertex('e_largest',0,7, xlabel=r'$E_{e}^{\\rm max}/$GeV', \n",
    "                    cum=cum, hnltype=hnltype, hel=hel, mN=mN)\n",
    "    plot_varying_vertex('ee_theta',0,20, units = 180/np.pi, xlabel=r'$\\Delta \\theta_{ee}\\,(^\\circ)$', \n",
    "                    cum=cum, hnltype=hnltype, hel=hel, mN=mN)\n",
    "    plot_varying_vertex('ee_beam_theta',0,10, units = 180/np.pi, xlabel=r'$\\theta_{ee}^{\\rm beam} \\, (^\\circ)$', \n",
    "                    cum=cum, hnltype=hnltype, hel=hel, mN=mN)\n",
    "    plot_varying_vertex('ee_beam_costheta',0.998,1, units = 1, xlabel=r'$\\cos(\\theta_{ee}^{\\rm beam})$', \n",
    "                    cum=cum, hnltype=hnltype, hel=hel, mN=mN)\n",
    "    plot_varying_vertex('radius_plus',0,100, units = 1e-2, xlabel=r'curvature radius (m)', \n",
    "                    cum=cum, hnltype=hnltype, hel=hel, mN=mN)\n",
    "    plot_varying_vertex('distance_between_circles_at_10cm',0,3, units = 1, xlabel=r'distance between bent trajectories at 10 cm', \n",
    "                    cum=cum, hnltype=hnltype, hel=hel, mN=mN)\n",
    "    plot_varying_vertex('distance_between_circles_at_20cm',0,20, units = 1, xlabel=r'distance between bent trajectories at 20 cm', \n",
    "                    cum=cum, hnltype=hnltype, hel=hel, mN=mN)\n",
    "\n",
    "cum_types = ['', 'cum_sum', 'cum_sum_prior_to']\n",
    "def batch_plot_kinematics_vertices():\n",
    "    for cum in cum_types:\n",
    "        for hnltype in hnltypes:\n",
    "            for hel in ['LH','RH']:\n",
    "                for hnlmass in hnlmasses:\n",
    "                    all_vars_vertices(cum=cum, hnltype=hnltype, hel=hel, mN=hnlmass)\n",
    "                    \n",
    "                    \n",
    "                    \n",
    "                    "
   ]
  },
  {
   "cell_type": "code",
   "execution_count": 119,
   "id": "vocal-tuition",
   "metadata": {},
   "outputs": [
    {
     "name": "stdout",
     "output_type": "stream",
     "text": [
      "dirac_LH_0.15_easy\n",
      "dirac_LH_0.15_ee_momentum\n",
      "dirac_LH_0.15_e_smallest\n",
      "dirac_LH_0.15_e_largest\n",
      "dirac_LH_0.15_ee_theta\n",
      "dirac_LH_0.15_ee_beam_theta\n",
      "dirac_LH_0.15_ee_beam_costheta\n",
      "dirac_LH_0.15_radius_plus\n",
      "dirac_LH_0.15_distance_between_circles_at_10cm\n",
      "dirac_LH_0.15_distance_between_circles_at_20cm\n"
     ]
    },
    {
     "ename": "KeyError",
     "evalue": "'0.15_ee_RH_dirac_NConly'",
     "output_type": "error",
     "traceback": [
      "\u001b[0;31m---------------------------------------------------------------------------\u001b[0m",
      "\u001b[0;31mKeyError\u001b[0m                                  Traceback (most recent call last)",
      "\u001b[0;32m<ipython-input-119-e1e3929adf0e>\u001b[0m in \u001b[0;36m<module>\u001b[0;34m\u001b[0m\n\u001b[0;32m----> 1\u001b[0;31m \u001b[0mbatch_plot_kinematics_vertices\u001b[0m\u001b[0;34m(\u001b[0m\u001b[0;34m)\u001b[0m\u001b[0;34m\u001b[0m\u001b[0;34m\u001b[0m\u001b[0m\n\u001b[0m",
      "\u001b[0;32m<ipython-input-118-2180ff08b517>\u001b[0m in \u001b[0;36mbatch_plot_kinematics_vertices\u001b[0;34m()\u001b[0m\n\u001b[1;32m     65\u001b[0m             \u001b[0;32mfor\u001b[0m \u001b[0mhel\u001b[0m \u001b[0;32min\u001b[0m \u001b[0;34m[\u001b[0m\u001b[0;34m'LH'\u001b[0m\u001b[0;34m,\u001b[0m\u001b[0;34m'RH'\u001b[0m\u001b[0;34m]\u001b[0m\u001b[0;34m:\u001b[0m\u001b[0;34m\u001b[0m\u001b[0;34m\u001b[0m\u001b[0m\n\u001b[1;32m     66\u001b[0m                 \u001b[0;32mfor\u001b[0m \u001b[0mhnlmass\u001b[0m \u001b[0;32min\u001b[0m \u001b[0mhnlmasses\u001b[0m\u001b[0;34m:\u001b[0m\u001b[0;34m\u001b[0m\u001b[0;34m\u001b[0m\u001b[0m\n\u001b[0;32m---> 67\u001b[0;31m                     \u001b[0mall_vars_vertices\u001b[0m\u001b[0;34m(\u001b[0m\u001b[0mcum\u001b[0m\u001b[0;34m=\u001b[0m\u001b[0mcum\u001b[0m\u001b[0;34m,\u001b[0m \u001b[0mhnltype\u001b[0m\u001b[0;34m=\u001b[0m\u001b[0mhnltype\u001b[0m\u001b[0;34m,\u001b[0m \u001b[0mhel\u001b[0m\u001b[0;34m=\u001b[0m\u001b[0mhel\u001b[0m\u001b[0;34m,\u001b[0m \u001b[0mmN\u001b[0m\u001b[0;34m=\u001b[0m\u001b[0mhnlmass\u001b[0m\u001b[0;34m)\u001b[0m\u001b[0;34m\u001b[0m\u001b[0;34m\u001b[0m\u001b[0m\n\u001b[0m\u001b[1;32m     68\u001b[0m \u001b[0;34m\u001b[0m\u001b[0m\n\u001b[1;32m     69\u001b[0m \u001b[0;34m\u001b[0m\u001b[0m\n",
      "\u001b[0;32m<ipython-input-118-2180ff08b517>\u001b[0m in \u001b[0;36mall_vars_vertices\u001b[0;34m(cum, hnltype, hel, mN)\u001b[0m\n\u001b[1;32m     38\u001b[0m \u001b[0;34m\u001b[0m\u001b[0m\n\u001b[1;32m     39\u001b[0m \u001b[0;32mdef\u001b[0m \u001b[0mall_vars_vertices\u001b[0m\u001b[0;34m(\u001b[0m\u001b[0mcum\u001b[0m\u001b[0;34m=\u001b[0m\u001b[0;34m''\u001b[0m\u001b[0;34m,\u001b[0m \u001b[0mhnltype\u001b[0m\u001b[0;34m=\u001b[0m\u001b[0;34m'majorana'\u001b[0m\u001b[0;34m,\u001b[0m \u001b[0mhel\u001b[0m\u001b[0;34m=\u001b[0m\u001b[0;34m'LH'\u001b[0m\u001b[0;34m,\u001b[0m \u001b[0mmN\u001b[0m\u001b[0;34m=\u001b[0m\u001b[0;36m0.150\u001b[0m\u001b[0;34m)\u001b[0m\u001b[0;34m:\u001b[0m\u001b[0;34m\u001b[0m\u001b[0;34m\u001b[0m\u001b[0m\n\u001b[0;32m---> 40\u001b[0;31m     plot_varying_vertex('easy',-1,1, xlabel=r'$(E_{e^+} - E_{e^-})/(E_{e^+} + E_{e^-})$GeV', \n\u001b[0m\u001b[1;32m     41\u001b[0m                     cum=cum, hnltype=hnltype, hel=hel, mN=mN)\n\u001b[1;32m     42\u001b[0m     plot_varying_vertex('ee_momentum',0,7, xlabel=r'$E_{ee}/$GeV', \n",
      "\u001b[0;32m<ipython-input-118-2180ff08b517>\u001b[0m in \u001b[0;36mplot_varying_vertex\u001b[0;34m(var, MIN, MAX, hnltype, hel, mN, xlabel, colors, units, cum)\u001b[0m\n\u001b[1;32m     16\u001b[0m         \u001b[0mvertex\u001b[0m \u001b[0;34m=\u001b[0m \u001b[0mvertices\u001b[0m\u001b[0;34m[\u001b[0m\u001b[0mi\u001b[0m\u001b[0;34m]\u001b[0m\u001b[0;34m\u001b[0m\u001b[0;34m\u001b[0m\u001b[0m\n\u001b[1;32m     17\u001b[0m \u001b[0;34m\u001b[0m\u001b[0m\n\u001b[0;32m---> 18\u001b[0;31m         error_histogram(ax, dfs[f'{mN}_ee_{hel}_{hnltype}_{vertex}'], var, var_range=(MIN, MAX), units = units,\n\u001b[0m\u001b[1;32m     19\u001b[0m                          \u001b[0mcolor\u001b[0m\u001b[0;34m=\u001b[0m\u001b[0mcolors\u001b[0m\u001b[0;34m[\u001b[0m\u001b[0mi\u001b[0m\u001b[0;34m]\u001b[0m\u001b[0;34m,\u001b[0m\u001b[0mlabel\u001b[0m\u001b[0;34m=\u001b[0m\u001b[0;34mfr'{vertex}'\u001b[0m\u001b[0;34m,\u001b[0m\u001b[0;34m\u001b[0m\u001b[0;34m\u001b[0m\u001b[0m\n\u001b[1;32m     20\u001b[0m                             \u001b[0mdensity\u001b[0m\u001b[0;34m=\u001b[0m\u001b[0;32mTrue\u001b[0m\u001b[0;34m,\u001b[0m \u001b[0mls\u001b[0m\u001b[0;34m=\u001b[0m\u001b[0mmy_list_of_dashes\u001b[0m\u001b[0;34m[\u001b[0m\u001b[0mi\u001b[0m\u001b[0;34m]\u001b[0m\u001b[0;34m,\u001b[0m \u001b[0mhatch\u001b[0m\u001b[0;34m=\u001b[0m\u001b[0mmy_hatches\u001b[0m\u001b[0;34m[\u001b[0m\u001b[0mi\u001b[0m\u001b[0;34m]\u001b[0m\u001b[0;34m,\u001b[0m\u001b[0;34m\u001b[0m\u001b[0;34m\u001b[0m\u001b[0m\n",
      "\u001b[0;31mKeyError\u001b[0m: '0.15_ee_RH_dirac_NConly'"
     ]
    },
    {
     "data": {
      "image/png": "[encoded data removed]",
      "text/plain": [
       "<Figure size 319.68x238.059 with 1 Axes>"
      ]
     },
     "metadata": {
      "needs_background": "light"
     },
     "output_type": "display_data"
    }
   ],
   "source": [
    "batch_plot_kinematics_vertices()"
   ]
  },
  {
   "cell_type": "code",
   "execution_count": null,
   "id": "tender-military",
   "metadata": {},
   "outputs": [],
   "source": []
  },
  {
   "cell_type": "code",
   "execution_count": null,
   "id": "thick-tsunami",
   "metadata": {},
   "outputs": [],
   "source": []
  },
  {
   "cell_type": "code",
   "execution_count": null,
   "id": "amino-telling",
   "metadata": {},
   "outputs": [],
   "source": []
  }
 ],
 "metadata": {
  "kernelspec": {
   "display_name": "Python 3",
   "language": "python",
   "name": "python3"
  },
  "language_info": {
   "codemirror_mode": {
    "name": "ipython",
    "version": 3
   },
   "file_extension": ".py",
   "mimetype": "text/x-python",
   "name": "python",
   "nbconvert_exporter": "python",
   "pygments_lexer": "ipython3",
   "version": "3.9.5"
  }
 },
 "nbformat": 4,
 "nbformat_minor": 5
}
