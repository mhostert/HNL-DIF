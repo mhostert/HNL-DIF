{
 "cells": [
  {
   "cell_type": "markdown",
   "metadata": {},
   "source": [
    "# Little notebook to plot HNL constraints (mixing vs mass)"
   ]
  },
  {
   "cell_type": "markdown",
   "metadata": {},
   "source": [
    "### A little module that compiles all constraints together"
   ]
  },
  {
   "cell_type": "code",
   "execution_count": 1,
   "metadata": {},
   "outputs": [],
   "source": [
    "%load_ext autoreload\n",
    "%autoreload 2"
   ]
  },
  {
   "cell_type": "code",
   "execution_count": 15,
   "metadata": {
    "scrolled": false
   },
   "outputs": [],
   "source": [
    "from Nlimits import *\n",
    "from Nlimits.constraint_dict import *\n",
    "from Nlimits.plotter import *"
   ]
  },
  {
   "cell_type": "code",
   "execution_count": 14,
   "metadata": {},
   "outputs": [],
   "source": [
    "import numpy as np\n",
    "from matplotlib import rc, rcParams\n",
    "import matplotlib.lines as mlines\n",
    "import matplotlib.pyplot as plt\n",
    "from matplotlib.pyplot import *\n",
    "from scipy import interpolate\n",
    "import scipy.stats\n",
    "import sys\n",
    "import scipy.ndimage as ndimage\n",
    "import os\n",
    "from scipy import interpolate\n",
    "import matplotlib.tri as tri"
   ]
  },
  {
   "cell_type": "markdown",
   "metadata": {},
   "source": [
    "# ELECTRON"
   ]
  },
  {
   "cell_type": "code",
   "execution_count": 10,
   "metadata": {},
   "outputs": [],
   "source": []
  },
  {
   "cell_type": "code",
   "execution_count": 13,
   "metadata": {},
   "outputs": [
    {
     "ename": "NameError",
     "evalue": "name 'muon_bounds' is not defined",
     "output_type": "error",
     "traceback": [
      "\u001b[0;31m---------------------------------------------------------------------------\u001b[0m",
      "\u001b[0;31mNameError\u001b[0m                                 Traceback (most recent call last)",
      "\u001b[0;32m<ipython-input-13-93b203dc5480>\u001b[0m in \u001b[0;36m<module>\u001b[0;34m\u001b[0m\n\u001b[0;32m----> 1\u001b[0;31m \u001b[0maxmu\u001b[0m\u001b[0;34m,\u001b[0m \u001b[0mfigmu\u001b[0m \u001b[0;34m=\u001b[0m \u001b[0mplot_lines\u001b[0m\u001b[0;34m(\u001b[0m\u001b[0;34m'mu'\u001b[0m\u001b[0;34m,\u001b[0m\u001b[0mm4min\u001b[0m\u001b[0;34m=\u001b[0m\u001b[0;36m0.02\u001b[0m\u001b[0;34m,\u001b[0m\u001b[0mm4max\u001b[0m\u001b[0;34m=\u001b[0m\u001b[0;36m0.2\u001b[0m\u001b[0;34m,\u001b[0m\u001b[0munits\u001b[0m\u001b[0;34m=\u001b[0m\u001b[0;36m1e3\u001b[0m\u001b[0;34m)\u001b[0m\u001b[0;34m\u001b[0m\u001b[0;34m\u001b[0m\u001b[0m\n\u001b[0m\u001b[1;32m      2\u001b[0m \u001b[0;34m\u001b[0m\u001b[0m\n\u001b[1;32m      3\u001b[0m \u001b[0mx\u001b[0m \u001b[0;34m=\u001b[0m \u001b[0mnp\u001b[0m\u001b[0;34m.\u001b[0m\u001b[0mlogspace\u001b[0m\u001b[0;34m(\u001b[0m\u001b[0mnp\u001b[0m\u001b[0;34m.\u001b[0m\u001b[0mlog10\u001b[0m\u001b[0;34m(\u001b[0m\u001b[0;36m20\u001b[0m\u001b[0;34m)\u001b[0m\u001b[0;34m,\u001b[0m\u001b[0mnp\u001b[0m\u001b[0;34m.\u001b[0m\u001b[0mlog10\u001b[0m\u001b[0;34m(\u001b[0m\u001b[0;36m200\u001b[0m\u001b[0;34m)\u001b[0m\u001b[0;34m,\u001b[0m \u001b[0;36m1000\u001b[0m\u001b[0;34m)\u001b[0m\u001b[0;34m\u001b[0m\u001b[0;34m\u001b[0m\u001b[0m\n\u001b[1;32m      4\u001b[0m \u001b[0;34m\u001b[0m\u001b[0m\n\u001b[1;32m      5\u001b[0m \u001b[0;31m##\u001b[0m\u001b[0;34m\u001b[0m\u001b[0;34m\u001b[0m\u001b[0;34m\u001b[0m\u001b[0m\n",
      "\u001b[0;32m~/Repos/stdHNL/Nlimits/plotter.py\u001b[0m in \u001b[0;36mplot_lines\u001b[0;34m(flavor, save, invisible, m4min, m4max, units)\u001b[0m\n\u001b[1;32m     44\u001b[0m     \u001b[0;31m#############\u001b[0m\u001b[0;34m\u001b[0m\u001b[0;34m\u001b[0m\u001b[0;34m\u001b[0m\u001b[0m\n\u001b[1;32m     45\u001b[0m     \u001b[0;31m# get bounds\u001b[0m\u001b[0;34m\u001b[0m\u001b[0;34m\u001b[0m\u001b[0;34m\u001b[0m\u001b[0m\n\u001b[0;32m---> 46\u001b[0;31m     \u001b[0mlist_of_bounds\u001b[0m\u001b[0;34m=\u001b[0m\u001b[0mumu4\u001b[0m\u001b[0;34m.\u001b[0m\u001b[0mget_individual_bounds\u001b[0m\u001b[0;34m(\u001b[0m\u001b[0mmuon_bounds\u001b[0m\u001b[0;34m,\u001b[0m \u001b[0mm4min\u001b[0m\u001b[0;34m=\u001b[0m\u001b[0mm4min\u001b[0m\u001b[0;34m,\u001b[0m \u001b[0mm4max\u001b[0m\u001b[0;34m=\u001b[0m\u001b[0mm4max\u001b[0m\u001b[0;34m)\u001b[0m\u001b[0;34m\u001b[0m\u001b[0;34m\u001b[0m\u001b[0m\n\u001b[0m\u001b[1;32m     47\u001b[0m \u001b[0;34m\u001b[0m\u001b[0m\n\u001b[1;32m     48\u001b[0m     \u001b[0;32mfor\u001b[0m \u001b[0mkey\u001b[0m \u001b[0;32min\u001b[0m \u001b[0mlist_of_bounds\u001b[0m\u001b[0;34m.\u001b[0m\u001b[0mkeys\u001b[0m\u001b[0;34m(\u001b[0m\u001b[0;34m)\u001b[0m\u001b[0;34m:\u001b[0m\u001b[0;34m\u001b[0m\u001b[0;34m\u001b[0m\u001b[0m\n",
      "\u001b[0;31mNameError\u001b[0m: name 'muon_bounds' is not defined"
     ]
    },
    {
     "data": {
      "image/png": "[encoded data removed]",
      "text/plain": [
       "<Figure size 291.6x256.5 with 1 Axes>"
      ]
     },
     "metadata": {
      "needs_background": "light"
     },
     "output_type": "display_data"
    }
   ],
   "source": [
    "axmu, figmu = plot_lines('mu',m4min=0.02,m4max=0.2,units=1e3)\n",
    "\n",
    "x = np.logspace(np.log10(20),np.log10(200), 1000)\n",
    "\n",
    "##\n",
    "this_file = 'digitized/muboone_kelly_machado/PS_eff_avg.dat'\n",
    "m4, Umu4sq = np.genfromtxt(this_file, unpack=True)\n",
    "units = 1\n",
    "f = interpolate.interp1d(m4*units, Umu4sq, kind='linear', bounds_error=False, fill_value=None, assume_sorted=False)    \n",
    "axmu.plot(x, f(x), c='black', ls='-', label='Kelly \\& Machado 1')\n",
    "\n",
    "##\n",
    "this_file = 'digitized/muboone_kelly_machado/PS_eff_scalar.dat'\n",
    "m4, Umu4sq = np.genfromtxt(this_file, unpack=True)\n",
    "units = 1\n",
    "f = interpolate.interp1d(m4*units, Umu4sq, kind='linear', bounds_error=False, fill_value=None, assume_sorted=False)    \n",
    "axmu.plot(x, f(x), c='black', ls='--', label='Kelly \\& Machado 2')\n",
    "\n",
    "\n",
    "##\n",
    "this_file = 'Nlimits/digitized/PS-191/UeUmu_K.dat'\n",
    "m4, Umu4sq = np.genfromtxt(this_file, unpack=True)\n",
    "fK = interpolate.interp1d(m4*units, Umu4sq, kind='linear', bounds_error=False, fill_value=1, assume_sorted=False)    \n",
    "\n",
    "this_file = 'Nlimits/digitized/PS-191/UeUmu_pi.dat'\n",
    "m4, Umu4sq = np.genfromtxt(this_file, unpack=True)\n",
    "fpi = interpolate.interp1d(m4*units, Umu4sq, kind='linear', bounds_error=False, fill_value=1, assume_sorted=False)    \n",
    "\n",
    "gL = -1/2 + 0.223\n",
    "gR = 0.22343\n",
    "scaling = np.sqrt(gL**2 +gR**2 + gR*gL)\n",
    "combined = np.amin([fK(x),fpi(x)],axis=0)\n",
    "\n",
    "NBAKGS = 30**2\n",
    "lower_line = combined/scaling\n",
    "upper_line = combined/scaling*np.sqrt(np.sqrt(NBAKGS)/2.3)\n",
    "\n",
    "axmu.fill_between(x, lower_line, upper_line, color='lightblue', lw=0.0)\n",
    "axmu.plot(x, lower_line, color='dodgerblue', ls='-', label=fr'my PS-191 $N_{{\\rm bkg}}=0$')\n",
    "axmu.plot(x, upper_line, color='dodgerblue', ls='--', label=fr'my PS-191 $N_{{\\rm sig}}={np.sqrt(NBAKGS)}$')\n",
    "\n",
    "list_of_bounds=umu4.get_individual_bounds(muon_bounds, m4min=0.01, m4max=0.2)\n",
    "\n",
    "MN,usqr_bound = list_of_bounds['kusenko_all_v2']\n",
    "axmu.plot(MN*1e3, usqr_bound, color = 'red', label=fr\"PS-191 Kusenko\")\n",
    "\n",
    "##\n",
    "# this_file = 'digitized/NA62/NA62.dat'\n",
    "# m4, Umu4sq = np.genfromtxt(this_file, unpack=True)\n",
    "# axmu.plot(m4*1e3, Umu4sq, c='blue', ls='--', label='NA62 (future)')\n",
    "\n",
    "\n",
    "axmu.set_title(r\"$|U_{e4}| = |U_{\\tau 4}| = 0$\",fontsize=10)\n",
    "axmu.legend(loc='lower left', frameon=False, ncol=3)\n",
    "\n",
    "\n",
    "figmu.patch.set_visible(False)\n",
    "figmu.savefig('plots/Umu4.png',dpi=400)"
   ]
  },
  {
   "cell_type": "code",
   "execution_count": null,
   "metadata": {},
   "outputs": [],
   "source": []
  },
  {
   "cell_type": "code",
   "execution_count": 16,
   "metadata": {
    "scrolled": true
   },
   "outputs": [],
   "source": [
    "def plot_all_lines(flavor, save=False, invisible=False):\n",
    "    fsize = 11\n",
    "    rc('text', usetex=True)\n",
    "    params={'axes.labelsize':fsize,'xtick.labelsize':fsize,'ytick.labelsize':fsize,\\\n",
    "                    'figure.figsize':(2*3.375,1.5*2.375)\t}\n",
    "    rc('font',**{'family':'serif', 'serif': ['computer modern roman']})\n",
    "    rcParams.update(params)\n",
    "    axes_form  = [0.1,0.16,0.85,0.76]\n",
    "\n",
    "\n",
    "    fig = plt.figure()\n",
    "    ax = fig.add_axes(axes_form)\n",
    "\n",
    "    ################################\n",
    "    # range of N mass\n",
    "    MN_MIN = 1e-3 # GeV\n",
    "    MN_MAX = 1e2 # GeV\n",
    "    MN = np.logspace(np.log10(MN_MIN),np.log10(MN_MAX),1000)\n",
    "\n",
    "    ##############################################\n",
    "    # decide on a flavor\n",
    "    usqr_bound = umu4.USQR(MN)\n",
    "    usqr_bound_inv = umu4.USQR_inv(MN)\n",
    "\n",
    "    ##############################################\n",
    "    # Constraints on U\\alpha4^2\n",
    "    ax.plot(MN, usqr_bound, color='navy', )\n",
    "    ax.fill_between(MN, usqr_bound, np.ones(np.size(MN)), \n",
    "                    fc='dodgerblue', ec='None', lw =0.0, alpha=0.5, label=r'all bounds')\n",
    "    ax.plot(MN, usqr_bound_inv, color='red', ls='--', label='inv bounds')\n",
    "\n",
    "\n",
    "    ax.set_title(r\"Some plot\",fontsize=fsize)\n",
    "    ax.legend(loc='lower right', frameon=False)\n",
    "    ax.set_xlim(MN_MIN,MN_MAX)\n",
    "    ax.set_ylim(1e-10,1)\n",
    "    ax.set_xscale(\"log\")\n",
    "    ax.set_yscale(\"log\")\n",
    "    ax.set_ylabel(label[flavor])\n",
    "    ax.set_xlabel(r\"$m_{N}$/GeV\")\n",
    "    ax.set_yticks([1e-9, 1e-8, 1e-7, 1e-6, 1e-5, 1e-4, 1e-3,1e-2,1e-1,1])\n",
    "    ax.grid(axis='y', which='both',dashes=(6,1),alpha=0.5,c='black',lw=0.2)\n",
    "    if save:\n",
    "        fig.savefig('plots/u'+flavor+'4.pdf')\n",
    "    return ax, fig"
   ]
  },
  {
   "cell_type": "code",
   "execution_count": 11,
   "metadata": {},
   "outputs": [
    {
     "data": {
      "image/png": "[encoded data removed]",
      "text/plain": [
       "<Figure size 486x256.5 with 1 Axes>"
      ]
     },
     "metadata": {
      "needs_background": "light"
     },
     "output_type": "display_data"
    }
   ],
   "source": [
    "axmu, figmu = plot_all_lines('mu')"
   ]
  },
  {
   "cell_type": "code",
   "execution_count": null,
   "metadata": {},
   "outputs": [],
   "source": []
  },
  {
   "cell_type": "code",
   "execution_count": null,
   "metadata": {},
   "outputs": [],
   "source": []
  },
  {
   "cell_type": "code",
   "execution_count": null,
   "metadata": {},
   "outputs": [],
   "source": []
  }
 ],
 "metadata": {
  "kernelspec": {
   "display_name": "Python 3",
   "language": "python",
   "name": "python3"
  },
  "language_info": {
   "codemirror_mode": {
    "name": "ipython",
    "version": 3
   },
   "file_extension": ".py",
   "mimetype": "text/x-python",
   "name": "python",
   "nbconvert_exporter": "python",
   "pygments_lexer": "ipython3",
   "version": "3.9.5"
  }
 },
 "nbformat": 4,
 "nbformat_minor": 4
}
