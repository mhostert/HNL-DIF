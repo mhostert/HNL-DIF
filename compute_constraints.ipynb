{
 "cells": [
  {
   "cell_type": "markdown",
   "id": "reliable-grounds",
   "metadata": {},
   "source": [
    "# For the main parameter space figures"
   ]
  },
  {
   "cell_type": "code",
   "execution_count": 40,
   "id": "statutory-validation",
   "metadata": {},
   "outputs": [
    {
     "name": "stdout",
     "output_type": "stream",
     "text": [
      "The autoreload extension is already loaded. To reload it, use:\n",
      "  %reload_ext autoreload\n"
     ]
    }
   ],
   "source": [
    "%load_ext autoreload\n",
    "%autoreload 2"
   ]
  },
  {
   "cell_type": "code",
   "execution_count": 41,
   "id": "likely-jefferson",
   "metadata": {},
   "outputs": [],
   "source": [
    "import numpy as np\n",
    "from scipy import interpolate\n",
    "\n",
    "import pathos.multiprocessing as mp\n",
    "from pathos.multiprocessing import ProcessingPool as Pool\n",
    "\n",
    "from functools import partial\n",
    "\n",
    "from particle import *\n",
    "from particle import literals as lp\n",
    "\n",
    "from HNL_MC import *\n",
    "from HNL_MC.plot_tools import *\n",
    "from HNL_MC.const import *\n",
    "\n",
    "from Nlimits import *\n",
    "from Nlimits.constraint_dict import *\n",
    "from Nlimits.plotter import *\n",
    "\n",
    "from utils_limits import *"
   ]
  },
  {
   "cell_type": "markdown",
   "id": "medical-piano",
   "metadata": {},
   "source": [
    "# Minimal version"
   ]
  },
  {
   "cell_type": "code",
   "execution_count": 60,
   "id": "falling-agriculture",
   "metadata": {},
   "outputs": [],
   "source": [
    "# set up grid\n",
    "gridx = 100\n",
    "gridy = 30\n",
    "\n",
    "M4 = np.linspace(0.02,(m_neutral_kaon - m_charged_pion - m_mu), gridx)\n",
    "USQR = np.logspace(-9,-2, gridy) \n",
    "X,Y = np.meshgrid(M4,USQR)\n",
    "m4_grid, usqr_grid = X.flatten(), Y.flatten()"
   ]
  },
  {
   "cell_type": "markdown",
   "id": "dirty-white",
   "metadata": {},
   "source": [
    "### T2K"
   ]
  },
  {
   "cell_type": "code",
   "execution_count": 61,
   "id": "logical-manor",
   "metadata": {},
   "outputs": [
    {
     "data": {
      "text/plain": [
       "<multiprocess.pool.Pool state=RUN pool_size=8>"
      ]
     },
     "execution_count": 61,
     "metadata": {},
     "output_type": "execute_result"
    }
   ],
   "source": [
    "# compute rate and lifetimes\n",
    "tot_cores = mp.cpu_count()\n",
    "pool = Pool(tot_cores)\n",
    "############\n",
    "\n",
    "dipoles = [0,0,0]\n",
    "GX = 0.0\n",
    "get_event_partial = partial(hnl_tools.get_event_rate, flavor_struct=[0.0,1.0,0.0], dipoles=dipoles, GX=GX, exp_setup = exp.ND280_FHC)\n",
    "event_rate_weak = pool.map(get_event_partial, ((m4, usqr) for m4, usqr in zip(m4_grid, usqr_grid)))\n",
    "\n",
    "get_lifetime_partial = partial(hnl_tools.get_lifetime, flavor_struct=[0.0,1.0,0.0], dipoles=dipoles, GX=GX)\n",
    "lifetime_weak = pool.map(get_lifetime_partial, ((m4, usqr) for m4, usqr in zip(m4_grid, usqr_grid)))\n",
    "\n",
    "############\n",
    "pool.terminate()\n",
    "pool.restart()"
   ]
  },
  {
   "cell_type": "code",
   "execution_count": 62,
   "id": "revolutionary-franchise",
   "metadata": {},
   "outputs": [],
   "source": [
    "# Save to file\n",
    "table_T2K_minimal = np.array([m4_grid, usqr_grid, lifetime_weak, event_rate_weak])\n",
    "np.save(\"limits_computed/T2K_minimal_Umu4\",table_T2K_minimal)\n",
    "np.savetxt(\"limits_computed/T2K_minimal_Umu4.dat\",table_T2K_minimal, header=\" m4(GeV) USQR tau0(s) event_rate\")"
   ]
  },
  {
   "cell_type": "markdown",
   "id": "champion-alliance",
   "metadata": {},
   "source": [
    "### PS191"
   ]
  },
  {
   "cell_type": "code",
   "execution_count": 49,
   "id": "instant-market",
   "metadata": {},
   "outputs": [
    {
     "data": {
      "text/plain": [
       "<multiprocess.pool.Pool state=RUN pool_size=8>"
      ]
     },
     "execution_count": 49,
     "metadata": {},
     "output_type": "execute_result"
    }
   ],
   "source": [
    "# compute rate and lifetimes\n",
    "tot_cores = mp.cpu_count()\n",
    "pool = Pool(tot_cores)\n",
    "############\n",
    "\n",
    "dipoles = [0,0,0]\n",
    "GX = 0.0\n",
    "get_event_partial = partial(hnl_tools.get_event_rate, flavor_struct=[0.0,1.0,0.0], dipoles=dipoles, GX=GX, exp_setup = exp.PS191)\n",
    "event_rate_weak_ps191 = pool.map(get_event_partial, ((m4, usqr) for m4, usqr in zip(m4_grid, usqr_grid)))\n",
    "\n",
    "############\n",
    "pool.terminate()\n",
    "pool.restart()\n"
   ]
  },
  {
   "cell_type": "code",
   "execution_count": 52,
   "id": "aboriginal-chase",
   "metadata": {},
   "outputs": [],
   "source": [
    "# Save to file\n",
    "table_PS191_minimal = np.array([m4_grid, usqr_grid, lifetime_weak, event_rate_weak_ps191])\n",
    "np.save(\"limits_computed/PS191_minimal_Umu4\",table_PS191_minimal)\n",
    "np.savetxt(\"limits_computed/PS191_minimal_Umu4.dat\",table_PS191_minimal, header=\" m4(GeV) USQR tau0(s) event_rate\")"
   ]
  },
  {
   "cell_type": "markdown",
   "id": "surprised-montgomery",
   "metadata": {},
   "source": [
    "# Magnetic moment transition"
   ]
  },
  {
   "cell_type": "code",
   "execution_count": 63,
   "id": "indie-object",
   "metadata": {},
   "outputs": [],
   "source": [
    "# set up grid\n",
    "gridx = 100\n",
    "gridy = 40\n",
    "\n",
    "M4 = np.linspace(0.02,(m_neutral_kaon - m_charged_pion - m_mu), gridx)\n",
    "USQR = np.logspace(-14,-4, gridy) \n",
    "X,Y = np.meshgrid(M4,USQR)\n",
    "m4_grid, usqr_grid = X.flatten(), Y.flatten()"
   ]
  },
  {
   "cell_type": "code",
   "execution_count": 64,
   "id": "hidden-portuguese",
   "metadata": {
    "scrolled": true
   },
   "outputs": [
    {
     "data": {
      "text/plain": [
       "<multiprocess.pool.Pool state=RUN pool_size=8>"
      ]
     },
     "execution_count": 64,
     "metadata": {},
     "output_type": "execute_result"
    }
   ],
   "source": [
    "# compute rate and lifetimes\n",
    "tot_cores = mp.cpu_count()\n",
    "pool = Pool(tot_cores)\n",
    "############\n",
    "\n",
    "dipoles = [0,5e-7,0]\n",
    "GX = 0.0\n",
    "get_event_partial = partial(hnl_tools.get_event_rate, flavor_struct=[0.0,1.0,0.0], dipoles=dipoles, GX=GX, exp_setup = exp.ND280_FHC)\n",
    "event_rate_dipole = pool.map(get_event_partial, ((m4, usqr) for m4, usqr in zip(m4_grid, usqr_grid)))\n",
    "get_lifetime_partial = partial(hnl_tools.get_lifetime, flavor_struct=[0.0,1.0,0.0], dipoles=dipoles, GX=GX)\n",
    "lifetime_dipole = pool.map(get_lifetime_partial, ((m4, usqr) for m4, usqr in zip(m4_grid, usqr_grid)))\n",
    "\n",
    "############\n",
    "pool.terminate()\n",
    "pool.restart()"
   ]
  },
  {
   "cell_type": "code",
   "execution_count": 65,
   "id": "discrete-kruger",
   "metadata": {},
   "outputs": [],
   "source": [
    "# Save to file\n",
    "table_T2K_magmoment = np.array([m4_grid, usqr_grid, lifetime_dipole, event_rate_dipole])\n",
    "np.save(\"limits_computed/T2K_mag_mom_Umu4\",table_T2K_magmoment)\n",
    "np.savetxt(\"limits_computed/T2K_mag_mom_Umu4.dat\",table_T2K_magmoment, header=\" m4(GeV) USQR tau0(s) event_rate\")"
   ]
  },
  {
   "cell_type": "code",
   "execution_count": 66,
   "id": "gothic-interest",
   "metadata": {},
   "outputs": [
    {
     "data": {
      "text/plain": [
       "<multiprocess.pool.Pool state=RUN pool_size=8>"
      ]
     },
     "execution_count": 66,
     "metadata": {},
     "output_type": "execute_result"
    }
   ],
   "source": [
    "# compute rate and lifetimes\n",
    "tot_cores = mp.cpu_count()\n",
    "pool = Pool(tot_cores)\n",
    "############\n",
    "\n",
    "dipoles = [0,5e-7,0]\n",
    "GX = 0.0\n",
    "get_event_partial = partial(hnl_tools.get_event_rate, flavor_struct=[0.0,1.0,0.0], dipoles=dipoles, GX=GX, exp_setup = exp.PS191)\n",
    "event_rate_dipole_PS191 = pool.map(get_event_partial, ((m4, usqr) for m4, usqr in zip(m4_grid, usqr_grid)))\n",
    "get_lifetime_partial = partial(hnl_tools.get_lifetime, flavor_struct=[0.0,1.0,0.0], dipoles=dipoles, GX=GX)\n",
    "lifetime_dipole_PS191 = pool.map(get_lifetime_partial, ((m4, usqr) for m4, usqr in zip(m4_grid, usqr_grid)))\n",
    "\n",
    "############\n",
    "pool.terminate()\n",
    "pool.restart()"
   ]
  },
  {
   "cell_type": "code",
   "execution_count": 85,
   "id": "victorian-account",
   "metadata": {},
   "outputs": [],
   "source": [
    "# Save to file\n",
    "table_PS191_mag_mom = np.array([m4_grid, usqr_grid, lifetime_dipole_PS191, event_rate_dipole_PS191])\n",
    "np.save(\"limits_computed/PS191_mag_mom_Umu4\",table_PS191_mag_mom)\n",
    "np.savetxt(\"limits_computed/PS191_mag_mom_Umu4.dat\",table_PS191_mag_mom, header=\" m4(GeV) USQR tau0(s) event_rate\")"
   ]
  },
  {
   "cell_type": "code",
   "execution_count": 91,
   "id": "compact-dublin",
   "metadata": {},
   "outputs": [
    {
     "name": "stdout",
     "output_type": "stream",
     "text": [
      "0.25329992980000005\n",
      "0.1264119298\n"
     ]
    }
   ],
   "source": [
    "print(2*(gL**2 + gR**2))\n",
    "print(1/4*(1-4*s2w+8*s2w**2))"
   ]
  },
  {
   "cell_type": "code",
   "execution_count": 34,
   "id": "excessive-fleet",
   "metadata": {
    "scrolled": true
   },
   "outputs": [
    {
     "name": "stdout",
     "output_type": "stream",
     "text": [
      "2.871978825940262e-10\n",
      "1.9360436039538764e-09\n"
     ]
    }
   ],
   "source": [
    "print(hnl_tools.get_event_rate((0.05,1e-6), flavor_struct=[0.0,1.0,0.0], dipoles=[0,5e-9,0], GX=0, exp_setup = exp.PS191))\n",
    "print(hnl_tools.get_event_rate((0.05,1e-6), flavor_struct=[0.0,1.0,0.0], dipoles=[0,5e-9,0], GX=0, exp_setup = exp.ND280_FHC))\n"
   ]
  },
  {
   "cell_type": "markdown",
   "id": "moral-workplace",
   "metadata": {},
   "source": [
    "# Dark Z' case"
   ]
  },
  {
   "cell_type": "code",
   "execution_count": 10,
   "id": "binding-ethics",
   "metadata": {},
   "outputs": [],
   "source": [
    "# set up grid\n",
    "gridx = 100\n",
    "gridy = 30\n",
    "\n",
    "M4 = np.linspace(0.02,(m_neutral_kaon - m_charged_pion - m_mu), gridx)\n",
    "USQR = np.logspace(-11,-0.5, gridy) \n",
    "X,Y = np.meshgrid(M4,USQR)\n",
    "m4_grid, usqr_grid = X.flatten(), Y.flatten()"
   ]
  },
  {
   "cell_type": "code",
   "execution_count": 43,
   "id": "painted-experience",
   "metadata": {
    "scrolled": true
   },
   "outputs": [
    {
     "data": {
      "text/plain": [
       "<multiprocess.pool.Pool state=RUN pool_size=8>"
      ]
     },
     "execution_count": 43,
     "metadata": {},
     "output_type": "execute_result"
    },
    {
     "name": "stdout",
     "output_type": "stream",
     "text": [
      "Fluxfile not found: /Users/matheushostert/Repos/stdHNL/HNL_MC/fluxes/ps191/nu(mu)~_K+.dat\n",
      "Fluxfile not found: /Users/matheushostert/Repos/stdHNL/HNL_MC/fluxes/ps191/nu(mu)~_K+.dat\n",
      "Fluxfile not found: /Users/matheushostert/Repos/stdHNL/HNL_MC/fluxes/ps191/nu(mu)~_K+.dat\n",
      "Fluxfile not found: /Users/matheushostert/Repos/stdHNL/HNL_MC/fluxes/ps191/nu(mu)~_K+.dat\n",
      "Fluxfile not found: /Users/matheushostert/Repos/stdHNL/HNL_MC/fluxes/ps191/nu(mu)~_K+.dat\n",
      "Fluxfile not found: /Users/matheushostert/Repos/stdHNL/HNL_MC/fluxes/ps191/nu(mu)~_K+.dat\n",
      "Fluxfile not found: /Users/matheushostert/Repos/stdHNL/HNL_MC/fluxes/ps191/nu(mu)~_K+.dat\n",
      "Fluxfile not found: /Users/matheushostert/Repos/stdHNL/HNL_MC/fluxes/ps191/nu(mu)~_K+.datFluxfile not found: /Users/matheushostert/Repos/stdHNL/HNL_MC/fluxes/ps191/nu(mu)~_K+.dat\n",
      "\n",
      "Fluxfile not found: /Users/matheushostert/Repos/stdHNL/HNL_MC/fluxes/ps191/nu(mu)~_K+.dat\n",
      "Fluxfile not found: /Users/matheushostert/Repos/stdHNL/HNL_MC/fluxes/ps191/nu(mu)~_K+.dat\n",
      "Fluxfile not found: /Users/matheushostert/Repos/stdHNL/HNL_MC/fluxes/ps191/nu(mu)~_K+.dat\n",
      "Fluxfile not found: /Users/matheushostert/Repos/stdHNL/HNL_MC/fluxes/ps191/nu(mu)~_K+.dat\n",
      "Fluxfile not found: /Users/matheushostert/Repos/stdHNL/HNL_MC/fluxes/ps191/nu(mu)~_K+.dat\n",
      "Fluxfile not found: /Users/matheushostert/Repos/stdHNL/HNL_MC/fluxes/ps191/nu(mu)~_K+.dat\n",
      "Fluxfile not found: /Users/matheushostert/Repos/stdHNL/HNL_MC/fluxes/ps191/nu(mu)~_K+.dat\n",
      "Fluxfile not found: /Users/matheushostert/Repos/stdHNL/HNL_MC/fluxes/ps191/nu(mu)~_K+.dat\n",
      "Fluxfile not found: /Users/matheushostert/Repos/stdHNL/HNL_MC/fluxes/ps191/nu(mu)~_K+.dat\n",
      "Fluxfile not found: /Users/matheushostert/Repos/stdHNL/HNL_MC/fluxes/ps191/nu(mu)~_K+.dat\n",
      "Fluxfile not found: /Users/matheushostert/Repos/stdHNL/HNL_MC/fluxes/ps191/nu(mu)~_K+.dat\n",
      "Fluxfile not found: /Users/matheushostert/Repos/stdHNL/HNL_MC/fluxes/ps191/nu(mu)~_K+.dat\n",
      "Fluxfile not found: /Users/matheushostert/Repos/stdHNL/HNL_MC/fluxes/ps191/nu(mu)~_K+.dat\n",
      "Fluxfile not found: /Users/matheushostert/Repos/stdHNL/HNL_MC/fluxes/ps191/nu(mu)~_K+.dat\n",
      "Fluxfile not found: /Users/matheushostert/Repos/stdHNL/HNL_MC/fluxes/ps191/nu(mu)~_K+.dat\n",
      "Fluxfile not found: /Users/matheushostert/Repos/stdHNL/HNL_MC/fluxes/ps191/nu(mu)~_K+.dat\n",
      "Fluxfile not found: /Users/matheushostert/Repos/stdHNL/HNL_MC/fluxes/ps191/nu(mu)~_K+.dat\n",
      "Fluxfile not found: /Users/matheushostert/Repos/stdHNL/HNL_MC/fluxes/ps191/nu(mu)~_K+.dat\n",
      "Fluxfile not found: /Users/matheushostert/Repos/stdHNL/HNL_MC/fluxes/ps191/nu(mu)~_K+.dat\n",
      "Fluxfile not found: /Users/matheushostert/Repos/stdHNL/HNL_MC/fluxes/ps191/nu(mu)~_K+.dat\n",
      "Fluxfile not found: /Users/matheushostert/Repos/stdHNL/HNL_MC/fluxes/ps191/nu(mu)~_K+.dat\n",
      "Fluxfile not found: /Users/matheushostert/Repos/stdHNL/HNL_MC/fluxes/ps191/nu(mu)~_K+.dat\n",
      "Fluxfile not found: /Users/matheushostert/Repos/stdHNL/HNL_MC/fluxes/ps191/nu(mu)~_K+.dat\n",
      "Fluxfile not found: /Users/matheushostert/Repos/stdHNL/HNL_MC/fluxes/ps191/nu(mu)~_K+.datFluxfile not found: /Users/matheushostert/Repos/stdHNL/HNL_MC/fluxes/ps191/nu(mu)~_K+.dat\n",
      "Fluxfile not found: /Users/matheushostert/Repos/stdHNL/HNL_MC/fluxes/ps191/nu(mu)~_K+.dat\n",
      "Fluxfile not found: /Users/matheushostert/Repos/stdHNL/HNL_MC/fluxes/ps191/nu(mu)~_K+.dat\n",
      "Fluxfile not found: /Users/matheushostert/Repos/stdHNL/HNL_MC/fluxes/ps191/nu(mu)~_K+.dat\n",
      "Fluxfile not found: /Users/matheushostert/Repos/stdHNL/HNL_MC/fluxes/ps191/nu(mu)~_K+.dat\n",
      "Fluxfile not found: /Users/matheushostert/Repos/stdHNL/HNL_MC/fluxes/ps191/nu(mu)~_K+.dat\n",
      "Fluxfile not found: /Users/matheushostert/Repos/stdHNL/HNL_MC/fluxes/ps191/nu(mu)~_K+.dat\n",
      "\n",
      "Fluxfile not found: /Users/matheushostert/Repos/stdHNL/HNL_MC/fluxes/ps191/nu(mu)~_K+.dat\n",
      "Fluxfile not found: /Users/matheushostert/Repos/stdHNL/HNL_MC/fluxes/ps191/nu(mu)~_K+.dat\n",
      "Fluxfile not found: /Users/matheushostert/Repos/stdHNL/HNL_MC/fluxes/ps191/nu(mu)~_K+.dat\n",
      "Fluxfile not found: /Users/matheushostert/Repos/stdHNL/HNL_MC/fluxes/ps191/nu(mu)~_K+.dat\n",
      "Fluxfile not found: /Users/matheushostert/Repos/stdHNL/HNL_MC/fluxes/ps191/nu(mu)~_K+.dat\n",
      "Fluxfile not found: /Users/matheushostert/Repos/stdHNL/HNL_MC/fluxes/ps191/nu(mu)~_K+.dat\n",
      "Fluxfile not found: /Users/matheushostert/Repos/stdHNL/HNL_MC/fluxes/ps191/nu(mu)~_K+.dat\n",
      "Fluxfile not found: /Users/matheushostert/Repos/stdHNL/HNL_MC/fluxes/ps191/nu(mu)~_K+.dat\n",
      "Fluxfile not found: /Users/matheushostert/Repos/stdHNL/HNL_MC/fluxes/ps191/nu(mu)~_K+.dat\n",
      "Fluxfile not found: /Users/matheushostert/Repos/stdHNL/HNL_MC/fluxes/ps191/nu(mu)~_K+.dat\n",
      "Fluxfile not found: /Users/matheushostert/Repos/stdHNL/HNL_MC/fluxes/ps191/nu(mu)~_K+.dat\n",
      "Fluxfile not found: /Users/matheushostert/Repos/stdHNL/HNL_MC/fluxes/ps191/nu(mu)~_K+.dat\n",
      "Fluxfile not found: /Users/matheushostert/Repos/stdHNL/HNL_MC/fluxes/ps191/nu(mu)~_K+.dat\n",
      "Fluxfile not found: /Users/matheushostert/Repos/stdHNL/HNL_MC/fluxes/ps191/nu(mu)~_K+.dat\n",
      "Fluxfile not found: /Users/matheushostert/Repos/stdHNL/HNL_MC/fluxes/ps191/nu(mu)~_K+.dat\n",
      "Fluxfile not found: /Users/matheushostert/Repos/stdHNL/HNL_MC/fluxes/ps191/nu(mu)~_K+.dat\n",
      "Fluxfile not found: /Users/matheushostert/Repos/stdHNL/HNL_MC/fluxes/ps191/nu(mu)~_K+.dat\n",
      "Fluxfile not found: /Users/matheushostert/Repos/stdHNL/HNL_MC/fluxes/ps191/nu(mu)~_K+.dat\n",
      "Fluxfile not found: /Users/matheushostert/Repos/stdHNL/HNL_MC/fluxes/ps191/nu(mu)~_K+.dat\n",
      "Fluxfile not found: /Users/matheushostert/Repos/stdHNL/HNL_MC/fluxes/ps191/nu(mu)~_K+.dat\n",
      "Fluxfile not found: /Users/matheushostert/Repos/stdHNL/HNL_MC/fluxes/ps191/nu(mu)~_K+.dat\n",
      "Fluxfile not found: /Users/matheushostert/Repos/stdHNL/HNL_MC/fluxes/ps191/nu(mu)~_K+.dat\n",
      "Fluxfile not found: /Users/matheushostert/Repos/stdHNL/HNL_MC/fluxes/ps191/nu(mu)~_K+.dat\n",
      "Fluxfile not found: /Users/matheushostert/Repos/stdHNL/HNL_MC/fluxes/ps191/nu(mu)~_K+.dat\n",
      "Fluxfile not found: /Users/matheushostert/Repos/stdHNL/HNL_MC/fluxes/ps191/nu(mu)~_K+.datFluxfile not found: /Users/matheushostert/Repos/stdHNL/HNL_MC/fluxes/ps191/nu(mu)~_K+.dat\n",
      "Fluxfile not found: /Users/matheushostert/Repos/stdHNL/HNL_MC/fluxes/ps191/nu(mu)~_K+.dat\n",
      "Fluxfile not found: /Users/matheushostert/Repos/stdHNL/HNL_MC/fluxes/ps191/nu(mu)~_K+.dat\n",
      "Fluxfile not found: /Users/matheushostert/Repos/stdHNL/HNL_MC/fluxes/ps191/nu(mu)~_K+.dat\n",
      "Fluxfile not found: /Users/matheushostert/Repos/stdHNL/HNL_MC/fluxes/ps191/nu(mu)~_K+.dat\n",
      "Fluxfile not found: /Users/matheushostert/Repos/stdHNL/HNL_MC/fluxes/ps191/nu(mu)~_K+.dat\n",
      "Fluxfile not found: /Users/matheushostert/Repos/stdHNL/HNL_MC/fluxes/ps191/nu(mu)~_K+.dat\n",
      "Fluxfile not found: /Users/matheushostert/Repos/stdHNL/HNL_MC/fluxes/ps191/nu(mu)~_K+.dat\n",
      "Fluxfile not found: /Users/matheushostert/Repos/stdHNL/HNL_MC/fluxes/ps191/nu(mu)~_K+.dat\n",
      "Fluxfile not found: /Users/matheushostert/Repos/stdHNL/HNL_MC/fluxes/ps191/nu(mu)~_K+.dat\n",
      "\n",
      "Fluxfile not found: /Users/matheushostert/Repos/stdHNL/HNL_MC/fluxes/ps191/nu(mu)~_K+.dat\n",
      "Fluxfile not found: /Users/matheushostert/Repos/stdHNL/HNL_MC/fluxes/ps191/nu(mu)~_K+.dat\n",
      "Fluxfile not found: /Users/matheushostert/Repos/stdHNL/HNL_MC/fluxes/ps191/nu(mu)~_K+.dat\n",
      "Fluxfile not found: /Users/matheushostert/Repos/stdHNL/HNL_MC/fluxes/ps191/nu(mu)~_K+.dat\n",
      "Fluxfile not found: /Users/matheushostert/Repos/stdHNL/HNL_MC/fluxes/ps191/nu(mu)~_K+.dat\n",
      "Fluxfile not found: /Users/matheushostert/Repos/stdHNL/HNL_MC/fluxes/ps191/nu(mu)~_K+.dat\n",
      "Fluxfile not found: /Users/matheushostert/Repos/stdHNL/HNL_MC/fluxes/ps191/nu(mu)~_K+.dat\n",
      "Fluxfile not found: /Users/matheushostert/Repos/stdHNL/HNL_MC/fluxes/ps191/nu(mu)~_K+.dat\n",
      "Fluxfile not found: /Users/matheushostert/Repos/stdHNL/HNL_MC/fluxes/ps191/nu(mu)~_K+.dat\n",
      "Fluxfile not found: /Users/matheushostert/Repos/stdHNL/HNL_MC/fluxes/ps191/nu(mu)~_K+.dat\n",
      "Fluxfile not found: /Users/matheushostert/Repos/stdHNL/HNL_MC/fluxes/ps191/nu(mu)~_K+.dat\n",
      "Fluxfile not found: /Users/matheushostert/Repos/stdHNL/HNL_MC/fluxes/ps191/nu(mu)~_K+.dat\n",
      "Fluxfile not found: /Users/matheushostert/Repos/stdHNL/HNL_MC/fluxes/ps191/nu(mu)~_K+.dat\n",
      "Fluxfile not found: /Users/matheushostert/Repos/stdHNL/HNL_MC/fluxes/ps191/nu(mu)~_K+.dat\n",
      "Fluxfile not found: /Users/matheushostert/Repos/stdHNL/HNL_MC/fluxes/ps191/nu(mu)~_K+.dat\n",
      "Fluxfile not found: /Users/matheushostert/Repos/stdHNL/HNL_MC/fluxes/ps191/nu(mu)~_K+.dat\n"
     ]
    },
    {
     "name": "stdout",
     "output_type": "stream",
     "text": [
      "Fluxfile not found: /Users/matheushostert/Repos/stdHNL/HNL_MC/fluxes/ps191/nu(mu)~_K+.dat\n",
      "Fluxfile not found: /Users/matheushostert/Repos/stdHNL/HNL_MC/fluxes/ps191/nu(mu)~_K+.dat\n",
      "Fluxfile not found: /Users/matheushostert/Repos/stdHNL/HNL_MC/fluxes/ps191/nu(mu)~_K+.dat\n",
      "Fluxfile not found: /Users/matheushostert/Repos/stdHNL/HNL_MC/fluxes/ps191/nu(mu)~_K+.dat\n",
      "Fluxfile not found: /Users/matheushostert/Repos/stdHNL/HNL_MC/fluxes/ps191/nu(mu)~_K+.dat\n",
      "Fluxfile not found: /Users/matheushostert/Repos/stdHNL/HNL_MC/fluxes/ps191/nu(mu)~_K+.dat\n",
      "\n",
      "Fluxfile not found: /Users/matheushostert/Repos/stdHNL/HNL_MC/fluxes/ps191/nu(mu)~_K+.dat\n",
      "Fluxfile not found: /Users/matheushostert/Repos/stdHNL/HNL_MC/fluxes/ps191/nu(mu)~_K+.dat\n",
      "Fluxfile not found: /Users/matheushostert/Repos/stdHNL/HNL_MC/fluxes/ps191/nu(mu)~_K+.dat\n",
      "Fluxfile not found: /Users/matheushostert/Repos/stdHNL/HNL_MC/fluxes/ps191/nu(mu)~_K+.dat\n",
      "Fluxfile not found: /Users/matheushostert/Repos/stdHNL/HNL_MC/fluxes/ps191/nu(mu)~_K+.dat\n",
      "Fluxfile not found: /Users/matheushostert/Repos/stdHNL/HNL_MC/fluxes/ps191/nu(mu)~_K+.dat\n",
      "Fluxfile not found: /Users/matheushostert/Repos/stdHNL/HNL_MC/fluxes/ps191/nu(mu)~_K+.dat\n",
      "Fluxfile not found: /Users/matheushostert/Repos/stdHNL/HNL_MC/fluxes/ps191/nu(mu)~_K+.datFluxfile not found: /Users/matheushostert/Repos/stdHNL/HNL_MC/fluxes/ps191/nu(mu)~_K+.dat\n",
      "Fluxfile not found: /Users/matheushostert/Repos/stdHNL/HNL_MC/fluxes/ps191/nu(mu)~_K+.dat\n",
      "Fluxfile not found: /Users/matheushostert/Repos/stdHNL/HNL_MC/fluxes/ps191/nu(mu)~_K+.dat\n",
      "Fluxfile not found: /Users/matheushostert/Repos/stdHNL/HNL_MC/fluxes/ps191/nu(mu)~_K+.dat\n",
      "Fluxfile not found: /Users/matheushostert/Repos/stdHNL/HNL_MC/fluxes/ps191/nu(mu)~_K+.dat\n",
      "Fluxfile not found: /Users/matheushostert/Repos/stdHNL/HNL_MC/fluxes/ps191/nu(mu)~_K+.dat\n",
      "Fluxfile not found: /Users/matheushostert/Repos/stdHNL/HNL_MC/fluxes/ps191/nu(mu)~_K+.dat\n",
      "Fluxfile not found: /Users/matheushostert/Repos/stdHNL/HNL_MC/fluxes/ps191/nu(mu)~_K+.dat\n",
      "Fluxfile not found: /Users/matheushostert/Repos/stdHNL/HNL_MC/fluxes/ps191/nu(mu)~_K+.dat\n",
      "Fluxfile not found: /Users/matheushostert/Repos/stdHNL/HNL_MC/fluxes/ps191/nu(mu)~_K+.dat\n",
      "Fluxfile not found: /Users/matheushostert/Repos/stdHNL/HNL_MC/fluxes/ps191/nu(mu)~_K+.dat\n",
      "Fluxfile not found: /Users/matheushostert/Repos/stdHNL/HNL_MC/fluxes/ps191/nu(mu)~_K+.dat\n",
      "Fluxfile not found: /Users/matheushostert/Repos/stdHNL/HNL_MC/fluxes/ps191/nu(mu)~_K+.dat\n",
      "Fluxfile not found: /Users/matheushostert/Repos/stdHNL/HNL_MC/fluxes/ps191/nu(mu)~_K+.dat\n",
      "Fluxfile not found: /Users/matheushostert/Repos/stdHNL/HNL_MC/fluxes/ps191/nu(mu)~_K+.dat\n",
      "Fluxfile not found: /Users/matheushostert/Repos/stdHNL/HNL_MC/fluxes/ps191/nu(mu)~_K+.dat\n",
      "Fluxfile not found: /Users/matheushostert/Repos/stdHNL/HNL_MC/fluxes/ps191/nu(mu)~_K+.dat\n",
      "Fluxfile not found: /Users/matheushostert/Repos/stdHNL/HNL_MC/fluxes/ps191/nu(mu)~_K+.dat\n",
      "Fluxfile not found: /Users/matheushostert/Repos/stdHNL/HNL_MC/fluxes/ps191/nu(mu)~_K+.dat\n",
      "Fluxfile not found: /Users/matheushostert/Repos/stdHNL/HNL_MC/fluxes/ps191/nu(mu)~_K+.dat\n",
      "Fluxfile not found: /Users/matheushostert/Repos/stdHNL/HNL_MC/fluxes/ps191/nu(mu)~_K+.dat\n",
      "Fluxfile not found: /Users/matheushostert/Repos/stdHNL/HNL_MC/fluxes/ps191/nu(mu)~_K+.dat\n",
      "Fluxfile not found: /Users/matheushostert/Repos/stdHNL/HNL_MC/fluxes/ps191/nu(mu)~_K+.dat\n"
     ]
    }
   ],
   "source": [
    "# compute rate and lifetime\n",
    "tot_cores = mp.cpu_count()\n",
    "pool = Pool(tot_cores)\n",
    "############\n",
    "\n",
    "dipoles = [0,0,0]\n",
    "GX = Gf*100\n",
    "get_event_partial = partial(hnl_tools.get_event_rate, flavor_struct=[0.0,1.0,0.0], dipoles=dipoles, GX=GX, exp_setup = exp.ND280_FHC)\n",
    "event_rate_darknus = pool.map(get_event_partial, ((m4, usqr) for m4, usqr in zip(m4_grid, usqr_grid)))\n",
    "get_lifetime_partial = partial(hnl_tools.get_lifetime, flavor_struct=[0.0,1.0,0.0], dipoles=dipoles, GX=GX)\n",
    "lifetime_darknus = pool.map(get_lifetime_partial, ((m4, usqr) for m4, usqr in zip(m4_grid, usqr_grid)))\n",
    "\n",
    "############\n",
    "pool.terminate()\n",
    "pool.restart()"
   ]
  },
  {
   "cell_type": "code",
   "execution_count": 44,
   "id": "numerous-stewart",
   "metadata": {},
   "outputs": [],
   "source": [
    "# Save to file\n",
    "table_T2K_zprime = np.array([m4_grid, usqr_grid, lifetime_darknus, event_rate_darknus])\n",
    "np.save(\"limits_computed/T2K_zprime_Umu4\",table_T2K_zprime)\n",
    "np.savetxt(\"limits_computed/T2K_zprime_Umu4.dat\",table_T2K_zprime, header=\" m4(GeV) USQR tau0(s) event_rate\")"
   ]
  },
  {
   "cell_type": "code",
   "execution_count": 37,
   "id": "decent-buyer",
   "metadata": {},
   "outputs": [
    {
     "name": "stdout",
     "output_type": "stream",
     "text": [
      "[<Particle: name=\"nu(mu)\", pdgid=14, mass=None>]\n"
     ]
    }
   ],
   "source": [
    "my_exp = exp.experiment(exp.PS191)\n",
    "print(my_exp.prop['flavors'])\n",
    "for this_flavor in my_exp.prop['flavors']:\n",
    "    fK = my_exp.get_flux_func(parent=lp.K_plus, nuflavor = this_flavor)\n"
   ]
  },
  {
   "cell_type": "code",
   "execution_count": 39,
   "id": "nonprofit-massachusetts",
   "metadata": {},
   "outputs": [
    {
     "data": {
      "text/plain": [
       "1.1676479405089712"
      ]
     },
     "execution_count": 39,
     "metadata": {},
     "output_type": "execute_result"
    }
   ],
   "source": [
    "hnl_tools.get_event_rate((0.1,1), flavor_struct=[0.0,1.0,0.0], dipoles=[0,0,0], GX=0, exp_setup = exp.PS191)"
   ]
  },
  {
   "cell_type": "code",
   "execution_count": null,
   "id": "handmade-gardening",
   "metadata": {},
   "outputs": [],
   "source": []
  },
  {
   "cell_type": "code",
   "execution_count": 11,
   "id": "static-rubber",
   "metadata": {},
   "outputs": [
    {
     "data": {
      "text/plain": [
       "<multiprocess.pool.Pool state=RUN pool_size=8>"
      ]
     },
     "execution_count": 11,
     "metadata": {},
     "output_type": "execute_result"
    }
   ],
   "source": [
    "# compute rate and lifetime\n",
    "tot_cores = mp.cpu_count()\n",
    "pool = Pool(tot_cores)\n",
    "############\n",
    "\n",
    "dipoles = [0,0,0]\n",
    "GX = Gf*100\n",
    "get_event_partial = partial(hnl_tools.get_event_rate, flavor_struct=[0.0,1.0,0.0], dipoles=dipoles, GX=GX, exp_setup = exp.PS191)\n",
    "event_rate_darknus_ps191 = pool.map(get_event_partial, ((m4, usqr) for m4, usqr in zip(m4_grid, usqr_grid)))\n",
    "get_lifetime_partial = partial(hnl_tools.get_lifetime, flavor_struct=[0.0,1.0,0.0], dipoles=dipoles, GX=GX)\n",
    "lifetime_darknus_ps191 = pool.map(get_lifetime_partial, ((m4, usqr) for m4, usqr in zip(m4_grid, usqr_grid)))\n",
    "\n",
    "############\n",
    "pool.terminate()\n",
    "pool.restart()"
   ]
  },
  {
   "cell_type": "code",
   "execution_count": 12,
   "id": "skilled-bottle",
   "metadata": {},
   "outputs": [],
   "source": [
    "# Save to file\n",
    "table_PS191_zprime = np.array([m4_grid, usqr_grid, lifetime_darknus_ps191, event_rate_darknus_ps191])\n",
    "np.save(\"limits_computed/PS191_zprime_Umu4\",table_PS191_zprime)\n",
    "np.savetxt(\"limits_computed/PS191_zprime_Umu4.dat\",table_PS191_zprime, header=\" m4(GeV) USQR tau0(s) event_rate\")"
   ]
  },
  {
   "cell_type": "code",
   "execution_count": null,
   "id": "elder-suite",
   "metadata": {},
   "outputs": [],
   "source": []
  }
 ],
 "metadata": {
  "kernelspec": {
   "display_name": "Python 3",
   "language": "python",
   "name": "python3"
  },
  "language_info": {
   "codemirror_mode": {
    "name": "ipython",
    "version": 3
   },
   "file_extension": ".py",
   "mimetype": "text/x-python",
   "name": "python",
   "nbconvert_exporter": "python",
   "pygments_lexer": "ipython3",
   "version": "3.9.5"
  }
 },
 "nbformat": 4,
 "nbformat_minor": 5
}
