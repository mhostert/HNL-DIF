{
 "cells": [
  {
   "cell_type": "code",
   "execution_count": 1,
   "id": "285d87d7-3db8-4512-a752-583fcd38063b",
   "metadata": {},
   "outputs": [],
   "source": [
    "import uproot\n",
    "import numpy as np\n",
    "import matplotlib.pyplot as plt"
   ]
  },
  {
   "cell_type": "code",
   "execution_count": 4,
   "id": "dc53130f-97b6-47fa-a67c-d94ed6d3b51d",
   "metadata": {},
   "outputs": [],
   "source": [
    "main_folder = 'nd280-heavy-neutrino-search-2018_main/'\n",
    "flux_filename = 'flux.root'"
   ]
  },
  {
   "cell_type": "code",
   "execution_count": 5,
   "id": "7e9c5d30-a0fc-4396-8e07-5e711163f445",
   "metadata": {},
   "outputs": [],
   "source": [
    "flux_file = uproot.open(main_folder+flux_filename)"
   ]
  },
  {
   "cell_type": "code",
   "execution_count": 27,
   "id": "b9a9299e-34c6-402f-b595-bc18786baeaa",
   "metadata": {
    "collapsed": true,
    "jupyter": {
     "outputs_hidden": true
    },
    "tags": []
   },
   "outputs": [
    {
     "name": "stdout",
     "output_type": "stream",
     "text": [
      "vector_flux_140;1\n",
      "vector_flux_150;1\n",
      "vector_flux_160;1\n",
      "vector_flux_170;1\n",
      "vector_flux_180;1\n",
      "vector_flux_190;1\n",
      "vector_flux_200;1\n",
      "vector_flux_210;1\n",
      "vector_flux_220;1\n",
      "vector_flux_230;1\n",
      "vector_flux_240;1\n",
      "vector_flux_250;1\n",
      "vector_flux_260;1\n",
      "vector_flux_270;1\n",
      "vector_flux_280;1\n",
      "vector_flux_290;1\n",
      "vector_flux_300;1\n",
      "vector_flux_310;1\n",
      "vector_flux_320;1\n",
      "vector_flux_330;1\n",
      "vector_flux_340;1\n",
      "vector_flux_350;1\n",
      "vector_flux_360;1\n",
      "vector_flux_370;1\n",
      "vector_flux_380;1\n",
      "vector_flux_390;1\n",
      "vector_flux_400;1\n",
      "vector_flux_410;1\n",
      "vector_flux_420;1\n",
      "vector_flux_430;1\n",
      "vector_flux_440;1\n",
      "vector_flux_450;1\n",
      "vector_flux_460;1\n",
      "vector_flux_470;1\n",
      "vector_flux_480;1\n",
      "vector_flux_490;1\n"
     ]
    }
   ],
   "source": [
    "flux_vectors = []\n",
    "for key in flux_file.keys():\n",
    "    if 'vector' in key:\n",
    "        flux_vectors.append(flux_file[key].member('fElements'))\n",
    "flux_vectors = np.stack(flux_vectors, axis=0)\n",
    "np.save(main_folder+flux_filename.replace('root', 'npy'), flux_vectors)"
   ]
  }
 ],
 "metadata": {
  "kernelspec": {
   "display_name": "Python 3",
   "language": "python",
   "name": "python3"
  },
  "language_info": {
   "codemirror_mode": {
    "name": "ipython",
    "version": 3
   },
   "file_extension": ".py",
   "mimetype": "text/x-python",
   "name": "python",
   "nbconvert_exporter": "python",
   "pygments_lexer": "ipython3",
   "version": "3.9.5"
  }
 },
 "nbformat": 4,
 "nbformat_minor": 5
}
