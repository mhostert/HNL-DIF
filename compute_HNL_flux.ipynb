{
 "cells": [
  {
   "cell_type": "markdown",
   "id": "surgical-piece",
   "metadata": {},
   "source": [
    "# Little notebook to plot HNL constraints (mixing vs mass)"
   ]
  },
  {
   "cell_type": "code",
   "execution_count": 1,
   "id": "adult-horizontal",
   "metadata": {},
   "outputs": [],
   "source": [
    "%load_ext autoreload\n",
    "%autoreload 2"
   ]
  },
  {
   "cell_type": "code",
   "execution_count": 3,
   "id": "mounted-prison",
   "metadata": {},
   "outputs": [],
   "source": [
    "import numpy as np\n",
    "from scipy import interpolate\n",
    "\n",
    "from matplotlib import rc, rcParams\n",
    "import matplotlib.lines as mlines\n",
    "import matplotlib.pyplot as plt\n",
    "from matplotlib.pyplot import *"
   ]
  },
  {
   "cell_type": "code",
   "execution_count": null,
   "id": "mechanical-python",
   "metadata": {},
   "outputs": [],
   "source": [
    "def get_T2K_flux(mode=\"FHC\",parent=pdg.pion,flavor=pdg.numu):\n",
    "    \n",
    "    if parent == pdg.pion:\n",
    "        p = 'pion'\n",
    "    elif parent == pdg.kaon:\n",
    "        p = 'kaon'\n",
    "    else:\n",
    "        print(f'PDG={parent} parent mesons not supported.')\n",
    "    \n",
    "    e,f = np.genfr\n",
    "    omtxt(\"T2K_flux_parent_meson/nd280_FHC_{}_\")"
   ]
  }
 ],
 "metadata": {
  "kernelspec": {
   "display_name": "Python 3",
   "language": "python",
   "name": "python3"
  },
  "language_info": {
   "codemirror_mode": {
    "name": "ipython",
    "version": 3
   },
   "file_extension": ".py",
   "mimetype": "text/x-python",
   "name": "python",
   "nbconvert_exporter": "python",
   "pygments_lexer": "ipython3",
   "version": "3.9.5"
  }
 },
 "nbformat": 4,
 "nbformat_minor": 5
}
