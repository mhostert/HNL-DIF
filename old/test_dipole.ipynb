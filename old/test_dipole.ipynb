{
 "cells": [
  {
   "cell_type": "code",
   "execution_count": 3,
   "id": "unauthorized-attack",
   "metadata": {},
   "outputs": [],
   "source": [
    "%load_ext autoreload\n",
    "%autoreload 2"
   ]
  },
  {
   "cell_type": "code",
   "execution_count": 21,
   "id": "thousand-fireplace",
   "metadata": {},
   "outputs": [],
   "source": [
    "import numpy as np\n",
    "from scipy import interpolate\n",
    "\n",
    "from matplotlib import rc, rcParams\n",
    "import matplotlib.lines as mlines\n",
    "import matplotlib.pyplot as plt\n",
    "import matplotlib.tri as tri\n",
    "\n",
    "import pathos.multiprocessing as mp\n",
    "from pathos.multiprocessing import ProcessingPool as Pool\n",
    "\n",
    "from functools import partial\n",
    "\n",
    "from particle import *\n",
    "from particle import literals as lp\n",
    "\n",
    "from HNL_MC import *\n",
    "from HNL_MC import hnl_tools\n",
    "from HNL_MC.const import *\n",
    "from HNL_MC.plot_style import *"
   ]
  },
  {
   "cell_type": "code",
   "execution_count": 8,
   "id": "awful-garbage",
   "metadata": {},
   "outputs": [],
   "source": [
    "UMU4 = np.sqrt(1e-4)\n",
    "my_hnl = model.hnl_model(m4=0.150, mixings=[0.0,UMU4, 0.0])\n",
    "my_hnl.set_high_level_variables()\n",
    "my_hnl.compute_rates()"
   ]
  },
  {
   "cell_type": "code",
   "execution_count": null,
   "id": "proof-modern",
   "metadata": {},
   "outputs": [],
   "source": []
  },
  {
   "cell_type": "code",
   "execution_count": 9,
   "id": "dental-civilian",
   "metadata": {},
   "outputs": [
    {
     "name": "stderr",
     "output_type": "stream",
     "text": [
      "/usr/local/lib/python3.9/site-packages/scipy/integrate/quadpack.py:879: IntegrationWarning: The algorithm does not converge.  Roundoff error is detected\n",
      "  in the extrapolation table.  It is assumed that the requested tolerance\n",
      "  cannot be achieved, and that the returned result (if full_output = 1) is \n",
      "  the best which can be obtained.\n",
      "  quad_r = quad(f, low, high, args=args, full_output=self.full_output,\n"
     ]
    },
    {
     "data": {
      "text/plain": [
       "362499103634290.75"
      ]
     },
     "execution_count": 9,
     "metadata": {},
     "output_type": "execute_result"
    }
   ],
   "source": [
    "rates.nui_nuj_e_e_dipole(my_hnl,1)/rates.nui_nuj_gamma_dipole(my_hnl,1)"
   ]
  },
  {
   "cell_type": "code",
   "execution_count": 152,
   "id": "sorted-omaha",
   "metadata": {},
   "outputs": [
    {
     "data": {
      "text/plain": [
       "<multiprocess.pool.Pool state=RUN pool_size=8>"
      ]
     },
     "execution_count": 152,
     "metadata": {},
     "output_type": "execute_result"
    }
   ],
   "source": [
    "# grid of mix vs mass\n",
    "gridx = 500\n",
    "gridy = 500\n",
    "\n",
    "M4 = np.logspace(np.log10(0.01), np.log10(0.388), gridx)\n",
    "USQR = np.logspace(-12,-2, gridy) \n",
    "X,Y = np.meshgrid(M4,USQR)\n",
    "m4_grid, usqr_grid = X.flatten(), Y.flatten()\n",
    "\n",
    "# run event rate calc ß\n",
    "tot_cores = mp.cpu_count()\n",
    "pool = Pool(tot_cores)\n",
    "############\n",
    "\n",
    "\n",
    "ctaudipole = pool.map(get_ctau0_dipole, ((m4, usqr) for m4, usqr in zip(m4_grid, usqr_grid)))\n",
    "ctauZ = pool.map(get_ctau0_Z, ((m4, usqr) for m4, usqr in zip(m4_grid, usqr_grid)))\n",
    "\n",
    "############\n",
    "pool.terminate()\n",
    "pool.restart()"
   ]
  },
  {
   "cell_type": "code",
   "execution_count": 153,
   "id": "stopped-italian",
   "metadata": {
    "scrolled": true
   },
   "outputs": [
    {
     "data": {
      "text/plain": [
       "0.013760750075401285"
      ]
     },
     "execution_count": 153,
     "metadata": {},
     "output_type": "execute_result"
    }
   ],
   "source": [
    "gamma_nu_e_e_dipole(0.1,1,cut_ee=0.05)/gamma_nu_gamma_dipole(0.1, 1)"
   ]
  },
  {
   "cell_type": "code",
   "execution_count": 154,
   "id": "caring-ocean",
   "metadata": {},
   "outputs": [
    {
     "name": "stdout",
     "output_type": "stream",
     "text": [
      "2e+02\n"
     ]
    }
   ],
   "source": [
    "print(f'{ratio_of_lifetimes(0.1,1e-2,1e-7):.2g}')"
   ]
  },
  {
   "cell_type": "code",
   "execution_count": 155,
   "id": "crazy-chain",
   "metadata": {},
   "outputs": [],
   "source": [
    "def gamma_nu_gamma_dipole(mn,dipole):\n",
    "    return mn**3*dipole**2/4/np.pi\n",
    "\n",
    "def gamma_nu_e_e_dipole(mh,dipole,cut_ee=2*m_e):\n",
    "    reemin = cut_ee/mh\n",
    "    r = m_e/mh\n",
    "    gamma=1/18 * alphaQED * ( dipole )**( 2 ) * ( mh )**( 3 ) * ( np.pi )**( -2 ) * ( reemin )**( -2 ) * ( ( -1 + ( reemin )**( 2 ) ) * ( -18 * ( r )**( 2 ) * ( -2 + ( 3 * ( reemin )**( 2 ) + ( reemin )**( 4 ) ) ) + ( reemin )**( 2 ) * ( 5 + ( 14 * ( reemin )**( 2 ) + 5 * ( reemin )**( 4 ) ) ) ) + 24 * ( -2 + 3 * ( r )**( 2 ) ) * ( reemin )**( 2 ) * np.log( reemin ) )\n",
    "    return gamma\n",
    "\n",
    "def gamma_Z(mh,U2):\n",
    "    return mh**5*U2*Gf**2/192/np.pi**3\n"
   ]
  },
  {
   "cell_type": "code",
   "execution_count": 180,
   "id": "stunning-miller",
   "metadata": {},
   "outputs": [
    {
     "data": {
      "text/plain": [
       "0.22723462892142865"
      ]
     },
     "execution_count": 180,
     "metadata": {},
     "output_type": "execute_result"
    }
   ],
   "source": [
    "get_ctau0_Z((1,2))"
   ]
  },
  {
   "cell_type": "code",
   "execution_count": 157,
   "id": "dutch-rebate",
   "metadata": {},
   "outputs": [],
   "source": [
    "def ratio_of_lifetimes(MN,U2,dipole):\n",
    "    return (gamma_nu_gamma_dipole(MN,dipole)+gamma_nu_e_e_dipole(MN,dipole))/(gamma_Z(MN,U2)*1.9)\n",
    "\n",
    "def get_ctau0_dipole(arg):\n",
    "    MN,dipole = arg\n",
    "    def gamma_nu_gamma_dipole(mn,dipole):\n",
    "        return mn**3*dipole**2/4/np.pi\n",
    "\n",
    "    def gamma_nu_e_e_dipole(mh,dipole,cut_ee=2*m_e):\n",
    "        reemin = cut_ee/mh\n",
    "        r = m_e/mh\n",
    "        gamma=1/18 * alphaQED * ( dipole )**( 2 ) * ( mh )**( 3 ) * ( np.pi )**( -2 ) * ( reemin )**( -2 ) * ( ( -1 + ( reemin )**( 2 ) ) * ( -18 * ( r )**( 2 ) * ( -2 + ( 3 * ( reemin )**( 2 ) + ( reemin )**( 4 ) ) ) + ( reemin )**( 2 ) * ( 5 + ( 14 * ( reemin )**( 2 ) + 5 * ( reemin )**( 4 ) ) ) ) + 24 * ( -2 + 3 * ( r )**( 2 ) ) * ( reemin )**( 2 ) * np.log( reemin ) )\n",
    "        return gamma\n",
    "\n",
    "    def gamma_Z(mh,U2):\n",
    "        return mh**5*U2*Gf**2/192/np.pi**3\n",
    "\n",
    "    return get_decay_rate_in_cm(gamma_nu_gamma_dipole(MN,dipole)+gamma_nu_e_e_dipole(MN,dipole)+1.9*gamma_Z(MN,dipole))\n",
    "\n",
    "def get_ctau0_Z(arg):\n",
    "    MN,dipole = arg\n",
    "    def gamma_nu_gamma_dipole(mn,dipole):\n",
    "        return mn**3*dipole**2/4/np.pi\n",
    "\n",
    "    def gamma_nu_e_e_dipole(mh,dipole,cut_ee=2*m_e):\n",
    "        reemin = cut_ee/mh\n",
    "        r = m_e/mh\n",
    "        gamma=1/18 * alphaQED * ( dipole )**( 2 ) * ( mh )**( 3 ) * ( np.pi )**( -2 ) * ( reemin )**( -2 ) * ( ( -1 + ( reemin )**( 2 ) ) * ( -18 * ( r )**( 2 ) * ( -2 + ( 3 * ( reemin )**( 2 ) + ( reemin )**( 4 ) ) ) + ( reemin )**( 2 ) * ( 5 + ( 14 * ( reemin )**( 2 ) + 5 * ( reemin )**( 4 ) ) ) ) + 24 * ( -2 + 3 * ( r )**( 2 ) ) * ( reemin )**( 2 ) * np.log( reemin ) )\n",
    "        return gamma\n",
    "\n",
    "    def gamma_Z(mh,U2):\n",
    "        return mh**5*U2*Gf**2/192/np.pi**3\n",
    "\n",
    "    return get_decay_rate_in_cm(1.9*gamma_Z(MN,dipole))\n",
    "\n",
    "def ratio_of_rates(MN,U2,dipole):\n",
    "    return gamma_nu_e_e_dipole(MN,dipole)/gamma_Z(MN,U2)\n"
   ]
  },
  {
   "cell_type": "code",
   "execution_count": 179,
   "id": "oriental-wings",
   "metadata": {},
   "outputs": [
    {
     "data": {
      "image/png": "[encoded data removed]",
      "text/plain": [
       "<Figure size 319.68x238.059 with 1 Axes>"
      ]
     },
     "metadata": {
      "needs_background": "light"
     },
     "output_type": "display_data"
    }
   ],
   "source": [
    "dij = 1e-7\n",
    "fig = plt.figure()\n",
    "ax = fig.add_axes(axes_form)\n",
    "ax.patch.set_facecolor('None')\n",
    "\n",
    "# Kelly Machado \n",
    "mbound,ubound = np.genfromtxt('digitized/muboone_kelly_machado/PS_eff_scalar.dat',unpack=True)\n",
    "plt.plot(mbound/1e3,ubound, c='black', lw=2, ls='-', label='$\\mu$BooNE')\n",
    "plt.plot(mbound/1e3,ubound/np.sqrt(ratio_of_rates(mbound/1e3,ubound, dij)), c='black', lw=2, ls='--')\n",
    "# plt.plot(mbound/1e3,1e-2/ratio_of_lifetimes(mbound/1e3,ubound, dij), c='black', lw=2, ls=':', label='$\\mu$BooNE + $d$')\n",
    "\n",
    "# mbound,ubound = np.genfromtxt('digitized/muboone_kelly_machado/PS_eff_avg.dat',unpack=True)\n",
    "# plt.plot(mbound/1e3,ubound, c='green', lw=2, ls='--', label='Kelly \\& Machado')\n",
    "\n",
    "\n",
    "## PS191\n",
    "x = np.logspace(np.log10(10),np.log10(300), 1000, endpoint=True)\n",
    "\n",
    "this_file = 'Nlimits/digitized/PS-191/UeUmu_K.dat'\n",
    "m4, Umu4sq = np.genfromtxt(this_file, unpack=True)\n",
    "fK = interpolate.interp1d(m4, Umu4sq, kind='linear', bounds_error=False, fill_value=1, assume_sorted=False)    \n",
    "this_file = 'Nlimits/digitized/PS-191/UeUmu_pi.dat'\n",
    "m4, Umu4sq = np.genfromtxt(this_file, unpack=True)\n",
    "fpi = interpolate.interp1d(m4, Umu4sq, kind='linear', bounds_error=False, fill_value=1, assume_sorted=False)    \n",
    "gL = -1/2 + 0.223\n",
    "gR = 0.22343\n",
    "scaling = np.sqrt(gL**2 +gR**2 + gR*gL)\n",
    "combined = np.amin([fK(x),fpi(x)],axis=0)\n",
    "NBAKGS = 30\n",
    "lower_line = combined/scaling\n",
    "sqrtN_line = combined/scaling*np.sqrt(np.sqrt(NBAKGS)/2.3)\n",
    "N_line = combined/scaling*np.sqrt(np.sqrt(NBAKGS**2)/2.3)\n",
    "\n",
    "units = 1e-3\n",
    "ax.plot(x*units, lower_line, color='dodgerblue', ls='-', label=fr'PS-191')\n",
    "\n",
    "plt.plot(x*units,lower_line/np.sqrt(ratio_of_rates(x*units,lower_line, dij)), c='dodgerblue', lw=2, ls='--')\n",
    "# plt.plot(x*units,1e-2/(ratio_of_lifetimes(x*units,lower_line,dij)), c='dodgerblue', lw=2, ls='--', label='PS-191 + $d$')\n",
    "\n",
    "mbound,ubound = np.genfromtxt('digitized/Boyarsky_et_al/BBN_Umu4_lower_bound.dat',unpack=True)\n",
    "plt.fill_between(mbound,ubound/ratio_of_lifetimes(mbound,ubound,dij), 0*ubound, fc='firebrick')\n",
    "plt.plot(mbound,ubound, c='red',lw=0.5)\n",
    "\n",
    "\n",
    "# lifetime curves \n",
    "# Xi,Yi,Zi=interp_grid(x=m4_grid, y=usqr_grid , z=ctauZ, fine_gridx=gridx, fine_gridy=gridy, log=True)\n",
    "# level_0 = ax.contour(Xi, Yi, Zi, levels = [280e2], colors=['gold']) #NEW CONSTRAINT\n",
    "\n",
    "Xi,Yi,Zi=interp_grid(x=m4_grid, y=usqr_grid , z=ctaudipole, fine_gridx=gridx, fine_gridy=gridy, log=True)\n",
    "level_0 = ax.contourf(Xi, Yi, Zi, levels = [0,128e2/40,400e2/20], colors=['black','dodgerblue'], alpha=0.2) #NEW CONSTRAINT\n",
    "# level_0 = ax.contour(m4_grid, usqr_grid, ctaudipole, levels = [280e2/40], colors=['gold']) #NEW CONSTRAINT\n",
    "\n",
    "\n",
    "# x=np.logspace(-2,1,100)\n",
    "# mnu=0.05e-9\n",
    "# plt.plot(x, mnu/x)\n",
    "\n",
    "ax.set_yscale(\"log\")\n",
    "# ax.set_xscale(\"log\")\n",
    "\n",
    "ax.set_ylabel(\"$|U_{\\mu 4}|^2$\")\n",
    "ax.set_xlabel(\"$m_4/$GeV\")\n",
    "\n",
    "ax.legend(loc='upper right', frameon=False, ncol=1)\n",
    "ax.set_ylim(1e-15,1e-2)\n",
    "ax.set_xlim(2e-2,0.5)\n",
    "fig.savefig('plots/T2K_bound.png',dpi=400)"
   ]
  },
  {
   "cell_type": "code",
   "execution_count": null,
   "id": "loaded-penalty",
   "metadata": {},
   "outputs": [],
   "source": []
  }
 ],
 "metadata": {
  "kernelspec": {
   "display_name": "Python 3",
   "language": "python",
   "name": "python3"
  },
  "language_info": {
   "codemirror_mode": {
    "name": "ipython",
    "version": 3
   },
   "file_extension": ".py",
   "mimetype": "text/x-python",
   "name": "python",
   "nbconvert_exporter": "python",
   "pygments_lexer": "ipython3",
   "version": "3.9.5"
  }
 },
 "nbformat": 4,
 "nbformat_minor": 5
}
