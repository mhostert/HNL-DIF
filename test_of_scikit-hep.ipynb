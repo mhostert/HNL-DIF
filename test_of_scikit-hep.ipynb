{
 "cells": [
  {
   "cell_type": "code",
   "execution_count": 4,
   "id": "straight-newman",
   "metadata": {},
   "outputs": [],
   "source": [
    "import vector\n",
    "import numpy as np\n",
    "import awkward as ak  # at least version 1.2.0\n",
    "import numba as nb"
   ]
  },
  {
   "cell_type": "code",
   "execution_count": 5,
   "id": "following-contemporary",
   "metadata": {},
   "outputs": [],
   "source": [
    "from particle import Particle\n",
    "from particle import literals as lp"
   ]
  },
  {
   "cell_type": "code",
   "execution_count": 6,
   "id": "addressed-phrase",
   "metadata": {},
   "outputs": [],
   "source": [
    "from particle.shared_literals import common_particles\n",
    "\n",
    "lookup=[]\n",
    "for item in common_particles:\n",
    "    lookup.append([item, Particle.from_pdgid(common_particles[item]).name, common_particles[item]])\n",
    "\n",
    "lookup = np.array(lookup)\n",
    "np.savetxt(\"literals_for_particles.dat\", lookup, fmt = '%s', delimiter='\\t')"
   ]
  },
  {
   "cell_type": "code",
   "execution_count": 21,
   "id": "aboriginal-immigration",
   "metadata": {},
   "outputs": [],
   "source": [
    "from particle import *\n",
    "from particle.pdgid import *"
   ]
  },
  {
   "cell_type": "code",
   "execution_count": 22,
   "id": "answering-tracy",
   "metadata": {},
   "outputs": [
    {
     "data": {
      "text/plain": [
       "0.5109989461"
      ]
     },
     "execution_count": 22,
     "metadata": {},
     "output_type": "execute_result"
    }
   ],
   "source": [
    "lp.e_minus.mass"
   ]
  },
  {
   "cell_type": "code",
   "execution_count": 23,
   "id": "known-hazard",
   "metadata": {},
   "outputs": [
    {
     "data": {
      "text/plain": [
       "<PDGID: 15>"
      ]
     },
     "execution_count": 23,
     "metadata": {},
     "output_type": "execute_result"
    }
   ],
   "source": [
    "lp.tau_minus.pdgid"
   ]
  },
  {
   "cell_type": "code",
   "execution_count": 24,
   "id": "laughing-differential",
   "metadata": {},
   "outputs": [
    {
     "data": {
      "text/plain": [
       "-1"
      ]
     },
     "execution_count": 24,
     "metadata": {},
     "output_type": "execute_result"
    }
   ],
   "source": [
    "np.abs(lp.tau_minus.pdgid) - np.abs(lp.nu_tau.pdgid)"
   ]
  },
  {
   "cell_type": "code",
   "execution_count": 25,
   "id": "sacred-forest",
   "metadata": {},
   "outputs": [
    {
     "name": "stdout",
     "output_type": "stream",
     "text": [
      "The autoreload extension is already loaded. To reload it, use:\n",
      "  %reload_ext autoreload\n"
     ]
    }
   ],
   "source": [
    "%load_ext autoreload\n",
    "%autoreload 2"
   ]
  },
  {
   "cell_type": "code",
   "execution_count": 26,
   "id": "removed-estonia",
   "metadata": {},
   "outputs": [],
   "source": [
    "from HNL_MC import *\n",
    "from HNL_MC import hnl_flux_gen as Nflux"
   ]
  },
  {
   "cell_type": "code",
   "execution_count": 44,
   "id": "respective-involvement",
   "metadata": {},
   "outputs": [
    {
     "data": {
      "text/plain": [
       "False"
      ]
     },
     "execution_count": 44,
     "metadata": {},
     "output_type": "execute_result"
    }
   ],
   "source": [
    "const.in_same_doublet(lp.nu_tau_bar,lp.mu_minus)"
   ]
  },
  {
   "cell_type": "code",
   "execution_count": 54,
   "id": "pleased-saudi",
   "metadata": {},
   "outputs": [
    {
     "data": {
      "text/plain": [
       "0"
      ]
     },
     "execution_count": 54,
     "metadata": {},
     "output_type": "execute_result"
    }
   ],
   "source": [
    "lp.mu_minus.rank"
   ]
  },
  {
   "cell_type": "code",
   "execution_count": 48,
   "id": "antique-trick",
   "metadata": {},
   "outputs": [
    {
     "data": {
      "text/plain": [
       "134.9768"
      ]
     },
     "execution_count": 48,
     "metadata": {},
     "output_type": "execute_result"
    }
   ],
   "source": [
    "lp.pi_0.mass"
   ]
  },
  {
   "cell_type": "code",
   "execution_count": 51,
   "id": "limiting-luxury",
   "metadata": {},
   "outputs": [
    {
     "data": {
      "text/plain": [
       "7.73e-06"
      ]
     },
     "execution_count": 51,
     "metadata": {},
     "output_type": "execute_result"
    }
   ],
   "source": [
    "lp.pi_0.width"
   ]
  },
  {
   "cell_type": "code",
   "execution_count": 60,
   "id": "former-burke",
   "metadata": {},
   "outputs": [
    {
     "data": {
      "text/plain": [
       "12"
      ]
     },
     "execution_count": 60,
     "metadata": {},
     "output_type": "execute_result"
    }
   ],
   "source": [
    "lp.nu_e_bar.pdgid.abspid"
   ]
  },
  {
   "cell_type": "code",
   "execution_count": 72,
   "id": "respective-purse",
   "metadata": {},
   "outputs": [
    {
     "name": "stdout",
     "output_type": "stream",
     "text": [
      "C\n",
      "G\n",
      "I\n",
      "J\n",
      "L\n",
      "P\n",
      "S\n",
      "_charge_in_name\n",
      "_from_group_dict_list\n",
      "_repr_latex_\n",
      "_str_charge\n",
      "_str_mass\n",
      "_table\n",
      "_table_names\n",
      "_three_charge\n",
      "_width_or_lifetime\n",
      "all\n",
      "anti_flag\n",
      "charge\n",
      "ctau\n",
      "describe\n",
      "empty\n",
      "evtgen_name\n",
      "find\n",
      "findall\n",
      "from_evtgen_name\n",
      "from_pdgid\n",
      "from_string\n",
      "from_string_list\n",
      "html_name\n",
      "invert\n",
      "is_name_barred\n",
      "is_self_conjugate\n",
      "is_unflavoured_meson\n",
      "latex_name\n",
      "lifetime\n",
      "load_table\n",
      "mass\n",
      "mass_lower\n",
      "mass_upper\n",
      "name\n",
      "pdg_name\n",
      "pdgid\n",
      "programmatic_name\n",
      "quarks\n",
      "rank\n",
      "spin_type\n",
      "status\n",
      "table_loaded\n",
      "table_names\n",
      "three_charge\n",
      "to_dict\n",
      "to_list\n",
      "width\n",
      "width_lower\n",
      "width_upper\n"
     ]
    }
   ],
   "source": [
    "for att in dir(lp.nu_e):\n",
    "    if not att.startswith('__'):   \n",
    "        print(att)"
   ]
  },
  {
   "cell_type": "code",
   "execution_count": 89,
   "id": "superior-oxford",
   "metadata": {},
   "outputs": [
    {
     "name": "stdout",
     "output_type": "stream",
     "text": [
      "C\n",
      "G\n",
      "I\n",
      "J\n",
      "L\n",
      "P\n",
      "S\n",
      "_charge_in_name\n",
      "_from_group_dict_list\n",
      "_repr_latex_\n",
      "_str_charge\n",
      "_str_mass\n",
      "_table\n",
      "_table_names\n",
      "_three_charge\n",
      "_width_or_lifetime\n",
      "all\n",
      "anti_flag\n",
      "charge\n",
      "ctau\n",
      "describe\n",
      "empty\n",
      "evtgen_name\n",
      "find\n",
      "findall\n",
      "from_evtgen_name\n",
      "from_pdgid\n",
      "from_string\n",
      "from_string_list\n",
      "html_name\n",
      "invert\n",
      "is_name_barred\n",
      "is_self_conjugate\n",
      "is_unflavoured_meson\n",
      "latex_name\n",
      "lifetime\n",
      "load_table\n",
      "mass\n",
      "mass_lower\n",
      "mass_upper\n",
      "name\n",
      "pdg_name\n",
      "pdgid\n",
      "programmatic_name\n",
      "quarks\n",
      "rank\n",
      "spin_type\n",
      "status\n",
      "table_loaded\n",
      "table_names\n",
      "three_charge\n",
      "to_dict\n",
      "to_list\n",
      "width\n",
      "width_lower\n",
      "width_upper\n"
     ]
    }
   ],
   "source": [
    "for att in dir(Particle):\n",
    "    if not att.startswith('__'):   \n",
    "        print(att)"
   ]
  },
  {
   "cell_type": "code",
   "execution_count": 91,
   "id": "british-herald",
   "metadata": {},
   "outputs": [],
   "source": [
    "from hepunits import constants as const\n",
    "from hepunits import units as u"
   ]
  },
  {
   "cell_type": "code",
   "execution_count": 98,
   "id": "proper-design",
   "metadata": {},
   "outputs": [
    {
     "data": {
      "text/plain": [
       "299792458.0"
      ]
     },
     "execution_count": 98,
     "metadata": {},
     "output_type": "execute_result"
    }
   ],
   "source": [
    "const.c_light/u.meter*u.s"
   ]
  },
  {
   "cell_type": "code",
   "execution_count": 101,
   "id": "italian-static",
   "metadata": {},
   "outputs": [
    {
     "name": "stdout",
     "output_type": "stream",
     "text": [
      "Avogadro\n",
      "absolute_import\n",
      "c_light\n",
      "c_light_sq\n",
      "e_sq\n",
      "eminus\n",
      "eplus\n",
      "h_Planck\n",
      "half_pi\n",
      "hbar\n",
      "hbar_Planck\n",
      "hbarc\n",
      "hbarc_sq\n",
      "joule\n",
      "k_Boltzmann\n",
      "kelvin\n",
      "m\n",
      "mole\n",
      "pi\n",
      "pi_sq\n",
      "s\n",
      "two_pi\n"
     ]
    }
   ],
   "source": [
    "for att in dir(const):\n",
    "    if not att.startswith('__'):   \n",
    "        print(att)"
   ]
  },
  {
   "cell_type": "code",
   "execution_count": null,
   "id": "beginning-calculator",
   "metadata": {},
   "outputs": [],
   "source": []
  }
 ],
 "metadata": {
  "kernelspec": {
   "display_name": "Python 3",
   "language": "python",
   "name": "python3"
  },
  "language_info": {
   "codemirror_mode": {
    "name": "ipython",
    "version": 3
   },
   "file_extension": ".py",
   "mimetype": "text/x-python",
   "name": "python",
   "nbconvert_exporter": "python",
   "pygments_lexer": "ipython3",
   "version": "3.9.5"
  }
 },
 "nbformat": 4,
 "nbformat_minor": 5
}
